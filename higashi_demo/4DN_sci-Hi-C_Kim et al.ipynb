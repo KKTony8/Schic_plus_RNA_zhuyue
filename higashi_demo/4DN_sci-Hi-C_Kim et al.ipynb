{
 "cells": [
  {
   "cell_type": "markdown",
   "metadata": {},
   "source": [
    "# 4DN sci-Hi-C cell line clustering"
   ]
  },
  {
   "cell_type": "markdown",
   "metadata": {},
   "source": [
    "## Notes\n",
    "\n",
    "跑之前请先配置好五个文件:config_4DN_Kim.JSON，labels_info.pickle，data.txt, hg19.chrom.sizes.txt, cytoBand_hg19.txt\n",
    "This tutorial uses the new API of Higashi (wrapping all functions of Higashi into the Higashi() class).\n",
    "The old API of Higashi will still be supported and maintained).\n",
    "Please check changelog for the current status of migration from the old API to the new API."
   ]
  },
  {
   "cell_type": "markdown",
   "metadata": {},
   "source": [
    "## Start running Higashi"
   ]
  },
  {
   "cell_type": "markdown",
   "metadata": {},
   "source": [
    "### 1. Import package, set the path to the configuration JSON file."
   ]
  },
  {
   "cell_type": "code",
   "execution_count": 1,
   "metadata": {},
   "outputs": [],
   "source": [
    "from higashi.Higashi_wrapper import *\n",
    "# Set the path to the configuration file, change it accordingly\n",
    "config = \"../config_dir/config_4DN_pub.JSON\""
   ]
  },
  {
   "cell_type": "markdown",
   "metadata": {},
   "source": [
    "### 2. Process data for higashi model & prep the higashi model for training and imputation"
   ]
  },
  {
   "cell_type": "code",
   "execution_count": 3,
   "metadata": {},
   "outputs": [
    {
     "name": "stdout",
     "output_type": "stream",
     "text": [
      "generating start/end dict for chromosome\n",
      "extracting from data.txt\n",
      "First calculating how many lines are there\n",
      "There are 103497337 lines\n"
     ]
    },
    {
     "data": {
      "application/vnd.jupyter.widget-view+json": {
       "model_id": "6bbbd1e5b50c4a04a27fdf107a7eff19",
       "version_major": 2,
       "version_minor": 0
      },
      "text/plain": [
       " - Processing :   0%|          | 0/103497337 [00:00<?, ?it/s]"
      ]
     },
     "metadata": {},
     "output_type": "display_data"
    },
    {
     "name": "stdout",
     "output_type": "stream",
     "text": [
      "generating contact maps for baseline\n",
      "data loaded\n",
      "generating interchromosomal contacts\n",
      "[[ 9732  9732  9732 ... 16176 16176 16176]\n",
      " [   48    62   136 ...  5638  5658  5669]\n",
      " [  641   881   949 ...  5772  5771  5773]] 5776 [  0   0 499] [16706  5672  5775]\n",
      "(16707, 5776, 5776)\n"
     ]
    },
    {
     "data": {
      "application/vnd.jupyter.widget-view+json": {
       "model_id": "52e1b07219e34dfc9e31d3eaf28e196d",
       "version_major": 2,
       "version_minor": 0
      },
      "text/plain": [
       "  0%|          | 0/16707 [00:00<?, ?it/s]"
      ]
     },
     "metadata": {},
     "output_type": "display_data"
    },
    {
     "data": {
      "application/vnd.jupyter.widget-view+json": {
       "model_id": "2ad397ec53844b9494083795ab4570e0",
       "version_major": 2,
       "version_minor": 0
      },
      "text/plain": [
       "  0%|          | 0/22 [00:00<?, ?it/s]"
      ]
     },
     "metadata": {},
     "output_type": "display_data"
    },
    {
     "name": "stdout",
     "output_type": "stream",
     "text": [
      "77689731 False\n",
      "chr1 split_num 2\n",
      "chr2 split_num 2\n",
      "chr3 split_num 1\n",
      "chr4 split_num 1\n",
      "chr5 split_num 1\n",
      "chr6 split_num 1\n",
      "chr7 split_num 1\n",
      "chr8 split_num 1\n",
      "chr9 split_num 1\n",
      "chr10 split_num 1\n",
      "chr11 split_num 1\n",
      "chr12 split_num 1\n"
     ]
    },
    {
     "data": {
      "application/vnd.jupyter.widget-view+json": {
       "model_id": "1e2c6433ba7c4753a8014145aa5023f9",
       "version_major": 2,
       "version_minor": 0
      },
      "text/plain": [
       "creating matrices tasks:   0%|          | 0/24 [00:00<?, ?it/s]"
      ]
     },
     "metadata": {},
     "output_type": "display_data"
    },
    {
     "name": "stdout",
     "output_type": "stream",
     "text": [
      "total_feats_size 2400\n"
     ]
    },
    {
     "data": {
      "application/vnd.jupyter.widget-view+json": {
       "model_id": "bc28d900c08140c192da5067991b5c6f",
       "version_major": 2,
       "version_minor": 0
      },
      "text/plain": [
       "  0%|          | 0/22 [00:00<?, ?it/s]"
      ]
     },
     "metadata": {},
     "output_type": "display_data"
    },
    {
     "name": "stdout",
     "output_type": "stream",
     "text": [
      "cpu_num 64\n",
      "setting to gpu:0\n",
      "training on data from: ['chr1', 'chr2', 'chr3', 'chr4', 'chr5', 'chr6', 'chr7', 'chr8', 'chr9', 'chr10', 'chr11', 'chr12', 'chr13', 'chr14', 'chr15', 'chr16', 'chr17', 'chr18', 'chr19', 'chr20', 'chr21', 'chr22']\n",
      "total_sparsity_cell 0.012761184803150997\n",
      "no contractive loss\n",
      "batch_size 1280\n",
      "Node type num [16707   499   487   397   383   362   343   319   293   283   272   271\n",
      "   268   231   215   206   181   163   157   119   127    97   103] [16707 17206 17693 18090 18473 18835 19178 19497 19790 20073 20345 20616\n",
      " 20884 21115 21330 21536 21717 21880 22037 22156 22283 22380 22483]\n",
      "start making attribute\n"
     ]
    },
    {
     "data": {
      "application/vnd.jupyter.widget-view+json": {
       "model_id": "789ffc2232694287a0ee648670e5e423",
       "version_major": 2,
       "version_minor": 0
      },
      "text/plain": [
       "  0%|          | 0/300 [00:01<?, ?it/s]"
      ]
     },
     "metadata": {},
     "output_type": "display_data"
    },
    {
     "name": "stdout",
     "output_type": "stream",
     "text": [
      "loss 0.9046958088874817 loss best 0.859592080116272 epochs 125\n",
      "\n",
      "initializing data generator\n"
     ]
    },
    {
     "data": {
      "application/vnd.jupyter.widget-view+json": {
       "model_id": "51b5bab74f9e468fabcc0a203d58d2d8",
       "version_major": 2,
       "version_minor": 0
      },
      "text/plain": [
       "  0%|          | 0/22 [00:00<?, ?it/s]"
      ]
     },
     "metadata": {},
     "output_type": "display_data"
    },
    {
     "name": "stdout",
     "output_type": "stream",
     "text": [
      "initializing data generator\n"
     ]
    },
    {
     "data": {
      "application/vnd.jupyter.widget-view+json": {
       "model_id": "d0a114465247495ea9a1c2a42e63c2e6",
       "version_major": 2,
       "version_minor": 0
      },
      "text/plain": [
       "  0%|          | 0/22 [00:00<?, ?it/s]"
      ]
     },
     "metadata": {},
     "output_type": "display_data"
    }
   ],
   "source": [
    "from higashi.Higashi_wrapper import *\n",
    "\n",
    "\n",
    "# 配置文件绝对路径\n",
    "config = \"/data5/GPT/Wuky/Higashi/Higashi/demo_data/config_4DN_Kim.JSON\"\n",
    "\n",
    "# 初始化 Higashi\n",
    "higashi_model = Higashi(config)\n",
    "\n",
    "# 处理数据（只需要运行一次）\n",
    "higashi_model.process_data()\n",
    "\n",
    "\n",
    "\n",
    "higashi_model.prep_model()"
   ]
  },
  {
   "cell_type": "markdown",
   "metadata": {},
   "source": [
    "### 3. First stage training for embeddings"
   ]
  },
  {
   "cell_type": "code",
   "execution_count": 4,
   "metadata": {},
   "outputs": [
    {
     "name": "stdout",
     "output_type": "stream",
     "text": [
      "First stage training\n",
      "[ Epoch 0 of 80 ]\n"
     ]
    },
    {
     "data": {
      "application/vnd.jupyter.widget-view+json": {
       "model_id": "30b8851f19aa4a82a8e0f402c7225835",
       "version_major": 2,
       "version_minor": 0
      },
      "text/plain": [
       " - (Training) :   0%|          | 0/1000 [00:00<?, ?it/s]"
      ]
     },
     "metadata": {},
     "output_type": "display_data"
    },
    {
     "name": "stdout",
     "output_type": "stream",
     "text": [
      "- (Train)   bce:  0.3780, mse:  2.5091,  acc: 87.504 %, pearson: 0.577, spearman: 0.464, elapse: 65.114 s\n"
     ]
    },
    {
     "data": {
      "application/vnd.jupyter.widget-view+json": {
       "model_id": "bb7114fafe5b4da495a2d52e957f3424",
       "version_major": 2,
       "version_minor": 0
      },
      "text/plain": [
       "  - (Validation)   :   0%|          | 0/10 [00:00<?, ?it/s]"
      ]
     },
     "metadata": {},
     "output_type": "display_data"
    },
    {
     "name": "stdout",
     "output_type": "stream",
     "text": [
      "- (Valid) bce:  0.3418,  acc: 89.438 %,pearson: 0.679, spearman: 0.536,elapse: 0.145 s\n",
      "update_rate: 0.000000\t0.000000\tpair_ratio: 0.1\t\n",
      "[ Epoch 1 of 80 ]\n"
     ]
    },
    {
     "data": {
      "application/vnd.jupyter.widget-view+json": {
       "model_id": "65b4d87467e347f1b7d1e28429a481a2",
       "version_major": 2,
       "version_minor": 0
      },
      "text/plain": [
       " - (Training) :   0%|          | 0/1000 [00:00<?, ?it/s]"
      ]
     },
     "metadata": {},
     "output_type": "display_data"
    },
    {
     "name": "stdout",
     "output_type": "stream",
     "text": [
      "- (Train)   bce:  0.3454, mse:  1.0758,  acc: 89.342 %, pearson: 0.659, spearman: 0.518, elapse: 50.166 s\n"
     ]
    },
    {
     "data": {
      "application/vnd.jupyter.widget-view+json": {
       "model_id": "43cdabf6c066409d9a710a5157514815",
       "version_major": 2,
       "version_minor": 0
      },
      "text/plain": [
       "  - (Validation)   :   0%|          | 0/10 [00:00<?, ?it/s]"
      ]
     },
     "metadata": {},
     "output_type": "display_data"
    },
    {
     "name": "stdout",
     "output_type": "stream",
     "text": [
      "- (Valid) bce:  0.3356,  acc: 90.121 %,pearson: 0.690, spearman: 0.534,elapse: 0.143 s\n",
      "update_rate: 2.724339\t20.665359\tpair_ratio: 0.2\t\n",
      "[ Epoch 2 of 80 ]\n"
     ]
    },
    {
     "data": {
      "application/vnd.jupyter.widget-view+json": {
       "model_id": "5c5de05c6a504dedab90e9020147ac6b",
       "version_major": 2,
       "version_minor": 0
      },
      "text/plain": [
       " - (Training) :   0%|          | 0/1000 [00:00<?, ?it/s]"
      ]
     },
     "metadata": {},
     "output_type": "display_data"
    },
    {
     "name": "stdout",
     "output_type": "stream",
     "text": [
      "- (Train)   bce:  0.3402, mse:  1.1390,  acc: 89.649 %, pearson: 0.673, spearman: 0.524, elapse: 49.903 s\n"
     ]
    },
    {
     "data": {
      "application/vnd.jupyter.widget-view+json": {
       "model_id": "633f9bb3153e4f148e28d912e31060c0",
       "version_major": 2,
       "version_minor": 0
      },
      "text/plain": [
       "  - (Validation)   :   0%|          | 0/10 [00:00<?, ?it/s]"
      ]
     },
     "metadata": {},
     "output_type": "display_data"
    },
    {
     "name": "stdout",
     "output_type": "stream",
     "text": [
      "- (Valid) bce:  0.3388,  acc: 89.848 %,pearson: 0.683, spearman: 0.526,elapse: 0.143 s\n",
      "update_rate: 0.088930\t0.390084\tpair_ratio: 0.3\t\n",
      "[ Epoch 3 of 80 ]\n"
     ]
    },
    {
     "data": {
      "application/vnd.jupyter.widget-view+json": {
       "model_id": "bbf37dcf6f0b4f29890944d7dc67092b",
       "version_major": 2,
       "version_minor": 0
      },
      "text/plain": [
       " - (Training) :   0%|          | 0/1000 [00:00<?, ?it/s]"
      ]
     },
     "metadata": {},
     "output_type": "display_data"
    },
    {
     "name": "stdout",
     "output_type": "stream",
     "text": [
      "- (Train)   bce:  0.3384, mse:  0.9797,  acc: 89.815 %, pearson: 0.681, spearman: 0.526, elapse: 51.820 s\n"
     ]
    },
    {
     "data": {
      "application/vnd.jupyter.widget-view+json": {
       "model_id": "9557bbc83c28457b8f1fbf38e4f37d6d",
       "version_major": 2,
       "version_minor": 0
      },
      "text/plain": [
       "  - (Validation)   :   0%|          | 0/10 [00:00<?, ?it/s]"
      ]
     },
     "metadata": {},
     "output_type": "display_data"
    },
    {
     "name": "stdout",
     "output_type": "stream",
     "text": [
      "- (Valid) bce:  0.3416,  acc: 89.824 %,pearson: 0.685, spearman: 0.523,elapse: 0.149 s\n",
      "update_rate: 0.036275\t0.276727\tpair_ratio: 0.4\t\n",
      "[ Epoch 4 of 80 ]\n"
     ]
    },
    {
     "data": {
      "application/vnd.jupyter.widget-view+json": {
       "model_id": "9c357adbbe4842529708ba7126381c54",
       "version_major": 2,
       "version_minor": 0
      },
      "text/plain": [
       " - (Training) :   0%|          | 0/1000 [00:00<?, ?it/s]"
      ]
     },
     "metadata": {},
     "output_type": "display_data"
    },
    {
     "name": "stdout",
     "output_type": "stream",
     "text": [
      "- (Train)   bce:  0.3378, mse:  1.0541,  acc: 89.837 %, pearson: 0.685, spearman: 0.527, elapse: 53.600 s\n"
     ]
    },
    {
     "data": {
      "application/vnd.jupyter.widget-view+json": {
       "model_id": "599f217e8ac44bab8a8d5e8185ec0a14",
       "version_major": 2,
       "version_minor": 0
      },
      "text/plain": [
       "  - (Validation)   :   0%|          | 0/10 [00:00<?, ?it/s]"
      ]
     },
     "metadata": {},
     "output_type": "display_data"
    },
    {
     "name": "stdout",
     "output_type": "stream",
     "text": [
      "- (Valid) bce:  0.3428,  acc: 89.831 %,pearson: 0.693, spearman: 0.520,elapse: 0.137 s\n",
      "update_rate: 0.028679\t0.173577\tpair_ratio: 0.5\t\n",
      "[ Epoch 5 of 80 ]\n"
     ]
    },
    {
     "data": {
      "application/vnd.jupyter.widget-view+json": {
       "model_id": "f382f14d2de1434e878ed82354bb231c",
       "version_major": 2,
       "version_minor": 0
      },
      "text/plain": [
       " - (Training) :   0%|          | 0/1000 [00:00<?, ?it/s]"
      ]
     },
     "metadata": {},
     "output_type": "display_data"
    },
    {
     "name": "stdout",
     "output_type": "stream",
     "text": [
      "- (Train)   bce:  0.3372, mse:  1.0339,  acc: 89.877 %, pearson: 0.689, spearman: 0.528, elapse: 54.996 s\n"
     ]
    },
    {
     "data": {
      "application/vnd.jupyter.widget-view+json": {
       "model_id": "68419da34b9b42a38c93fdefb0e05079",
       "version_major": 2,
       "version_minor": 0
      },
      "text/plain": [
       "  - (Validation)   :   0%|          | 0/10 [00:00<?, ?it/s]"
      ]
     },
     "metadata": {},
     "output_type": "display_data"
    },
    {
     "name": "stdout",
     "output_type": "stream",
     "text": [
      "- (Valid) bce:  0.3432,  acc: 89.585 %,pearson: 0.676, spearman: 0.524,elapse: 0.136 s\n",
      "update_rate: 0.017548\t0.149342\t\n",
      "[ Epoch 6 of 80 ]\n"
     ]
    },
    {
     "data": {
      "application/vnd.jupyter.widget-view+json": {
       "model_id": "798c835d85c34d2ebce29eb80d8b7742",
       "version_major": 2,
       "version_minor": 0
      },
      "text/plain": [
       " - (Training) :   0%|          | 0/1000 [00:00<?, ?it/s]"
      ]
     },
     "metadata": {},
     "output_type": "display_data"
    },
    {
     "name": "stdout",
     "output_type": "stream",
     "text": [
      "- (Train)   bce:  0.3363, mse:  0.9913,  acc: 89.913 %, pearson: 0.693, spearman: 0.529, elapse: 55.223 s\n"
     ]
    },
    {
     "data": {
      "application/vnd.jupyter.widget-view+json": {
       "model_id": "288091d49177416caf8ffceb2205c1a4",
       "version_major": 2,
       "version_minor": 0
      },
      "text/plain": [
       "  - (Validation)   :   0%|          | 0/10 [00:00<?, ?it/s]"
      ]
     },
     "metadata": {},
     "output_type": "display_data"
    },
    {
     "name": "stdout",
     "output_type": "stream",
     "text": [
      "- (Valid) bce:  0.3443,  acc: 89.557 %,pearson: 0.699, spearman: 0.516,elapse: 0.136 s\n",
      "update_rate: 0.013688\t0.194163\t\n",
      "[ Epoch 7 of 80 ]\n"
     ]
    },
    {
     "data": {
      "application/vnd.jupyter.widget-view+json": {
       "model_id": "a0db6e9ac03544fd9ce71ae354471cbd",
       "version_major": 2,
       "version_minor": 0
      },
      "text/plain": [
       " - (Training) :   0%|          | 0/1000 [00:00<?, ?it/s]"
      ]
     },
     "metadata": {},
     "output_type": "display_data"
    },
    {
     "name": "stdout",
     "output_type": "stream",
     "text": [
      "- (Train)   bce:  0.3349, mse:  1.0055,  acc: 89.967 %, pearson: 0.699, spearman: 0.530, elapse: 52.962 s\n"
     ]
    },
    {
     "data": {
      "application/vnd.jupyter.widget-view+json": {
       "model_id": "31fc36a708c9454985fb1db75441e169",
       "version_major": 2,
       "version_minor": 0
      },
      "text/plain": [
       "  - (Validation)   :   0%|          | 0/10 [00:00<?, ?it/s]"
      ]
     },
     "metadata": {},
     "output_type": "display_data"
    },
    {
     "name": "stdout",
     "output_type": "stream",
     "text": [
      "- (Valid) bce:  0.3399,  acc: 89.704 %,pearson: 0.709, spearman: 0.525,elapse: 0.145 s\n",
      "update_rate: 0.016801\t0.126199\t\n",
      "[ Epoch 8 of 80 ]\n"
     ]
    },
    {
     "data": {
      "application/vnd.jupyter.widget-view+json": {
       "model_id": "de02367ca7094f888623cbd83b8c2c9a",
       "version_major": 2,
       "version_minor": 0
      },
      "text/plain": [
       " - (Training) :   0%|          | 0/1000 [00:00<?, ?it/s]"
      ]
     },
     "metadata": {},
     "output_type": "display_data"
    },
    {
     "name": "stdout",
     "output_type": "stream",
     "text": [
      "- (Train)   bce:  0.3352, mse:  0.9855,  acc: 89.960 %, pearson: 0.703, spearman: 0.530, elapse: 53.804 s\n"
     ]
    },
    {
     "data": {
      "application/vnd.jupyter.widget-view+json": {
       "model_id": "24414e52a41b4ee8a038a0a0b72c6a3c",
       "version_major": 2,
       "version_minor": 0
      },
      "text/plain": [
       "  - (Validation)   :   0%|          | 0/10 [00:00<?, ?it/s]"
      ]
     },
     "metadata": {},
     "output_type": "display_data"
    },
    {
     "name": "stdout",
     "output_type": "stream",
     "text": [
      "- (Valid) bce:  0.3329,  acc: 90.118 %,pearson: 0.709, spearman: 0.537,elapse: 0.135 s\n",
      "update_rate: 0.010139\t0.143275\t\n",
      "[ Epoch 9 of 80 ]\n"
     ]
    },
    {
     "data": {
      "application/vnd.jupyter.widget-view+json": {
       "model_id": "c6d6a2a507c549fea25bb2853418b95d",
       "version_major": 2,
       "version_minor": 0
      },
      "text/plain": [
       " - (Training) :   0%|          | 0/1000 [00:00<?, ?it/s]"
      ]
     },
     "metadata": {},
     "output_type": "display_data"
    },
    {
     "name": "stdout",
     "output_type": "stream",
     "text": [
      "- (Train)   bce:  0.3334, mse:  1.1081,  acc: 90.038 %, pearson: 0.706, spearman: 0.533, elapse: 54.378 s\n"
     ]
    },
    {
     "data": {
      "application/vnd.jupyter.widget-view+json": {
       "model_id": "f12b9ab7bc46441abe0085e06991e892",
       "version_major": 2,
       "version_minor": 0
      },
      "text/plain": [
       "  - (Validation)   :   0%|          | 0/10 [00:00<?, ?it/s]"
      ]
     },
     "metadata": {},
     "output_type": "display_data"
    },
    {
     "name": "stdout",
     "output_type": "stream",
     "text": [
      "- (Valid) bce:  0.3437,  acc: 89.655 %,pearson: 0.689, spearman: 0.518,elapse: 0.138 s\n",
      "update_rate: 0.005234\t0.074660\t\n",
      "[ Epoch 10 of 80 ]\n"
     ]
    },
    {
     "data": {
      "application/vnd.jupyter.widget-view+json": {
       "model_id": "170b128d42fd4a0eb46a787b955e567e",
       "version_major": 2,
       "version_minor": 0
      },
      "text/plain": [
       " - (Training) :   0%|          | 0/1000 [00:00<?, ?it/s]"
      ]
     },
     "metadata": {},
     "output_type": "display_data"
    },
    {
     "name": "stdout",
     "output_type": "stream",
     "text": [
      "- (Train)   bce:  0.3340, mse:  1.0554,  acc: 90.011 %, pearson: 0.710, spearman: 0.532, elapse: 54.662 s\n"
     ]
    },
    {
     "data": {
      "application/vnd.jupyter.widget-view+json": {
       "model_id": "9d6458982c01443abd53aa5b6a964ec5",
       "version_major": 2,
       "version_minor": 0
      },
      "text/plain": [
       "  - (Validation)   :   0%|          | 0/10 [00:00<?, ?it/s]"
      ]
     },
     "metadata": {},
     "output_type": "display_data"
    },
    {
     "name": "stdout",
     "output_type": "stream",
     "text": [
      "- (Valid) bce:  0.3307,  acc: 90.206 %,pearson: 0.708, spearman: 0.536,elapse: 0.141 s\n",
      "update_rate: 0.012554\t0.126075\t\n",
      "[ Epoch 11 of 80 ]\n"
     ]
    },
    {
     "data": {
      "application/vnd.jupyter.widget-view+json": {
       "model_id": "d6c0c852e08a4f9996c524529978edfe",
       "version_major": 2,
       "version_minor": 0
      },
      "text/plain": [
       " - (Training) :   0%|          | 0/1000 [00:00<?, ?it/s]"
      ]
     },
     "metadata": {},
     "output_type": "display_data"
    },
    {
     "name": "stdout",
     "output_type": "stream",
     "text": [
      "- (Train)   bce:  0.3339, mse:  1.0287,  acc: 90.047 %, pearson: 0.712, spearman: 0.532, elapse: 55.376 s\n"
     ]
    },
    {
     "data": {
      "application/vnd.jupyter.widget-view+json": {
       "model_id": "e396b0df08c441baa9cecc2017730697",
       "version_major": 2,
       "version_minor": 0
      },
      "text/plain": [
       "  - (Validation)   :   0%|          | 0/10 [00:00<?, ?it/s]"
      ]
     },
     "metadata": {},
     "output_type": "display_data"
    },
    {
     "name": "stdout",
     "output_type": "stream",
     "text": [
      "- (Valid) bce:  0.3374,  acc: 90.018 %,pearson: 0.695, spearman: 0.525,elapse: 0.140 s\n",
      "update_rate: 0.005727\t0.091236\t\n",
      "[ Epoch 12 of 80 ]\n"
     ]
    },
    {
     "data": {
      "application/vnd.jupyter.widget-view+json": {
       "model_id": "6fcda47934b04b5b822c5ecad95a1087",
       "version_major": 2,
       "version_minor": 0
      },
      "text/plain": [
       " - (Training) :   0%|          | 0/1000 [00:00<?, ?it/s]"
      ]
     },
     "metadata": {},
     "output_type": "display_data"
    },
    {
     "name": "stdout",
     "output_type": "stream",
     "text": [
      "- (Train)   bce:  0.3337, mse:  1.0114,  acc: 90.020 %, pearson: 0.711, spearman: 0.532, elapse: 55.084 s\n"
     ]
    },
    {
     "data": {
      "application/vnd.jupyter.widget-view+json": {
       "model_id": "fff8ae3e5bb54b1cb8808af1afbda13d",
       "version_major": 2,
       "version_minor": 0
      },
      "text/plain": [
       "  - (Validation)   :   0%|          | 0/10 [00:00<?, ?it/s]"
      ]
     },
     "metadata": {},
     "output_type": "display_data"
    },
    {
     "name": "stdout",
     "output_type": "stream",
     "text": [
      "- (Valid) bce:  0.3439,  acc: 89.823 %,pearson: 0.710, spearman: 0.518,elapse: 0.136 s\n",
      "update_rate: 0.004716\t0.095727\t\n",
      "[ Epoch 13 of 80 ]\n"
     ]
    },
    {
     "data": {
      "application/vnd.jupyter.widget-view+json": {
       "model_id": "fa2ab9dddfc2470dac8e192c398f6ec6",
       "version_major": 2,
       "version_minor": 0
      },
      "text/plain": [
       " - (Training) :   0%|          | 0/1000 [00:00<?, ?it/s]"
      ]
     },
     "metadata": {},
     "output_type": "display_data"
    },
    {
     "name": "stdout",
     "output_type": "stream",
     "text": [
      "- (Train)   bce:  0.3318, mse:  1.4341,  acc: 90.100 %, pearson: 0.717, spearman: 0.535, elapse: 55.008 s\n"
     ]
    },
    {
     "data": {
      "application/vnd.jupyter.widget-view+json": {
       "model_id": "3cfd3f84373946218daa6c3fb823542a",
       "version_major": 2,
       "version_minor": 0
      },
      "text/plain": [
       "  - (Validation)   :   0%|          | 0/10 [00:00<?, ?it/s]"
      ]
     },
     "metadata": {},
     "output_type": "display_data"
    },
    {
     "name": "stdout",
     "output_type": "stream",
     "text": [
      "- (Valid) bce:  0.3270,  acc: 90.208 %,pearson: 0.730, spearman: 0.545,elapse: 0.138 s\n",
      "update_rate: 0.005778\t0.100245\t\n",
      "[ Epoch 14 of 80 ]\n"
     ]
    },
    {
     "data": {
      "application/vnd.jupyter.widget-view+json": {
       "model_id": "a1467023d4a84b0c8edd5021d7ad4efa",
       "version_major": 2,
       "version_minor": 0
      },
      "text/plain": [
       " - (Training) :   0%|          | 0/1000 [00:00<?, ?it/s]"
      ]
     },
     "metadata": {},
     "output_type": "display_data"
    },
    {
     "name": "stdout",
     "output_type": "stream",
     "text": [
      "- (Train)   bce:  0.3324, mse:  1.0914,  acc: 90.103 %, pearson: 0.715, spearman: 0.534, elapse: 54.876 s\n"
     ]
    },
    {
     "data": {
      "application/vnd.jupyter.widget-view+json": {
       "model_id": "60f9c50a7ced4afda0d2bf869dfd3169",
       "version_major": 2,
       "version_minor": 0
      },
      "text/plain": [
       "  - (Validation)   :   0%|          | 0/10 [00:00<?, ?it/s]"
      ]
     },
     "metadata": {},
     "output_type": "display_data"
    },
    {
     "name": "stdout",
     "output_type": "stream",
     "text": [
      "- (Valid) bce:  0.3281,  acc: 90.264 %,pearson: 0.722, spearman: 0.542,elapse: 0.139 s\n",
      "update_rate: 0.004415\t0.080327\t\n",
      "[ Epoch 15 of 80 ]\n"
     ]
    },
    {
     "data": {
      "application/vnd.jupyter.widget-view+json": {
       "model_id": "9fb19ca470a44d0e8fc312f205550a51",
       "version_major": 2,
       "version_minor": 0
      },
      "text/plain": [
       " - (Training) :   0%|          | 0/1000 [00:00<?, ?it/s]"
      ]
     },
     "metadata": {},
     "output_type": "display_data"
    },
    {
     "name": "stdout",
     "output_type": "stream",
     "text": [
      "- (Train)   bce:  0.3323, mse:  1.0896,  acc: 90.101 %, pearson: 0.716, spearman: 0.534, elapse: 54.690 s\n"
     ]
    },
    {
     "data": {
      "application/vnd.jupyter.widget-view+json": {
       "model_id": "5afad4f2dcc643f9b49b1478c8412621",
       "version_major": 2,
       "version_minor": 0
      },
      "text/plain": [
       "  - (Validation)   :   0%|          | 0/10 [00:00<?, ?it/s]"
      ]
     },
     "metadata": {},
     "output_type": "display_data"
    },
    {
     "name": "stdout",
     "output_type": "stream",
     "text": [
      "- (Valid) bce:  0.3352,  acc: 90.064 %,pearson: 0.741, spearman: 0.533,elapse: 0.137 s\n",
      "update_rate: 0.004288\t0.127188\t\n",
      "[ Epoch 16 of 80 ]\n"
     ]
    },
    {
     "data": {
      "application/vnd.jupyter.widget-view+json": {
       "model_id": "607d64d4b1de443cae036a0412dfa3bf",
       "version_major": 2,
       "version_minor": 0
      },
      "text/plain": [
       " - (Training) :   0%|          | 0/1000 [00:00<?, ?it/s]"
      ]
     },
     "metadata": {},
     "output_type": "display_data"
    },
    {
     "name": "stdout",
     "output_type": "stream",
     "text": [
      "- (Train)   bce:  0.3330, mse:  1.7433,  acc: 90.064 %, pearson: 0.715, spearman: 0.533, elapse: 53.206 s\n"
     ]
    },
    {
     "data": {
      "application/vnd.jupyter.widget-view+json": {
       "model_id": "7c6560feddfd461892c1a4ea0e965701",
       "version_major": 2,
       "version_minor": 0
      },
      "text/plain": [
       "  - (Validation)   :   0%|          | 0/10 [00:00<?, ?it/s]"
      ]
     },
     "metadata": {},
     "output_type": "display_data"
    },
    {
     "name": "stdout",
     "output_type": "stream",
     "text": [
      "- (Valid) bce:  0.3263,  acc: 90.383 %,pearson: 0.721, spearman: 0.545,elapse: 0.136 s\n",
      "update_rate: 0.003401\t0.075264\t\n",
      "[ Epoch 17 of 80 ]\n"
     ]
    },
    {
     "data": {
      "application/vnd.jupyter.widget-view+json": {
       "model_id": "869493f8c51b4121ad73419c87eca0a5",
       "version_major": 2,
       "version_minor": 0
      },
      "text/plain": [
       " - (Training) :   0%|          | 0/1000 [00:00<?, ?it/s]"
      ]
     },
     "metadata": {},
     "output_type": "display_data"
    },
    {
     "name": "stdout",
     "output_type": "stream",
     "text": [
      "- (Train)   bce:  0.3332, mse:  1.0142,  acc: 90.062 %, pearson: 0.716, spearman: 0.533, elapse: 54.156 s\n"
     ]
    },
    {
     "data": {
      "application/vnd.jupyter.widget-view+json": {
       "model_id": "a1a651c0a45b49ae91a2c7ee4868b701",
       "version_major": 2,
       "version_minor": 0
      },
      "text/plain": [
       "  - (Validation)   :   0%|          | 0/10 [00:00<?, ?it/s]"
      ]
     },
     "metadata": {},
     "output_type": "display_data"
    },
    {
     "name": "stdout",
     "output_type": "stream",
     "text": [
      "- (Valid) bce:  0.3382,  acc: 89.969 %,pearson: 0.732, spearman: 0.530,elapse: 0.151 s\n",
      "update_rate: 0.004825\t0.061216\t\n",
      "[ Epoch 18 of 80 ]\n"
     ]
    },
    {
     "data": {
      "application/vnd.jupyter.widget-view+json": {
       "model_id": "087b84db994a46a39f0c9d679d1d3ab1",
       "version_major": 2,
       "version_minor": 0
      },
      "text/plain": [
       " - (Training) :   0%|          | 0/1000 [00:00<?, ?it/s]"
      ]
     },
     "metadata": {},
     "output_type": "display_data"
    },
    {
     "name": "stdout",
     "output_type": "stream",
     "text": [
      "- (Train)   bce:  0.3312, mse:  1.2333,  acc: 90.138 %, pearson: 0.718, spearman: 0.535, elapse: 54.229 s\n"
     ]
    },
    {
     "data": {
      "application/vnd.jupyter.widget-view+json": {
       "model_id": "12ce4500210c4ac285695ac0ac655665",
       "version_major": 2,
       "version_minor": 0
      },
      "text/plain": [
       "  - (Validation)   :   0%|          | 0/10 [00:00<?, ?it/s]"
      ]
     },
     "metadata": {},
     "output_type": "display_data"
    },
    {
     "name": "stdout",
     "output_type": "stream",
     "text": [
      "- (Valid) bce:  0.3432,  acc: 89.780 %,pearson: 0.699, spearman: 0.519,elapse: 0.139 s\n",
      "update_rate: 0.002407\t0.053348\t\n",
      "[ Epoch 19 of 80 ]\n"
     ]
    },
    {
     "data": {
      "application/vnd.jupyter.widget-view+json": {
       "model_id": "5cd4555af3414b129b06ff0e297deba1",
       "version_major": 2,
       "version_minor": 0
      },
      "text/plain": [
       " - (Training) :   0%|          | 0/1000 [00:00<?, ?it/s]"
      ]
     },
     "metadata": {},
     "output_type": "display_data"
    },
    {
     "name": "stdout",
     "output_type": "stream",
     "text": [
      "- (Train)   bce:  0.3308, mse:  1.0468,  acc: 90.158 %, pearson: 0.716, spearman: 0.536, elapse: 55.877 s\n"
     ]
    },
    {
     "data": {
      "application/vnd.jupyter.widget-view+json": {
       "model_id": "8ead5dfdf1064d2f97d12aef5c082f8d",
       "version_major": 2,
       "version_minor": 0
      },
      "text/plain": [
       "  - (Validation)   :   0%|          | 0/10 [00:00<?, ?it/s]"
      ]
     },
     "metadata": {},
     "output_type": "display_data"
    },
    {
     "name": "stdout",
     "output_type": "stream",
     "text": [
      "- (Valid) bce:  0.3331,  acc: 90.046 %,pearson: 0.705, spearman: 0.535,elapse: 0.165 s\n",
      "update_rate: 0.003007\t0.060886\t\n",
      "[ Epoch 20 of 80 ]\n"
     ]
    },
    {
     "data": {
      "application/vnd.jupyter.widget-view+json": {
       "model_id": "abb6052f0b504887bad4711453e342ca",
       "version_major": 2,
       "version_minor": 0
      },
      "text/plain": [
       " - (Training) :   0%|          | 0/1000 [00:00<?, ?it/s]"
      ]
     },
     "metadata": {},
     "output_type": "display_data"
    },
    {
     "name": "stdout",
     "output_type": "stream",
     "text": [
      "- (Train)   bce:  0.3316, mse:  1.5489,  acc: 90.141 %, pearson: 0.720, spearman: 0.535, elapse: 55.646 s\n"
     ]
    },
    {
     "data": {
      "application/vnd.jupyter.widget-view+json": {
       "model_id": "f7a7f274e2b845c2b74448a401a0cc28",
       "version_major": 2,
       "version_minor": 0
      },
      "text/plain": [
       "  - (Validation)   :   0%|          | 0/10 [00:00<?, ?it/s]"
      ]
     },
     "metadata": {},
     "output_type": "display_data"
    },
    {
     "name": "stdout",
     "output_type": "stream",
     "text": [
      "- (Valid) bce:  0.3238,  acc: 90.276 %,pearson: 0.742, spearman: 0.547,elapse: 0.135 s\n",
      "update_rate: 0.003130\t0.108276\t\n",
      "[ Epoch 21 of 80 ]\n"
     ]
    },
    {
     "data": {
      "application/vnd.jupyter.widget-view+json": {
       "model_id": "f58bb64ac6964f3f9bbf695242f68471",
       "version_major": 2,
       "version_minor": 0
      },
      "text/plain": [
       " - (Training) :   0%|          | 0/1000 [00:00<?, ?it/s]"
      ]
     },
     "metadata": {},
     "output_type": "display_data"
    },
    {
     "name": "stdout",
     "output_type": "stream",
     "text": [
      "- (Train)   bce:  0.3318, mse:  1.1428,  acc: 90.127 %, pearson: 0.722, spearman: 0.535, elapse: 54.672 s\n"
     ]
    },
    {
     "data": {
      "application/vnd.jupyter.widget-view+json": {
       "model_id": "7e8949af4c104d2383b725f2fc00909e",
       "version_major": 2,
       "version_minor": 0
      },
      "text/plain": [
       "  - (Validation)   :   0%|          | 0/10 [00:00<?, ?it/s]"
      ]
     },
     "metadata": {},
     "output_type": "display_data"
    },
    {
     "name": "stdout",
     "output_type": "stream",
     "text": [
      "- (Valid) bce:  0.3334,  acc: 90.090 %,pearson: 0.732, spearman: 0.537,elapse: 0.140 s\n",
      "update_rate: 0.002265\t0.050481\t\n",
      "[ Epoch 22 of 80 ]\n"
     ]
    },
    {
     "data": {
      "application/vnd.jupyter.widget-view+json": {
       "model_id": "f4f971ad10d34aa69c6c015f881eff26",
       "version_major": 2,
       "version_minor": 0
      },
      "text/plain": [
       " - (Training) :   0%|          | 0/1000 [00:00<?, ?it/s]"
      ]
     },
     "metadata": {},
     "output_type": "display_data"
    },
    {
     "name": "stdout",
     "output_type": "stream",
     "text": [
      "- (Train)   bce:  0.3324, mse:  1.0682,  acc: 90.099 %, pearson: 0.720, spearman: 0.534, elapse: 54.967 s\n"
     ]
    },
    {
     "data": {
      "application/vnd.jupyter.widget-view+json": {
       "model_id": "ac48953489a647a2a9b66e10a6e1c20a",
       "version_major": 2,
       "version_minor": 0
      },
      "text/plain": [
       "  - (Validation)   :   0%|          | 0/10 [00:00<?, ?it/s]"
      ]
     },
     "metadata": {},
     "output_type": "display_data"
    },
    {
     "name": "stdout",
     "output_type": "stream",
     "text": [
      "- (Valid) bce:  0.3278,  acc: 90.301 %,pearson: 0.736, spearman: 0.541,elapse: 0.144 s\n",
      "update_rate: 0.002681\t0.052105\t\n",
      "[ Epoch 23 of 80 ]\n"
     ]
    },
    {
     "data": {
      "application/vnd.jupyter.widget-view+json": {
       "model_id": "0c147be552ba42a7aaab1392d0e1dba3",
       "version_major": 2,
       "version_minor": 0
      },
      "text/plain": [
       " - (Training) :   0%|          | 0/1000 [00:00<?, ?it/s]"
      ]
     },
     "metadata": {},
     "output_type": "display_data"
    },
    {
     "name": "stdout",
     "output_type": "stream",
     "text": [
      "- (Train)   bce:  0.3313, mse:  1.1540,  acc: 90.132 %, pearson: 0.722, spearman: 0.535, elapse: 54.078 s\n"
     ]
    },
    {
     "data": {
      "application/vnd.jupyter.widget-view+json": {
       "model_id": "349c9052b9d8484d9e38aea868afa869",
       "version_major": 2,
       "version_minor": 0
      },
      "text/plain": [
       "  - (Validation)   :   0%|          | 0/10 [00:00<?, ?it/s]"
      ]
     },
     "metadata": {},
     "output_type": "display_data"
    },
    {
     "name": "stdout",
     "output_type": "stream",
     "text": [
      "- (Valid) bce:  0.3311,  acc: 90.251 %,pearson: 0.706, spearman: 0.535,elapse: 0.140 s\n",
      "update_rate: 0.002241\t0.070625\t\n",
      "[ Epoch 24 of 80 ]\n"
     ]
    },
    {
     "data": {
      "application/vnd.jupyter.widget-view+json": {
       "model_id": "f94117d715b44f8a9649c3fcad30c148",
       "version_major": 2,
       "version_minor": 0
      },
      "text/plain": [
       " - (Training) :   0%|          | 0/1000 [00:00<?, ?it/s]"
      ]
     },
     "metadata": {},
     "output_type": "display_data"
    },
    {
     "name": "stdout",
     "output_type": "stream",
     "text": [
      "- (Train)   bce:  0.3308, mse:  1.1542,  acc: 90.158 %, pearson: 0.721, spearman: 0.536, elapse: 54.233 s\n"
     ]
    },
    {
     "data": {
      "application/vnd.jupyter.widget-view+json": {
       "model_id": "c2e25d09bd634ae7ac3bb5b8fadbc3f2",
       "version_major": 2,
       "version_minor": 0
      },
      "text/plain": [
       "  - (Validation)   :   0%|          | 0/10 [00:00<?, ?it/s]"
      ]
     },
     "metadata": {},
     "output_type": "display_data"
    },
    {
     "name": "stdout",
     "output_type": "stream",
     "text": [
      "- (Valid) bce:  0.3351,  acc: 90.049 %,pearson: 0.726, spearman: 0.533,elapse: 0.138 s\n",
      "update_rate: 0.002790\t0.052830\t\n",
      "[ Epoch 25 of 80 ]\n"
     ]
    },
    {
     "data": {
      "application/vnd.jupyter.widget-view+json": {
       "model_id": "1ee0d024b64a402eac9a592456936e63",
       "version_major": 2,
       "version_minor": 0
      },
      "text/plain": [
       " - (Training) :   0%|          | 0/1000 [00:00<?, ?it/s]"
      ]
     },
     "metadata": {},
     "output_type": "display_data"
    },
    {
     "name": "stdout",
     "output_type": "stream",
     "text": [
      "- (Train)   bce:  0.3312, mse:  1.1307,  acc: 90.129 %, pearson: 0.721, spearman: 0.536, elapse: 55.192 s\n"
     ]
    },
    {
     "data": {
      "application/vnd.jupyter.widget-view+json": {
       "model_id": "76db09bf5df84df2ae8d19cf6a4c675d",
       "version_major": 2,
       "version_minor": 0
      },
      "text/plain": [
       "  - (Validation)   :   0%|          | 0/10 [00:00<?, ?it/s]"
      ]
     },
     "metadata": {},
     "output_type": "display_data"
    },
    {
     "name": "stdout",
     "output_type": "stream",
     "text": [
      "- (Valid) bce:  0.3346,  acc: 90.022 %,pearson: 0.713, spearman: 0.533,elapse: 0.143 s\n",
      "update_rate: 0.001957\t0.051797\t\n",
      "[ Epoch 26 of 80 ]\n"
     ]
    },
    {
     "data": {
      "application/vnd.jupyter.widget-view+json": {
       "model_id": "287c693a68f647769bc1e28e43153bb6",
       "version_major": 2,
       "version_minor": 0
      },
      "text/plain": [
       " - (Training) :   0%|          | 0/1000 [00:00<?, ?it/s]"
      ]
     },
     "metadata": {},
     "output_type": "display_data"
    },
    {
     "name": "stdout",
     "output_type": "stream",
     "text": [
      "- (Train)   bce:  0.3303, mse:  0.9856,  acc: 90.194 %, pearson: 0.725, spearman: 0.537, elapse: 54.552 s\n"
     ]
    },
    {
     "data": {
      "application/vnd.jupyter.widget-view+json": {
       "model_id": "a9f79e28475a4729a155f459ba3cf40b",
       "version_major": 2,
       "version_minor": 0
      },
      "text/plain": [
       "  - (Validation)   :   0%|          | 0/10 [00:00<?, ?it/s]"
      ]
     },
     "metadata": {},
     "output_type": "display_data"
    },
    {
     "name": "stdout",
     "output_type": "stream",
     "text": [
      "- (Valid) bce:  0.3319,  acc: 90.276 %,pearson: 0.769, spearman: 0.537,elapse: 0.137 s\n",
      "update_rate: 0.003246\t0.044281\t\n",
      "[ Epoch 27 of 80 ]\n"
     ]
    },
    {
     "data": {
      "application/vnd.jupyter.widget-view+json": {
       "model_id": "53abf48c2c084a71960323307b4333f3",
       "version_major": 2,
       "version_minor": 0
      },
      "text/plain": [
       " - (Training) :   0%|          | 0/1000 [00:00<?, ?it/s]"
      ]
     },
     "metadata": {},
     "output_type": "display_data"
    },
    {
     "name": "stdout",
     "output_type": "stream",
     "text": [
      "- (Train)   bce:  0.3308, mse:  0.9858,  acc: 90.148 %, pearson: 0.726, spearman: 0.536, elapse: 54.545 s\n"
     ]
    },
    {
     "data": {
      "application/vnd.jupyter.widget-view+json": {
       "model_id": "f63ccd090ffc42af8f88e8db8effe1fb",
       "version_major": 2,
       "version_minor": 0
      },
      "text/plain": [
       "  - (Validation)   :   0%|          | 0/10 [00:00<?, ?it/s]"
      ]
     },
     "metadata": {},
     "output_type": "display_data"
    },
    {
     "name": "stdout",
     "output_type": "stream",
     "text": [
      "- (Valid) bce:  0.3304,  acc: 90.312 %,pearson: 0.758, spearman: 0.538,elapse: 0.137 s\n",
      "update_rate: 0.001893\t0.057881\t\n",
      "[ Epoch 28 of 80 ]\n"
     ]
    },
    {
     "data": {
      "application/vnd.jupyter.widget-view+json": {
       "model_id": "b1805ce3ec0c457382fce3f784256b7d",
       "version_major": 2,
       "version_minor": 0
      },
      "text/plain": [
       " - (Training) :   0%|          | 0/1000 [00:00<?, ?it/s]"
      ]
     },
     "metadata": {},
     "output_type": "display_data"
    },
    {
     "name": "stdout",
     "output_type": "stream",
     "text": [
      "- (Train)   bce:  0.3302, mse:  1.1776,  acc: 90.170 %, pearson: 0.721, spearman: 0.537, elapse: 54.600 s\n"
     ]
    },
    {
     "data": {
      "application/vnd.jupyter.widget-view+json": {
       "model_id": "70938d1ee7eb49c6a641dd673fbf03c8",
       "version_major": 2,
       "version_minor": 0
      },
      "text/plain": [
       "  - (Validation)   :   0%|          | 0/10 [00:00<?, ?it/s]"
      ]
     },
     "metadata": {},
     "output_type": "display_data"
    },
    {
     "name": "stdout",
     "output_type": "stream",
     "text": [
      "- (Valid) bce:  0.3277,  acc: 90.436 %,pearson: 0.713, spearman: 0.543,elapse: 0.136 s\n",
      "update_rate: 0.002149\t0.049035\t\n",
      "[ Epoch 29 of 80 ]\n"
     ]
    },
    {
     "data": {
      "application/vnd.jupyter.widget-view+json": {
       "model_id": "c29fa30e0b5445469832bc62bc55f9f9",
       "version_major": 2,
       "version_minor": 0
      },
      "text/plain": [
       " - (Training) :   0%|          | 0/1000 [00:00<?, ?it/s]"
      ]
     },
     "metadata": {},
     "output_type": "display_data"
    },
    {
     "name": "stdout",
     "output_type": "stream",
     "text": [
      "- (Train)   bce:  0.3303, mse:  1.0351,  acc: 90.188 %, pearson: 0.728, spearman: 0.537, elapse: 55.477 s\n"
     ]
    },
    {
     "data": {
      "application/vnd.jupyter.widget-view+json": {
       "model_id": "731c9d0c906c407e982df927f129f8fe",
       "version_major": 2,
       "version_minor": 0
      },
      "text/plain": [
       "  - (Validation)   :   0%|          | 0/10 [00:00<?, ?it/s]"
      ]
     },
     "metadata": {},
     "output_type": "display_data"
    },
    {
     "name": "stdout",
     "output_type": "stream",
     "text": [
      "- (Valid) bce:  0.3248,  acc: 90.421 %,pearson: 0.747, spearman: 0.547,elapse: 0.141 s\n",
      "update_rate: 0.001645\t0.051622\t\n",
      "[ Epoch 30 of 80 ]\n"
     ]
    },
    {
     "data": {
      "application/vnd.jupyter.widget-view+json": {
       "model_id": "938faba8a5cd4aff94b4faa00b7af40e",
       "version_major": 2,
       "version_minor": 0
      },
      "text/plain": [
       " - (Training) :   0%|          | 0/1000 [00:00<?, ?it/s]"
      ]
     },
     "metadata": {},
     "output_type": "display_data"
    },
    {
     "name": "stdout",
     "output_type": "stream",
     "text": [
      "- (Train)   bce:  0.3308, mse:  0.9847,  acc: 90.166 %, pearson: 0.724, spearman: 0.536, elapse: 54.870 s\n"
     ]
    },
    {
     "data": {
      "application/vnd.jupyter.widget-view+json": {
       "model_id": "a14d74e25c7d451ebeef4d75da5c78fd",
       "version_major": 2,
       "version_minor": 0
      },
      "text/plain": [
       "  - (Validation)   :   0%|          | 0/10 [00:00<?, ?it/s]"
      ]
     },
     "metadata": {},
     "output_type": "display_data"
    },
    {
     "name": "stdout",
     "output_type": "stream",
     "text": [
      "- (Valid) bce:  0.3217,  acc: 90.443 %,pearson: 0.727, spearman: 0.549,elapse: 0.137 s\n",
      "update_rate: 0.001350\t0.048490\t\n",
      "[ Epoch 31 of 80 ]\n"
     ]
    },
    {
     "data": {
      "application/vnd.jupyter.widget-view+json": {
       "model_id": "074f4337197e4d3dbbb6ce3759cc03ed",
       "version_major": 2,
       "version_minor": 0
      },
      "text/plain": [
       " - (Training) :   0%|          | 0/1000 [00:00<?, ?it/s]"
      ]
     },
     "metadata": {},
     "output_type": "display_data"
    },
    {
     "name": "stdout",
     "output_type": "stream",
     "text": [
      "- (Train)   bce:  0.3308, mse:  1.0368,  acc: 90.149 %, pearson: 0.724, spearman: 0.536, elapse: 55.224 s\n"
     ]
    },
    {
     "data": {
      "application/vnd.jupyter.widget-view+json": {
       "model_id": "aa5ca4f9a1bc4eb8a0ebf5a1402dd379",
       "version_major": 2,
       "version_minor": 0
      },
      "text/plain": [
       "  - (Validation)   :   0%|          | 0/10 [00:00<?, ?it/s]"
      ]
     },
     "metadata": {},
     "output_type": "display_data"
    },
    {
     "name": "stdout",
     "output_type": "stream",
     "text": [
      "- (Valid) bce:  0.3405,  acc: 89.909 %,pearson: 0.711, spearman: 0.522,elapse: 0.137 s\n",
      "update_rate: 0.002339\t0.045661\t\n",
      "[ Epoch 32 of 80 ]\n"
     ]
    },
    {
     "data": {
      "application/vnd.jupyter.widget-view+json": {
       "model_id": "f930958646714b44a82749df7d259bbb",
       "version_major": 2,
       "version_minor": 0
      },
      "text/plain": [
       " - (Training) :   0%|          | 0/1000 [00:00<?, ?it/s]"
      ]
     },
     "metadata": {},
     "output_type": "display_data"
    },
    {
     "name": "stdout",
     "output_type": "stream",
     "text": [
      "- (Train)   bce:  0.3309, mse:  0.9857,  acc: 90.152 %, pearson: 0.726, spearman: 0.536, elapse: 52.334 s\n"
     ]
    },
    {
     "data": {
      "application/vnd.jupyter.widget-view+json": {
       "model_id": "40673eaf28cd479ea310039dceb5005f",
       "version_major": 2,
       "version_minor": 0
      },
      "text/plain": [
       "  - (Validation)   :   0%|          | 0/10 [00:00<?, ?it/s]"
      ]
     },
     "metadata": {},
     "output_type": "display_data"
    },
    {
     "name": "stdout",
     "output_type": "stream",
     "text": [
      "- (Valid) bce:  0.3353,  acc: 90.070 %,pearson: 0.737, spearman: 0.530,elapse: 0.136 s\n",
      "update_rate: 0.002770\t0.042398\t\n",
      "[ Epoch 33 of 80 ]\n"
     ]
    },
    {
     "data": {
      "application/vnd.jupyter.widget-view+json": {
       "model_id": "e356352d35e94d0daf6d5d1a69fdfc80",
       "version_major": 2,
       "version_minor": 0
      },
      "text/plain": [
       " - (Training) :   0%|          | 0/1000 [00:00<?, ?it/s]"
      ]
     },
     "metadata": {},
     "output_type": "display_data"
    },
    {
     "name": "stdout",
     "output_type": "stream",
     "text": [
      "- (Train)   bce:  0.3305, mse:  1.0717,  acc: 90.170 %, pearson: 0.728, spearman: 0.536, elapse: 54.458 s\n"
     ]
    },
    {
     "data": {
      "application/vnd.jupyter.widget-view+json": {
       "model_id": "8bd19282bdc0485d955f29d463d88d59",
       "version_major": 2,
       "version_minor": 0
      },
      "text/plain": [
       "  - (Validation)   :   0%|          | 0/10 [00:00<?, ?it/s]"
      ]
     },
     "metadata": {},
     "output_type": "display_data"
    },
    {
     "name": "stdout",
     "output_type": "stream",
     "text": [
      "- (Valid) bce:  0.3298,  acc: 90.208 %,pearson: 0.700, spearman: 0.538,elapse: 0.137 s\n",
      "update_rate: 0.001780\t0.045997\t\n",
      "[ Epoch 34 of 80 ]\n"
     ]
    },
    {
     "data": {
      "application/vnd.jupyter.widget-view+json": {
       "model_id": "1ed8d63eb66c4f67bcc8252622637ba3",
       "version_major": 2,
       "version_minor": 0
      },
      "text/plain": [
       " - (Training) :   0%|          | 0/1000 [00:00<?, ?it/s]"
      ]
     },
     "metadata": {},
     "output_type": "display_data"
    },
    {
     "name": "stdout",
     "output_type": "stream",
     "text": [
      "- (Train)   bce:  0.3299, mse:  1.0337,  acc: 90.183 %, pearson: 0.724, spearman: 0.537, elapse: 55.243 s\n"
     ]
    },
    {
     "data": {
      "application/vnd.jupyter.widget-view+json": {
       "model_id": "4561f3939ef84a478ca18c264f75756a",
       "version_major": 2,
       "version_minor": 0
      },
      "text/plain": [
       "  - (Validation)   :   0%|          | 0/10 [00:00<?, ?it/s]"
      ]
     },
     "metadata": {},
     "output_type": "display_data"
    },
    {
     "name": "stdout",
     "output_type": "stream",
     "text": [
      "- (Valid) bce:  0.3329,  acc: 90.151 %,pearson: 0.713, spearman: 0.534,elapse: 0.136 s\n",
      "update_rate: 0.001540\t0.041223\t\n",
      "[ Epoch 35 of 80 ]\n"
     ]
    },
    {
     "data": {
      "application/vnd.jupyter.widget-view+json": {
       "model_id": "b876b136c6d74d4190cf97f7ecd7a369",
       "version_major": 2,
       "version_minor": 0
      },
      "text/plain": [
       " - (Training) :   0%|          | 0/1000 [00:00<?, ?it/s]"
      ]
     },
     "metadata": {},
     "output_type": "display_data"
    },
    {
     "name": "stdout",
     "output_type": "stream",
     "text": [
      "- (Train)   bce:  0.3297, mse:  1.0353,  acc: 90.215 %, pearson: 0.726, spearman: 0.537, elapse: 53.733 s\n"
     ]
    },
    {
     "data": {
      "application/vnd.jupyter.widget-view+json": {
       "model_id": "864d5a3e29fd4d419f4fe73a0d8eb4bd",
       "version_major": 2,
       "version_minor": 0
      },
      "text/plain": [
       "  - (Validation)   :   0%|          | 0/10 [00:00<?, ?it/s]"
      ]
     },
     "metadata": {},
     "output_type": "display_data"
    },
    {
     "name": "stdout",
     "output_type": "stream",
     "text": [
      "- (Valid) bce:  0.3363,  acc: 90.008 %,pearson: 0.755, spearman: 0.528,elapse: 0.136 s\n",
      "update_rate: 0.001883\t0.048077\t\n",
      "[ Epoch 36 of 80 ]\n"
     ]
    },
    {
     "data": {
      "application/vnd.jupyter.widget-view+json": {
       "model_id": "07490192af854b12ac1c4079889652c9",
       "version_major": 2,
       "version_minor": 0
      },
      "text/plain": [
       " - (Training) :   0%|          | 0/1000 [00:00<?, ?it/s]"
      ]
     },
     "metadata": {},
     "output_type": "display_data"
    },
    {
     "name": "stdout",
     "output_type": "stream",
     "text": [
      "- (Train)   bce:  0.3299, mse:  1.0132,  acc: 90.183 %, pearson: 0.724, spearman: 0.537, elapse: 54.820 s\n"
     ]
    },
    {
     "data": {
      "application/vnd.jupyter.widget-view+json": {
       "model_id": "60da2a86c50548b58afdfc5afd5e369f",
       "version_major": 2,
       "version_minor": 0
      },
      "text/plain": [
       "  - (Validation)   :   0%|          | 0/10 [00:00<?, ?it/s]"
      ]
     },
     "metadata": {},
     "output_type": "display_data"
    },
    {
     "name": "stdout",
     "output_type": "stream",
     "text": [
      "- (Valid) bce:  0.3306,  acc: 90.169 %,pearson: 0.722, spearman: 0.539,elapse: 0.136 s\n",
      "update_rate: 0.001808\t0.042364\t\n",
      "[ Epoch 37 of 80 ]\n"
     ]
    },
    {
     "data": {
      "application/vnd.jupyter.widget-view+json": {
       "model_id": "d65760b6ac7b47ecb825ba64634b6941",
       "version_major": 2,
       "version_minor": 0
      },
      "text/plain": [
       " - (Training) :   0%|          | 0/1000 [00:00<?, ?it/s]"
      ]
     },
     "metadata": {},
     "output_type": "display_data"
    },
    {
     "name": "stdout",
     "output_type": "stream",
     "text": [
      "- (Train)   bce:  0.3293, mse:  1.0451,  acc: 90.200 %, pearson: 0.729, spearman: 0.538, elapse: 54.965 s\n"
     ]
    },
    {
     "data": {
      "application/vnd.jupyter.widget-view+json": {
       "model_id": "527830b52aac4bf79c3be77712a98a20",
       "version_major": 2,
       "version_minor": 0
      },
      "text/plain": [
       "  - (Validation)   :   0%|          | 0/10 [00:00<?, ?it/s]"
      ]
     },
     "metadata": {},
     "output_type": "display_data"
    },
    {
     "name": "stdout",
     "output_type": "stream",
     "text": [
      "- (Valid) bce:  0.3361,  acc: 89.844 %,pearson: 0.707, spearman: 0.531,elapse: 0.133 s\n",
      "update_rate: 0.001728\t0.108601\t\n",
      "[ Epoch 38 of 80 ]\n"
     ]
    },
    {
     "data": {
      "application/vnd.jupyter.widget-view+json": {
       "model_id": "5dbe88ef62214a2e91fe2cf737d095c0",
       "version_major": 2,
       "version_minor": 0
      },
      "text/plain": [
       " - (Training) :   0%|          | 0/1000 [00:00<?, ?it/s]"
      ]
     },
     "metadata": {},
     "output_type": "display_data"
    },
    {
     "name": "stdout",
     "output_type": "stream",
     "text": [
      "- (Train)   bce:  0.3307, mse:  0.9773,  acc: 90.175 %, pearson: 0.726, spearman: 0.536, elapse: 54.436 s\n"
     ]
    },
    {
     "data": {
      "application/vnd.jupyter.widget-view+json": {
       "model_id": "de7b8e31bbde4200934c589e162b8945",
       "version_major": 2,
       "version_minor": 0
      },
      "text/plain": [
       "  - (Validation)   :   0%|          | 0/10 [00:00<?, ?it/s]"
      ]
     },
     "metadata": {},
     "output_type": "display_data"
    },
    {
     "name": "stdout",
     "output_type": "stream",
     "text": [
      "- (Valid) bce:  0.3346,  acc: 89.978 %,pearson: 0.702, spearman: 0.532,elapse: 0.136 s\n",
      "update_rate: 0.001548\t0.074918\t\n",
      "[ Epoch 39 of 80 ]\n"
     ]
    },
    {
     "data": {
      "application/vnd.jupyter.widget-view+json": {
       "model_id": "d8e84ab970784610892a2b882afc42cd",
       "version_major": 2,
       "version_minor": 0
      },
      "text/plain": [
       " - (Training) :   0%|          | 0/1000 [00:00<?, ?it/s]"
      ]
     },
     "metadata": {},
     "output_type": "display_data"
    },
    {
     "name": "stdout",
     "output_type": "stream",
     "text": [
      "- (Train)   bce:  0.3299, mse:  0.9871,  acc: 90.207 %, pearson: 0.729, spearman: 0.537, elapse: 55.393 s\n"
     ]
    },
    {
     "data": {
      "application/vnd.jupyter.widget-view+json": {
       "model_id": "abf3c987b9a24f1fa00df09bf37b9c4f",
       "version_major": 2,
       "version_minor": 0
      },
      "text/plain": [
       "  - (Validation)   :   0%|          | 0/10 [00:00<?, ?it/s]"
      ]
     },
     "metadata": {},
     "output_type": "display_data"
    },
    {
     "name": "stdout",
     "output_type": "stream",
     "text": [
      "- (Valid) bce:  0.3310,  acc: 90.160 %,pearson: 0.725, spearman: 0.537,elapse: 0.137 s\n",
      "update_rate: 0.001383\t0.028976\t\n",
      "[ Epoch 40 of 80 ]\n"
     ]
    },
    {
     "data": {
      "application/vnd.jupyter.widget-view+json": {
       "model_id": "87ac4de0d6004a99bb751ce0c09dda8f",
       "version_major": 2,
       "version_minor": 0
      },
      "text/plain": [
       " - (Training) :   0%|          | 0/1000 [00:00<?, ?it/s]"
      ]
     },
     "metadata": {},
     "output_type": "display_data"
    },
    {
     "name": "stdout",
     "output_type": "stream",
     "text": [
      "- (Train)   bce:  0.3304, mse:  1.0390,  acc: 90.175 %, pearson: 0.728, spearman: 0.536, elapse: 55.434 s\n"
     ]
    },
    {
     "data": {
      "application/vnd.jupyter.widget-view+json": {
       "model_id": "af7db3e73e2b4235bfe6700d3fb42f07",
       "version_major": 2,
       "version_minor": 0
      },
      "text/plain": [
       "  - (Validation)   :   0%|          | 0/10 [00:00<?, ?it/s]"
      ]
     },
     "metadata": {},
     "output_type": "display_data"
    },
    {
     "name": "stdout",
     "output_type": "stream",
     "text": [
      "- (Valid) bce:  0.3289,  acc: 90.337 %,pearson: 0.730, spearman: 0.541,elapse: 0.146 s\n",
      "update_rate: 0.001317\t0.048859\t\n",
      "[ Epoch 41 of 80 ]\n"
     ]
    },
    {
     "data": {
      "application/vnd.jupyter.widget-view+json": {
       "model_id": "351f3b03682c42d095ffd153d3e5883d",
       "version_major": 2,
       "version_minor": 0
      },
      "text/plain": [
       " - (Training) :   0%|          | 0/1000 [00:00<?, ?it/s]"
      ]
     },
     "metadata": {},
     "output_type": "display_data"
    },
    {
     "name": "stdout",
     "output_type": "stream",
     "text": [
      "- (Train)   bce:  0.3292, mse:  1.0020,  acc: 90.220 %, pearson: 0.735, spearman: 0.538, elapse: 52.464 s\n"
     ]
    },
    {
     "data": {
      "application/vnd.jupyter.widget-view+json": {
       "model_id": "abbfa1cd3f104325a53560e6caa001a5",
       "version_major": 2,
       "version_minor": 0
      },
      "text/plain": [
       "  - (Validation)   :   0%|          | 0/10 [00:00<?, ?it/s]"
      ]
     },
     "metadata": {},
     "output_type": "display_data"
    },
    {
     "name": "stdout",
     "output_type": "stream",
     "text": [
      "- (Valid) bce:  0.3315,  acc: 90.260 %,pearson: 0.722, spearman: 0.538,elapse: 0.145 s\n",
      "update_rate: 0.001278\t0.034527\t\n",
      "[ Epoch 42 of 80 ]\n"
     ]
    },
    {
     "data": {
      "application/vnd.jupyter.widget-view+json": {
       "model_id": "bf4bf3fea82d46378285a7813dd2705a",
       "version_major": 2,
       "version_minor": 0
      },
      "text/plain": [
       " - (Training) :   0%|          | 0/1000 [00:00<?, ?it/s]"
      ]
     },
     "metadata": {},
     "output_type": "display_data"
    },
    {
     "name": "stdout",
     "output_type": "stream",
     "text": [
      "- (Train)   bce:  0.3296, mse:  1.0090,  acc: 90.201 %, pearson: 0.727, spearman: 0.538, elapse: 54.707 s\n"
     ]
    },
    {
     "data": {
      "application/vnd.jupyter.widget-view+json": {
       "model_id": "7074f14bde904b469883e469f0310149",
       "version_major": 2,
       "version_minor": 0
      },
      "text/plain": [
       "  - (Validation)   :   0%|          | 0/10 [00:00<?, ?it/s]"
      ]
     },
     "metadata": {},
     "output_type": "display_data"
    },
    {
     "name": "stdout",
     "output_type": "stream",
     "text": [
      "- (Valid) bce:  0.3309,  acc: 90.345 %,pearson: 0.760, spearman: 0.536,elapse: 0.138 s\n",
      "update_rate: 0.001298\t0.038392\t\n",
      "[ Epoch 43 of 80 ]\n"
     ]
    },
    {
     "data": {
      "application/vnd.jupyter.widget-view+json": {
       "model_id": "15e7486b44c440b1855daee22cb9e6ad",
       "version_major": 2,
       "version_minor": 0
      },
      "text/plain": [
       " - (Training) :   0%|          | 0/1000 [00:00<?, ?it/s]"
      ]
     },
     "metadata": {},
     "output_type": "display_data"
    },
    {
     "name": "stdout",
     "output_type": "stream",
     "text": [
      "- (Train)   bce:  0.3295, mse:  1.0880,  acc: 90.201 %, pearson: 0.728, spearman: 0.538, elapse: 54.725 s\n"
     ]
    },
    {
     "data": {
      "application/vnd.jupyter.widget-view+json": {
       "model_id": "f033c000c31b431b99908186d1525c01",
       "version_major": 2,
       "version_minor": 0
      },
      "text/plain": [
       "  - (Validation)   :   0%|          | 0/10 [00:00<?, ?it/s]"
      ]
     },
     "metadata": {},
     "output_type": "display_data"
    },
    {
     "name": "stdout",
     "output_type": "stream",
     "text": [
      "- (Valid) bce:  0.3301,  acc: 90.116 %,pearson: 0.692, spearman: 0.539,elapse: 0.136 s\n",
      "update_rate: 0.001650\t0.031613\t\n",
      "[ Epoch 44 of 80 ]\n"
     ]
    },
    {
     "data": {
      "application/vnd.jupyter.widget-view+json": {
       "model_id": "4c309fa1309b402bb166f84e2389948b",
       "version_major": 2,
       "version_minor": 0
      },
      "text/plain": [
       " - (Training) :   0%|          | 0/1000 [00:00<?, ?it/s]"
      ]
     },
     "metadata": {},
     "output_type": "display_data"
    },
    {
     "name": "stdout",
     "output_type": "stream",
     "text": [
      "- (Train)   bce:  0.3301, mse:  0.9872,  acc: 90.200 %, pearson: 0.726, spearman: 0.537, elapse: 56.388 s\n"
     ]
    },
    {
     "data": {
      "application/vnd.jupyter.widget-view+json": {
       "model_id": "625862b329344b93a254f5fe842502f5",
       "version_major": 2,
       "version_minor": 0
      },
      "text/plain": [
       "  - (Validation)   :   0%|          | 0/10 [00:00<?, ?it/s]"
      ]
     },
     "metadata": {},
     "output_type": "display_data"
    },
    {
     "name": "stdout",
     "output_type": "stream",
     "text": [
      "- (Valid) bce:  0.3332,  acc: 90.241 %,pearson: 0.701, spearman: 0.533,elapse: 0.144 s\n",
      "update_rate: 0.001415\t0.036325\t\n",
      "[ Epoch 45 of 80 ]\n"
     ]
    },
    {
     "data": {
      "application/vnd.jupyter.widget-view+json": {
       "model_id": "86c5037bc25b4844a9d61f9b2bb7b196",
       "version_major": 2,
       "version_minor": 0
      },
      "text/plain": [
       " - (Training) :   0%|          | 0/1000 [00:00<?, ?it/s]"
      ]
     },
     "metadata": {},
     "output_type": "display_data"
    },
    {
     "name": "stdout",
     "output_type": "stream",
     "text": [
      "- (Train)   bce:  0.3298, mse:  1.0120,  acc: 90.210 %, pearson: 0.729, spearman: 0.537, elapse: 54.481 s\n"
     ]
    },
    {
     "data": {
      "application/vnd.jupyter.widget-view+json": {
       "model_id": "1fd4541e6a854923abb51756f32a649d",
       "version_major": 2,
       "version_minor": 0
      },
      "text/plain": [
       "  - (Validation)   :   0%|          | 0/10 [00:00<?, ?it/s]"
      ]
     },
     "metadata": {},
     "output_type": "display_data"
    },
    {
     "name": "stdout",
     "output_type": "stream",
     "text": [
      "- (Valid) bce:  0.3248,  acc: 90.496 %,pearson: 0.727, spearman: 0.546,elapse: 0.138 s\n",
      "update_rate: 0.001270\t0.041898\t\n",
      "[ Epoch 46 of 80 ]\n"
     ]
    },
    {
     "data": {
      "application/vnd.jupyter.widget-view+json": {
       "model_id": "f7dcb520ec3c486cac29b9785442485c",
       "version_major": 2,
       "version_minor": 0
      },
      "text/plain": [
       " - (Training) :   0%|          | 0/1000 [00:00<?, ?it/s]"
      ]
     },
     "metadata": {},
     "output_type": "display_data"
    },
    {
     "name": "stdout",
     "output_type": "stream",
     "text": [
      "- (Train)   bce:  0.3297, mse:  1.0401,  acc: 90.200 %, pearson: 0.728, spearman: 0.537, elapse: 55.433 s\n"
     ]
    },
    {
     "data": {
      "application/vnd.jupyter.widget-view+json": {
       "model_id": "9dd2380e334744229eddf0135833120c",
       "version_major": 2,
       "version_minor": 0
      },
      "text/plain": [
       "  - (Validation)   :   0%|          | 0/10 [00:00<?, ?it/s]"
      ]
     },
     "metadata": {},
     "output_type": "display_data"
    },
    {
     "name": "stdout",
     "output_type": "stream",
     "text": [
      "- (Valid) bce:  0.3356,  acc: 89.948 %,pearson: 0.695, spearman: 0.529,elapse: 0.143 s\n",
      "update_rate: 0.001615\t0.032341\t\n",
      "[ Epoch 47 of 80 ]\n"
     ]
    },
    {
     "data": {
      "application/vnd.jupyter.widget-view+json": {
       "model_id": "f5bbed7b9ad74d19a90ebb1ce5019867",
       "version_major": 2,
       "version_minor": 0
      },
      "text/plain": [
       " - (Training) :   0%|          | 0/1000 [00:00<?, ?it/s]"
      ]
     },
     "metadata": {},
     "output_type": "display_data"
    },
    {
     "name": "stdout",
     "output_type": "stream",
     "text": [
      "- (Train)   bce:  0.3288, mse:  1.0523,  acc: 90.228 %, pearson: 0.732, spearman: 0.539, elapse: 55.298 s\n"
     ]
    },
    {
     "data": {
      "application/vnd.jupyter.widget-view+json": {
       "model_id": "5a72d00253ca40f9bfc5bca66ba0d9bd",
       "version_major": 2,
       "version_minor": 0
      },
      "text/plain": [
       "  - (Validation)   :   0%|          | 0/10 [00:00<?, ?it/s]"
      ]
     },
     "metadata": {},
     "output_type": "display_data"
    },
    {
     "name": "stdout",
     "output_type": "stream",
     "text": [
      "- (Valid) bce:  0.3183,  acc: 90.603 %,pearson: 0.745, spearman: 0.554,elapse: 0.144 s\n",
      "update_rate: 0.001190\t0.039648\t\n",
      "[ Epoch 48 of 80 ]\n"
     ]
    },
    {
     "data": {
      "application/vnd.jupyter.widget-view+json": {
       "model_id": "e951c85978a94fb2aee4161003fbc827",
       "version_major": 2,
       "version_minor": 0
      },
      "text/plain": [
       " - (Training) :   0%|          | 0/1000 [00:00<?, ?it/s]"
      ]
     },
     "metadata": {},
     "output_type": "display_data"
    },
    {
     "name": "stdout",
     "output_type": "stream",
     "text": [
      "- (Train)   bce:  0.3295, mse:  0.9786,  acc: 90.225 %, pearson: 0.726, spearman: 0.538, elapse: 54.322 s\n"
     ]
    },
    {
     "data": {
      "application/vnd.jupyter.widget-view+json": {
       "model_id": "b8d77fe5fae04803af9a50ea452cc262",
       "version_major": 2,
       "version_minor": 0
      },
      "text/plain": [
       "  - (Validation)   :   0%|          | 0/10 [00:00<?, ?it/s]"
      ]
     },
     "metadata": {},
     "output_type": "display_data"
    },
    {
     "name": "stdout",
     "output_type": "stream",
     "text": [
      "- (Valid) bce:  0.3307,  acc: 90.152 %,pearson: 0.779, spearman: 0.536,elapse: 0.136 s\n",
      "update_rate: 0.000994\t0.029674\t\n",
      "[ Epoch 49 of 80 ]\n"
     ]
    },
    {
     "data": {
      "application/vnd.jupyter.widget-view+json": {
       "model_id": "94dee20badeb4ca396542b4740b004a7",
       "version_major": 2,
       "version_minor": 0
      },
      "text/plain": [
       " - (Training) :   0%|          | 0/1000 [00:00<?, ?it/s]"
      ]
     },
     "metadata": {},
     "output_type": "display_data"
    },
    {
     "name": "stdout",
     "output_type": "stream",
     "text": [
      "- (Train)   bce:  0.3287, mse:  1.0430,  acc: 90.235 %, pearson: 0.732, spearman: 0.539, elapse: 55.153 s\n"
     ]
    },
    {
     "data": {
      "application/vnd.jupyter.widget-view+json": {
       "model_id": "0c4b004f03c244778c4e5b85bee472f3",
       "version_major": 2,
       "version_minor": 0
      },
      "text/plain": [
       "  - (Validation)   :   0%|          | 0/10 [00:00<?, ?it/s]"
      ]
     },
     "metadata": {},
     "output_type": "display_data"
    },
    {
     "name": "stdout",
     "output_type": "stream",
     "text": [
      "- (Valid) bce:  0.3268,  acc: 90.232 %,pearson: 0.710, spearman: 0.547,elapse: 0.135 s\n",
      "update_rate: 0.001299\t0.034262\t\n",
      "[ Epoch 50 of 80 ]\n"
     ]
    },
    {
     "data": {
      "application/vnd.jupyter.widget-view+json": {
       "model_id": "04ac4779b8694631b42eb6f09c175da1",
       "version_major": 2,
       "version_minor": 0
      },
      "text/plain": [
       " - (Training) :   0%|          | 0/1000 [00:00<?, ?it/s]"
      ]
     },
     "metadata": {},
     "output_type": "display_data"
    },
    {
     "name": "stdout",
     "output_type": "stream",
     "text": [
      "- (Train)   bce:  0.3291, mse:  1.0033,  acc: 90.219 %, pearson: 0.733, spearman: 0.538, elapse: 53.284 s\n"
     ]
    },
    {
     "data": {
      "application/vnd.jupyter.widget-view+json": {
       "model_id": "cbb8d17ee0604b87bdfaf0657e57c7c8",
       "version_major": 2,
       "version_minor": 0
      },
      "text/plain": [
       "  - (Validation)   :   0%|          | 0/10 [00:00<?, ?it/s]"
      ]
     },
     "metadata": {},
     "output_type": "display_data"
    },
    {
     "name": "stdout",
     "output_type": "stream",
     "text": [
      "- (Valid) bce:  0.3360,  acc: 90.010 %,pearson: 0.701, spearman: 0.529,elapse: 0.137 s\n",
      "update_rate: 0.001298\t0.046365\t\n",
      "[ Epoch 51 of 80 ]\n"
     ]
    },
    {
     "data": {
      "application/vnd.jupyter.widget-view+json": {
       "model_id": "ee4bb67a3a6a4dd28dd9f851e393084f",
       "version_major": 2,
       "version_minor": 0
      },
      "text/plain": [
       " - (Training) :   0%|          | 0/1000 [00:00<?, ?it/s]"
      ]
     },
     "metadata": {},
     "output_type": "display_data"
    },
    {
     "name": "stdout",
     "output_type": "stream",
     "text": [
      "- (Train)   bce:  0.3288, mse:  1.0697,  acc: 90.227 %, pearson: 0.732, spearman: 0.539, elapse: 54.270 s\n"
     ]
    },
    {
     "data": {
      "application/vnd.jupyter.widget-view+json": {
       "model_id": "33984f1d38d1484fbcc0611c5a0f1fd4",
       "version_major": 2,
       "version_minor": 0
      },
      "text/plain": [
       "  - (Validation)   :   0%|          | 0/10 [00:00<?, ?it/s]"
      ]
     },
     "metadata": {},
     "output_type": "display_data"
    },
    {
     "name": "stdout",
     "output_type": "stream",
     "text": [
      "- (Valid) bce:  0.3243,  acc: 90.383 %,pearson: 0.731, spearman: 0.546,elapse: 0.136 s\n",
      "update_rate: 0.001108\t0.061341\t\n",
      "[ Epoch 52 of 80 ]\n"
     ]
    },
    {
     "data": {
      "application/vnd.jupyter.widget-view+json": {
       "model_id": "848622f1c061475aa5e6da11fd2cbe02",
       "version_major": 2,
       "version_minor": 0
      },
      "text/plain": [
       " - (Training) :   0%|          | 0/1000 [00:00<?, ?it/s]"
      ]
     },
     "metadata": {},
     "output_type": "display_data"
    },
    {
     "name": "stdout",
     "output_type": "stream",
     "text": [
      "- (Train)   bce:  0.3284, mse:  0.9787,  acc: 90.235 %, pearson: 0.732, spearman: 0.539, elapse: 54.398 s\n"
     ]
    },
    {
     "data": {
      "application/vnd.jupyter.widget-view+json": {
       "model_id": "4555731aab1a45369f43f19f4c8bdfc0",
       "version_major": 2,
       "version_minor": 0
      },
      "text/plain": [
       "  - (Validation)   :   0%|          | 0/10 [00:00<?, ?it/s]"
      ]
     },
     "metadata": {},
     "output_type": "display_data"
    },
    {
     "name": "stdout",
     "output_type": "stream",
     "text": [
      "- (Valid) bce:  0.3219,  acc: 90.444 %,pearson: 0.720, spearman: 0.550,elapse: 0.135 s\n",
      "update_rate: 0.001213\t0.035189\t\n",
      "[ Epoch 53 of 80 ]\n"
     ]
    },
    {
     "data": {
      "application/vnd.jupyter.widget-view+json": {
       "model_id": "112549dcf3404d8dafcc8a81c4b305f3",
       "version_major": 2,
       "version_minor": 0
      },
      "text/plain": [
       " - (Training) :   0%|          | 0/1000 [00:00<?, ?it/s]"
      ]
     },
     "metadata": {},
     "output_type": "display_data"
    },
    {
     "name": "stdout",
     "output_type": "stream",
     "text": [
      "- (Train)   bce:  0.3293, mse:  1.3645,  acc: 90.227 %, pearson: 0.730, spearman: 0.538, elapse: 54.446 s\n"
     ]
    },
    {
     "data": {
      "application/vnd.jupyter.widget-view+json": {
       "model_id": "296f6fa8030a482ca827f005e51b522d",
       "version_major": 2,
       "version_minor": 0
      },
      "text/plain": [
       "  - (Validation)   :   0%|          | 0/10 [00:00<?, ?it/s]"
      ]
     },
     "metadata": {},
     "output_type": "display_data"
    },
    {
     "name": "stdout",
     "output_type": "stream",
     "text": [
      "- (Valid) bce:  0.3345,  acc: 89.913 %,pearson: 0.725, spearman: 0.532,elapse: 0.136 s\n",
      "update_rate: 0.001510\t0.036488\t\n",
      "[ Epoch 54 of 80 ]\n"
     ]
    },
    {
     "data": {
      "application/vnd.jupyter.widget-view+json": {
       "model_id": "4d3a672e5a5e457b9709f81d655302f5",
       "version_major": 2,
       "version_minor": 0
      },
      "text/plain": [
       " - (Training) :   0%|          | 0/1000 [00:00<?, ?it/s]"
      ]
     },
     "metadata": {},
     "output_type": "display_data"
    },
    {
     "name": "stdout",
     "output_type": "stream",
     "text": [
      "- (Train)   bce:  0.3288, mse:  1.0107,  acc: 90.240 %, pearson: 0.729, spearman: 0.539, elapse: 54.359 s\n"
     ]
    },
    {
     "data": {
      "application/vnd.jupyter.widget-view+json": {
       "model_id": "67050d85f2284315ab8f2882c2574476",
       "version_major": 2,
       "version_minor": 0
      },
      "text/plain": [
       "  - (Validation)   :   0%|          | 0/10 [00:00<?, ?it/s]"
      ]
     },
     "metadata": {},
     "output_type": "display_data"
    },
    {
     "name": "stdout",
     "output_type": "stream",
     "text": [
      "- (Valid) bce:  0.3273,  acc: 90.191 %,pearson: 0.716, spearman: 0.543,elapse: 0.144 s\n",
      "update_rate: 0.001356\t0.021906\t\n",
      "[ Epoch 55 of 80 ]\n"
     ]
    },
    {
     "data": {
      "application/vnd.jupyter.widget-view+json": {
       "model_id": "9f613878763844228e8bb5ebf1a00242",
       "version_major": 2,
       "version_minor": 0
      },
      "text/plain": [
       " - (Training) :   0%|          | 0/1000 [00:00<?, ?it/s]"
      ]
     },
     "metadata": {},
     "output_type": "display_data"
    },
    {
     "name": "stdout",
     "output_type": "stream",
     "text": [
      "- (Train)   bce:  0.3291, mse:  1.0231,  acc: 90.210 %, pearson: 0.728, spearman: 0.538, elapse: 54.094 s\n"
     ]
    },
    {
     "data": {
      "application/vnd.jupyter.widget-view+json": {
       "model_id": "6b2536ac286f401b92ed17787a6613ed",
       "version_major": 2,
       "version_minor": 0
      },
      "text/plain": [
       "  - (Validation)   :   0%|          | 0/10 [00:00<?, ?it/s]"
      ]
     },
     "metadata": {},
     "output_type": "display_data"
    },
    {
     "name": "stdout",
     "output_type": "stream",
     "text": [
      "- (Valid) bce:  0.3268,  acc: 90.199 %,pearson: 0.711, spearman: 0.544,elapse: 0.135 s\n",
      "update_rate: 0.001312\t0.020468\t\n",
      "[ Epoch 56 of 80 ]\n"
     ]
    },
    {
     "data": {
      "application/vnd.jupyter.widget-view+json": {
       "model_id": "46642b8c129649e084ea8c2b93cf9c66",
       "version_major": 2,
       "version_minor": 0
      },
      "text/plain": [
       " - (Training) :   0%|          | 0/1000 [00:00<?, ?it/s]"
      ]
     },
     "metadata": {},
     "output_type": "display_data"
    },
    {
     "name": "stdout",
     "output_type": "stream",
     "text": [
      "- (Train)   bce:  0.3287, mse:  0.9692,  acc: 90.230 %, pearson: 0.735, spearman: 0.539, elapse: 55.337 s\n"
     ]
    },
    {
     "data": {
      "application/vnd.jupyter.widget-view+json": {
       "model_id": "4e0fc61fefe245b595064ee99019e486",
       "version_major": 2,
       "version_minor": 0
      },
      "text/plain": [
       "  - (Validation)   :   0%|          | 0/10 [00:00<?, ?it/s]"
      ]
     },
     "metadata": {},
     "output_type": "display_data"
    },
    {
     "name": "stdout",
     "output_type": "stream",
     "text": [
      "- (Valid) bce:  0.3342,  acc: 90.031 %,pearson: 0.730, spearman: 0.532,elapse: 0.136 s\n",
      "update_rate: 0.001169\t0.033951\t\n",
      "[ Epoch 57 of 80 ]\n"
     ]
    },
    {
     "data": {
      "application/vnd.jupyter.widget-view+json": {
       "model_id": "f7eac82c60204d879d035174ae558a16",
       "version_major": 2,
       "version_minor": 0
      },
      "text/plain": [
       " - (Training) :   0%|          | 0/1000 [00:00<?, ?it/s]"
      ]
     },
     "metadata": {},
     "output_type": "display_data"
    },
    {
     "name": "stdout",
     "output_type": "stream",
     "text": [
      "- (Train)   bce:  0.3289, mse:  0.9803,  acc: 90.220 %, pearson: 0.731, spearman: 0.538, elapse: 54.962 s\n"
     ]
    },
    {
     "data": {
      "application/vnd.jupyter.widget-view+json": {
       "model_id": "598290c33dc34dc9a55c477ffd8aaebd",
       "version_major": 2,
       "version_minor": 0
      },
      "text/plain": [
       "  - (Validation)   :   0%|          | 0/10 [00:00<?, ?it/s]"
      ]
     },
     "metadata": {},
     "output_type": "display_data"
    },
    {
     "name": "stdout",
     "output_type": "stream",
     "text": [
      "- (Valid) bce:  0.3307,  acc: 90.169 %,pearson: 0.731, spearman: 0.541,elapse: 0.138 s\n",
      "update_rate: 0.001207\t0.028166\t\n",
      "[ Epoch 58 of 80 ]\n"
     ]
    },
    {
     "data": {
      "application/vnd.jupyter.widget-view+json": {
       "model_id": "80f3ec4b8a3a4c43b947ab336c66bad8",
       "version_major": 2,
       "version_minor": 0
      },
      "text/plain": [
       " - (Training) :   0%|          | 0/1000 [00:00<?, ?it/s]"
      ]
     },
     "metadata": {},
     "output_type": "display_data"
    },
    {
     "name": "stdout",
     "output_type": "stream",
     "text": [
      "- (Train)   bce:  0.3282, mse:  1.0197,  acc: 90.255 %, pearson: 0.732, spearman: 0.539, elapse: 54.288 s\n"
     ]
    },
    {
     "data": {
      "application/vnd.jupyter.widget-view+json": {
       "model_id": "cdc9f019dc9b4798b8aa7c9ca5c02a4e",
       "version_major": 2,
       "version_minor": 0
      },
      "text/plain": [
       "  - (Validation)   :   0%|          | 0/10 [00:00<?, ?it/s]"
      ]
     },
     "metadata": {},
     "output_type": "display_data"
    },
    {
     "name": "stdout",
     "output_type": "stream",
     "text": [
      "- (Valid) bce:  0.3356,  acc: 89.995 %,pearson: 0.728, spearman: 0.530,elapse: 0.153 s\n",
      "update_rate: 0.001152\t0.020980\t\n",
      "[ Epoch 59 of 80 ]\n"
     ]
    },
    {
     "data": {
      "application/vnd.jupyter.widget-view+json": {
       "model_id": "3f2dd90bee3a4ddd8dc1d39e04cf1a6b",
       "version_major": 2,
       "version_minor": 0
      },
      "text/plain": [
       " - (Training) :   0%|          | 0/1000 [00:00<?, ?it/s]"
      ]
     },
     "metadata": {},
     "output_type": "display_data"
    },
    {
     "name": "stdout",
     "output_type": "stream",
     "text": [
      "- (Train)   bce:  0.3277, mse:  1.0862,  acc: 90.284 %, pearson: 0.733, spearman: 0.540, elapse: 52.166 s\n"
     ]
    },
    {
     "data": {
      "application/vnd.jupyter.widget-view+json": {
       "model_id": "27e082a293644fe08aa9c8d85987db29",
       "version_major": 2,
       "version_minor": 0
      },
      "text/plain": [
       "  - (Validation)   :   0%|          | 0/10 [00:00<?, ?it/s]"
      ]
     },
     "metadata": {},
     "output_type": "display_data"
    },
    {
     "name": "stdout",
     "output_type": "stream",
     "text": [
      "- (Valid) bce:  0.3358,  acc: 89.953 %,pearson: 0.738, spearman: 0.530,elapse: 0.136 s\n",
      "update_rate: 0.001314\t0.026935\t\n",
      "[ Epoch 60 of 80 ]\n"
     ]
    },
    {
     "data": {
      "application/vnd.jupyter.widget-view+json": {
       "model_id": "fcc3c8d7240e4f87902f3dd427c3a96f",
       "version_major": 2,
       "version_minor": 0
      },
      "text/plain": [
       " - (Training) :   0%|          | 0/1000 [00:00<?, ?it/s]"
      ]
     },
     "metadata": {},
     "output_type": "display_data"
    },
    {
     "name": "stdout",
     "output_type": "stream",
     "text": [
      "- (Train)   bce:  0.3291, mse:  1.0075,  acc: 90.218 %, pearson: 0.732, spearman: 0.538, elapse: 54.068 s\n"
     ]
    },
    {
     "data": {
      "application/vnd.jupyter.widget-view+json": {
       "model_id": "0fbfa597e3614229a56aa27fea64da68",
       "version_major": 2,
       "version_minor": 0
      },
      "text/plain": [
       "  - (Validation)   :   0%|          | 0/10 [00:00<?, ?it/s]"
      ]
     },
     "metadata": {},
     "output_type": "display_data"
    },
    {
     "name": "stdout",
     "output_type": "stream",
     "text": [
      "- (Valid) bce:  0.3292,  acc: 90.314 %,pearson: 0.709, spearman: 0.541,elapse: 0.137 s\n",
      "update_rate: 0.001147\t0.031501\t\n",
      "[ Epoch 61 of 80 ]\n"
     ]
    },
    {
     "data": {
      "application/vnd.jupyter.widget-view+json": {
       "model_id": "f049f06009d9493d9906b460581efcaa",
       "version_major": 2,
       "version_minor": 0
      },
      "text/plain": [
       " - (Training) :   0%|          | 0/1000 [00:00<?, ?it/s]"
      ]
     },
     "metadata": {},
     "output_type": "display_data"
    },
    {
     "name": "stdout",
     "output_type": "stream",
     "text": [
      "- (Train)   bce:  0.3282, mse:  1.0141,  acc: 90.252 %, pearson: 0.732, spearman: 0.540, elapse: 55.293 s\n"
     ]
    },
    {
     "data": {
      "application/vnd.jupyter.widget-view+json": {
       "model_id": "60e11936e2b5411fac2dcc561f48d887",
       "version_major": 2,
       "version_minor": 0
      },
      "text/plain": [
       "  - (Validation)   :   0%|          | 0/10 [00:00<?, ?it/s]"
      ]
     },
     "metadata": {},
     "output_type": "display_data"
    },
    {
     "name": "stdout",
     "output_type": "stream",
     "text": [
      "- (Valid) bce:  0.3277,  acc: 90.319 %,pearson: 0.732, spearman: 0.543,elapse: 0.135 s\n",
      "update_rate: 0.001614\t0.026646\t\n",
      "[ Epoch 62 of 80 ]\n"
     ]
    },
    {
     "data": {
      "application/vnd.jupyter.widget-view+json": {
       "model_id": "4352004c50c84a59b0ed5f99f200ce5c",
       "version_major": 2,
       "version_minor": 0
      },
      "text/plain": [
       " - (Training) :   0%|          | 0/1000 [00:00<?, ?it/s]"
      ]
     },
     "metadata": {},
     "output_type": "display_data"
    },
    {
     "name": "stdout",
     "output_type": "stream",
     "text": [
      "- (Train)   bce:  0.3284, mse:  1.0136,  acc: 90.242 %, pearson: 0.734, spearman: 0.539, elapse: 54.862 s\n"
     ]
    },
    {
     "data": {
      "application/vnd.jupyter.widget-view+json": {
       "model_id": "14dc3e97cabd49819d2ce3d8b7acd794",
       "version_major": 2,
       "version_minor": 0
      },
      "text/plain": [
       "  - (Validation)   :   0%|          | 0/10 [00:00<?, ?it/s]"
      ]
     },
     "metadata": {},
     "output_type": "display_data"
    },
    {
     "name": "stdout",
     "output_type": "stream",
     "text": [
      "- (Valid) bce:  0.3201,  acc: 90.576 %,pearson: 0.762, spearman: 0.553,elapse: 0.134 s\n",
      "update_rate: 0.001535\t0.051475\t\n",
      "[ Epoch 63 of 80 ]\n"
     ]
    },
    {
     "data": {
      "application/vnd.jupyter.widget-view+json": {
       "model_id": "3a40392c2c2e485b98eba1dd2f852b05",
       "version_major": 2,
       "version_minor": 0
      },
      "text/plain": [
       " - (Training) :   0%|          | 0/1000 [00:00<?, ?it/s]"
      ]
     },
     "metadata": {},
     "output_type": "display_data"
    },
    {
     "name": "stdout",
     "output_type": "stream",
     "text": [
      "- (Train)   bce:  0.3289, mse:  0.9929,  acc: 90.227 %, pearson: 0.733, spearman: 0.539, elapse: 54.900 s\n"
     ]
    },
    {
     "data": {
      "application/vnd.jupyter.widget-view+json": {
       "model_id": "e88f67c9a7be44d99263059ee55d2f4a",
       "version_major": 2,
       "version_minor": 0
      },
      "text/plain": [
       "  - (Validation)   :   0%|          | 0/10 [00:00<?, ?it/s]"
      ]
     },
     "metadata": {},
     "output_type": "display_data"
    },
    {
     "name": "stdout",
     "output_type": "stream",
     "text": [
      "- (Valid) bce:  0.3254,  acc: 90.408 %,pearson: 0.709, spearman: 0.545,elapse: 0.147 s\n",
      "update_rate: 0.001257\t0.024585\t\n",
      "[ Epoch 64 of 80 ]\n"
     ]
    },
    {
     "data": {
      "application/vnd.jupyter.widget-view+json": {
       "model_id": "994b42a461a644ac8b69d0bf30d35fa8",
       "version_major": 2,
       "version_minor": 0
      },
      "text/plain": [
       " - (Training) :   0%|          | 0/1000 [00:00<?, ?it/s]"
      ]
     },
     "metadata": {},
     "output_type": "display_data"
    },
    {
     "name": "stdout",
     "output_type": "stream",
     "text": [
      "- (Train)   bce:  0.3290, mse:  1.0288,  acc: 90.225 %, pearson: 0.730, spearman: 0.538, elapse: 53.658 s\n"
     ]
    },
    {
     "data": {
      "application/vnd.jupyter.widget-view+json": {
       "model_id": "553701b9a2de473d9cef688c2e257cd8",
       "version_major": 2,
       "version_minor": 0
      },
      "text/plain": [
       "  - (Validation)   :   0%|          | 0/10 [00:00<?, ?it/s]"
      ]
     },
     "metadata": {},
     "output_type": "display_data"
    },
    {
     "name": "stdout",
     "output_type": "stream",
     "text": [
      "- (Valid) bce:  0.3330,  acc: 90.121 %,pearson: 0.690, spearman: 0.533,elapse: 0.150 s\n",
      "update_rate: 0.001021\t0.036221\t\n",
      "[ Epoch 65 of 80 ]\n"
     ]
    },
    {
     "data": {
      "application/vnd.jupyter.widget-view+json": {
       "model_id": "5bb04046c89d4e458a216eb1008bda90",
       "version_major": 2,
       "version_minor": 0
      },
      "text/plain": [
       " - (Training) :   0%|          | 0/1000 [00:00<?, ?it/s]"
      ]
     },
     "metadata": {},
     "output_type": "display_data"
    },
    {
     "name": "stdout",
     "output_type": "stream",
     "text": [
      "- (Train)   bce:  0.3280, mse:  1.0254,  acc: 90.260 %, pearson: 0.734, spearman: 0.540, elapse: 54.266 s\n"
     ]
    },
    {
     "data": {
      "application/vnd.jupyter.widget-view+json": {
       "model_id": "364ed82e94804ec7b87f980253d9eb16",
       "version_major": 2,
       "version_minor": 0
      },
      "text/plain": [
       "  - (Validation)   :   0%|          | 0/10 [00:00<?, ?it/s]"
      ]
     },
     "metadata": {},
     "output_type": "display_data"
    },
    {
     "name": "stdout",
     "output_type": "stream",
     "text": [
      "- (Valid) bce:  0.3295,  acc: 90.227 %,pearson: 0.727, spearman: 0.538,elapse: 0.137 s\n",
      "update_rate: 0.001234\t0.059294\t\n",
      "[ Epoch 66 of 80 ]\n"
     ]
    },
    {
     "data": {
      "application/vnd.jupyter.widget-view+json": {
       "model_id": "36762175fc1e4e5aa856ebcc5c517ee5",
       "version_major": 2,
       "version_minor": 0
      },
      "text/plain": [
       " - (Training) :   0%|          | 0/1000 [00:00<?, ?it/s]"
      ]
     },
     "metadata": {},
     "output_type": "display_data"
    },
    {
     "name": "stdout",
     "output_type": "stream",
     "text": [
      "- (Train)   bce:  0.3288, mse:  1.0253,  acc: 90.226 %, pearson: 0.733, spearman: 0.539, elapse: 53.980 s\n"
     ]
    },
    {
     "data": {
      "application/vnd.jupyter.widget-view+json": {
       "model_id": "7e1ac31f67c44ecd868650648942d437",
       "version_major": 2,
       "version_minor": 0
      },
      "text/plain": [
       "  - (Validation)   :   0%|          | 0/10 [00:00<?, ?it/s]"
      ]
     },
     "metadata": {},
     "output_type": "display_data"
    },
    {
     "name": "stdout",
     "output_type": "stream",
     "text": [
      "- (Valid) bce:  0.3279,  acc: 90.409 %,pearson: 0.754, spearman: 0.541,elapse: 0.136 s\n",
      "update_rate: 0.000892\t0.020418\t\n",
      "[ Epoch 67 of 80 ]\n"
     ]
    },
    {
     "data": {
      "application/vnd.jupyter.widget-view+json": {
       "model_id": "b184eb64c0b44f47a330f7c3634ae5ee",
       "version_major": 2,
       "version_minor": 0
      },
      "text/plain": [
       " - (Training) :   0%|          | 0/1000 [00:00<?, ?it/s]"
      ]
     },
     "metadata": {},
     "output_type": "display_data"
    },
    {
     "name": "stdout",
     "output_type": "stream",
     "text": [
      "- (Train)   bce:  0.3279, mse:  1.1850,  acc: 90.247 %, pearson: 0.733, spearman: 0.540, elapse: 53.759 s\n"
     ]
    },
    {
     "data": {
      "application/vnd.jupyter.widget-view+json": {
       "model_id": "99dc06b4835d4988a73b67626a32cac3",
       "version_major": 2,
       "version_minor": 0
      },
      "text/plain": [
       "  - (Validation)   :   0%|          | 0/10 [00:00<?, ?it/s]"
      ]
     },
     "metadata": {},
     "output_type": "display_data"
    },
    {
     "name": "stdout",
     "output_type": "stream",
     "text": [
      "- (Valid) bce:  0.3273,  acc: 90.227 %,pearson: 0.723, spearman: 0.543,elapse: 0.136 s\n",
      "update_rate: 0.001155\t0.020694\t\n",
      "[ Epoch 68 of 80 ]\n"
     ]
    },
    {
     "data": {
      "application/vnd.jupyter.widget-view+json": {
       "model_id": "a7573f00a6e34cd2a5ea982ca29b582a",
       "version_major": 2,
       "version_minor": 0
      },
      "text/plain": [
       " - (Training) :   0%|          | 0/1000 [00:00<?, ?it/s]"
      ]
     },
     "metadata": {},
     "output_type": "display_data"
    },
    {
     "name": "stdout",
     "output_type": "stream",
     "text": [
      "- (Train)   bce:  0.3287, mse:  1.0255,  acc: 90.228 %, pearson: 0.731, spearman: 0.539, elapse: 52.419 s\n"
     ]
    },
    {
     "data": {
      "application/vnd.jupyter.widget-view+json": {
       "model_id": "1076c54f4ffe43f29574e0f3193f09ac",
       "version_major": 2,
       "version_minor": 0
      },
      "text/plain": [
       "  - (Validation)   :   0%|          | 0/10 [00:00<?, ?it/s]"
      ]
     },
     "metadata": {},
     "output_type": "display_data"
    },
    {
     "name": "stdout",
     "output_type": "stream",
     "text": [
      "- (Valid) bce:  0.3307,  acc: 90.130 %,pearson: 0.709, spearman: 0.539,elapse: 0.136 s\n",
      "update_rate: 0.001155\t0.043770\t\n",
      "[ Epoch 69 of 80 ]\n"
     ]
    },
    {
     "data": {
      "application/vnd.jupyter.widget-view+json": {
       "model_id": "38fcc1ec93954a45a0acb48de4e0ebdf",
       "version_major": 2,
       "version_minor": 0
      },
      "text/plain": [
       " - (Training) :   0%|          | 0/1000 [00:00<?, ?it/s]"
      ]
     },
     "metadata": {},
     "output_type": "display_data"
    },
    {
     "name": "stdout",
     "output_type": "stream",
     "text": [
      "- (Train)   bce:  0.3277, mse:  1.0044,  acc: 90.258 %, pearson: 0.733, spearman: 0.540, elapse: 54.539 s\n"
     ]
    },
    {
     "data": {
      "application/vnd.jupyter.widget-view+json": {
       "model_id": "9a27cac1d1284752994f6847808745a3",
       "version_major": 2,
       "version_minor": 0
      },
      "text/plain": [
       "  - (Validation)   :   0%|          | 0/10 [00:00<?, ?it/s]"
      ]
     },
     "metadata": {},
     "output_type": "display_data"
    },
    {
     "name": "stdout",
     "output_type": "stream",
     "text": [
      "- (Valid) bce:  0.3229,  acc: 90.466 %,pearson: 0.727, spearman: 0.548,elapse: 0.136 s\n",
      "update_rate: 0.001255\t0.022859\t\n",
      "[ Epoch 70 of 80 ]\n"
     ]
    },
    {
     "data": {
      "application/vnd.jupyter.widget-view+json": {
       "model_id": "50a880650c0e416b868f33bfba1a7396",
       "version_major": 2,
       "version_minor": 0
      },
      "text/plain": [
       " - (Training) :   0%|          | 0/1000 [00:00<?, ?it/s]"
      ]
     },
     "metadata": {},
     "output_type": "display_data"
    },
    {
     "name": "stdout",
     "output_type": "stream",
     "text": [
      "- (Train)   bce:  0.3291, mse:  1.1172,  acc: 90.235 %, pearson: 0.731, spearman: 0.538, elapse: 54.329 s\n"
     ]
    },
    {
     "data": {
      "application/vnd.jupyter.widget-view+json": {
       "model_id": "5c09fef6dea44edaafb3417c4ded002e",
       "version_major": 2,
       "version_minor": 0
      },
      "text/plain": [
       "  - (Validation)   :   0%|          | 0/10 [00:00<?, ?it/s]"
      ]
     },
     "metadata": {},
     "output_type": "display_data"
    },
    {
     "name": "stdout",
     "output_type": "stream",
     "text": [
      "- (Valid) bce:  0.3346,  acc: 89.993 %,pearson: 0.735, spearman: 0.529,elapse: 0.137 s\n",
      "update_rate: 0.001103\t0.044282\t\n",
      "[ Epoch 71 of 80 ]\n"
     ]
    },
    {
     "data": {
      "application/vnd.jupyter.widget-view+json": {
       "model_id": "89cc73680f604d999e4854b19529122e",
       "version_major": 2,
       "version_minor": 0
      },
      "text/plain": [
       " - (Training) :   0%|          | 0/1000 [00:00<?, ?it/s]"
      ]
     },
     "metadata": {},
     "output_type": "display_data"
    },
    {
     "name": "stdout",
     "output_type": "stream",
     "text": [
      "- (Train)   bce:  0.3280, mse:  1.0186,  acc: 90.274 %, pearson: 0.735, spearman: 0.540, elapse: 53.777 s\n"
     ]
    },
    {
     "data": {
      "application/vnd.jupyter.widget-view+json": {
       "model_id": "f6dc12cefc2147f6a41edf2c9b32f3fd",
       "version_major": 2,
       "version_minor": 0
      },
      "text/plain": [
       "  - (Validation)   :   0%|          | 0/10 [00:00<?, ?it/s]"
      ]
     },
     "metadata": {},
     "output_type": "display_data"
    },
    {
     "name": "stdout",
     "output_type": "stream",
     "text": [
      "- (Valid) bce:  0.3390,  acc: 89.905 %,pearson: 0.746, spearman: 0.525,elapse: 0.135 s\n",
      "update_rate: 0.001122\t0.025456\t\n",
      "[ Epoch 72 of 80 ]\n"
     ]
    },
    {
     "data": {
      "application/vnd.jupyter.widget-view+json": {
       "model_id": "9d1e96d74e1b4ede818ca76044ae2eed",
       "version_major": 2,
       "version_minor": 0
      },
      "text/plain": [
       " - (Training) :   0%|          | 0/1000 [00:00<?, ?it/s]"
      ]
     },
     "metadata": {},
     "output_type": "display_data"
    },
    {
     "name": "stdout",
     "output_type": "stream",
     "text": [
      "- (Train)   bce:  0.3276, mse:  0.9951,  acc: 90.277 %, pearson: 0.733, spearman: 0.540, elapse: 53.785 s\n"
     ]
    },
    {
     "data": {
      "application/vnd.jupyter.widget-view+json": {
       "model_id": "cd9eacf98d1c44729b717cc1368ba484",
       "version_major": 2,
       "version_minor": 0
      },
      "text/plain": [
       "  - (Validation)   :   0%|          | 0/10 [00:00<?, ?it/s]"
      ]
     },
     "metadata": {},
     "output_type": "display_data"
    },
    {
     "name": "stdout",
     "output_type": "stream",
     "text": [
      "- (Valid) bce:  0.3263,  acc: 90.337 %,pearson: 0.710, spearman: 0.545,elapse: 0.135 s\n",
      "update_rate: 0.001117\t0.036672\t\n",
      "[ Epoch 73 of 80 ]\n"
     ]
    },
    {
     "data": {
      "application/vnd.jupyter.widget-view+json": {
       "model_id": "4033d0c656214dd285d3bdedad42c4a8",
       "version_major": 2,
       "version_minor": 0
      },
      "text/plain": [
       " - (Training) :   0%|          | 0/1000 [00:00<?, ?it/s]"
      ]
     },
     "metadata": {},
     "output_type": "display_data"
    },
    {
     "name": "stdout",
     "output_type": "stream",
     "text": [
      "- (Train)   bce:  0.3280, mse:  1.1706,  acc: 90.256 %, pearson: 0.733, spearman: 0.540, elapse: 53.666 s\n"
     ]
    },
    {
     "data": {
      "application/vnd.jupyter.widget-view+json": {
       "model_id": "38d4c052d4f44b81ba44b91a7a0aba63",
       "version_major": 2,
       "version_minor": 0
      },
      "text/plain": [
       "  - (Validation)   :   0%|          | 0/10 [00:00<?, ?it/s]"
      ]
     },
     "metadata": {},
     "output_type": "display_data"
    },
    {
     "name": "stdout",
     "output_type": "stream",
     "text": [
      "- (Valid) bce:  0.3316,  acc: 90.322 %,pearson: 0.744, spearman: 0.538,elapse: 0.137 s\n",
      "update_rate: 0.000959\t0.023657\t\n",
      "[ Epoch 74 of 80 ]\n"
     ]
    },
    {
     "data": {
      "application/vnd.jupyter.widget-view+json": {
       "model_id": "18ba2d237e3a4711b65009a734be2b8e",
       "version_major": 2,
       "version_minor": 0
      },
      "text/plain": [
       " - (Training) :   0%|          | 0/1000 [00:00<?, ?it/s]"
      ]
     },
     "metadata": {},
     "output_type": "display_data"
    },
    {
     "name": "stdout",
     "output_type": "stream",
     "text": [
      "- (Train)   bce:  0.3281, mse:  1.0076,  acc: 90.262 %, pearson: 0.737, spearman: 0.540, elapse: 54.326 s\n"
     ]
    },
    {
     "data": {
      "application/vnd.jupyter.widget-view+json": {
       "model_id": "8a5f1f0c4e8549218fff5cf32c85bf4b",
       "version_major": 2,
       "version_minor": 0
      },
      "text/plain": [
       "  - (Validation)   :   0%|          | 0/10 [00:00<?, ?it/s]"
      ]
     },
     "metadata": {},
     "output_type": "display_data"
    },
    {
     "name": "stdout",
     "output_type": "stream",
     "text": [
      "- (Valid) bce:  0.3275,  acc: 90.273 %,pearson: 0.749, spearman: 0.542,elapse: 0.137 s\n",
      "update_rate: 0.001078\t0.051985\t\n",
      "[ Epoch 75 of 80 ]\n"
     ]
    },
    {
     "data": {
      "application/vnd.jupyter.widget-view+json": {
       "model_id": "3209612f44c345109fc4074f14579564",
       "version_major": 2,
       "version_minor": 0
      },
      "text/plain": [
       " - (Training) :   0%|          | 0/1000 [00:00<?, ?it/s]"
      ]
     },
     "metadata": {},
     "output_type": "display_data"
    },
    {
     "name": "stdout",
     "output_type": "stream",
     "text": [
      "- (Train)   bce:  0.3272, mse:  1.0808,  acc: 90.297 %, pearson: 0.736, spearman: 0.541, elapse: 54.551 s\n"
     ]
    },
    {
     "data": {
      "application/vnd.jupyter.widget-view+json": {
       "model_id": "37e74b45706943d5836f001f4f0d5b39",
       "version_major": 2,
       "version_minor": 0
      },
      "text/plain": [
       "  - (Validation)   :   0%|          | 0/10 [00:00<?, ?it/s]"
      ]
     },
     "metadata": {},
     "output_type": "display_data"
    },
    {
     "name": "stdout",
     "output_type": "stream",
     "text": [
      "- (Valid) bce:  0.3344,  acc: 90.013 %,pearson: 0.722, spearman: 0.531,elapse: 0.144 s\n",
      "update_rate: 0.001099\t0.029073\t\n",
      "[ Epoch 76 of 80 ]\n"
     ]
    },
    {
     "data": {
      "application/vnd.jupyter.widget-view+json": {
       "model_id": "d8defbe64fc84a83b728000acdca3d5c",
       "version_major": 2,
       "version_minor": 0
      },
      "text/plain": [
       " - (Training) :   0%|          | 0/1000 [00:00<?, ?it/s]"
      ]
     },
     "metadata": {},
     "output_type": "display_data"
    },
    {
     "name": "stdout",
     "output_type": "stream",
     "text": [
      "- (Train)   bce:  0.3283, mse:  1.0434,  acc: 90.235 %, pearson: 0.734, spearman: 0.539, elapse: 54.131 s\n"
     ]
    },
    {
     "data": {
      "application/vnd.jupyter.widget-view+json": {
       "model_id": "00c0e6020c514cb5811f566a18647f78",
       "version_major": 2,
       "version_minor": 0
      },
      "text/plain": [
       "  - (Validation)   :   0%|          | 0/10 [00:00<?, ?it/s]"
      ]
     },
     "metadata": {},
     "output_type": "display_data"
    },
    {
     "name": "stdout",
     "output_type": "stream",
     "text": [
      "- (Valid) bce:  0.3344,  acc: 89.990 %,pearson: 0.693, spearman: 0.532,elapse: 0.136 s\n",
      "update_rate: 0.000875\t0.020022\t\n",
      "[ Epoch 77 of 80 ]\n"
     ]
    },
    {
     "data": {
      "application/vnd.jupyter.widget-view+json": {
       "model_id": "c73fea6928d04efb8ffbaa54b3663d58",
       "version_major": 2,
       "version_minor": 0
      },
      "text/plain": [
       " - (Training) :   0%|          | 0/1000 [00:00<?, ?it/s]"
      ]
     },
     "metadata": {},
     "output_type": "display_data"
    },
    {
     "name": "stdout",
     "output_type": "stream",
     "text": [
      "- (Train)   bce:  0.3276, mse:  1.0502,  acc: 90.252 %, pearson: 0.733, spearman: 0.540, elapse: 51.913 s\n"
     ]
    },
    {
     "data": {
      "application/vnd.jupyter.widget-view+json": {
       "model_id": "efbdd1fdcb4045e6a407acc4c36df597",
       "version_major": 2,
       "version_minor": 0
      },
      "text/plain": [
       "  - (Validation)   :   0%|          | 0/10 [00:00<?, ?it/s]"
      ]
     },
     "metadata": {},
     "output_type": "display_data"
    },
    {
     "name": "stdout",
     "output_type": "stream",
     "text": [
      "- (Valid) bce:  0.3321,  acc: 90.224 %,pearson: 0.750, spearman: 0.536,elapse: 0.137 s\n",
      "update_rate: 0.000922\t0.024023\t\n",
      "[ Epoch 78 of 80 ]\n"
     ]
    },
    {
     "data": {
      "application/vnd.jupyter.widget-view+json": {
       "model_id": "0e2a36a7a3e1451fb4d8f00d7f717ee1",
       "version_major": 2,
       "version_minor": 0
      },
      "text/plain": [
       " - (Training) :   0%|          | 0/1000 [00:00<?, ?it/s]"
      ]
     },
     "metadata": {},
     "output_type": "display_data"
    },
    {
     "name": "stdout",
     "output_type": "stream",
     "text": [
      "- (Train)   bce:  0.3274, mse:  1.0072,  acc: 90.268 %, pearson: 0.734, spearman: 0.541, elapse: 53.965 s\n"
     ]
    },
    {
     "data": {
      "application/vnd.jupyter.widget-view+json": {
       "model_id": "1767cf87a82648f9bb8fea5090de9345",
       "version_major": 2,
       "version_minor": 0
      },
      "text/plain": [
       "  - (Validation)   :   0%|          | 0/10 [00:00<?, ?it/s]"
      ]
     },
     "metadata": {},
     "output_type": "display_data"
    },
    {
     "name": "stdout",
     "output_type": "stream",
     "text": [
      "- (Valid) bce:  0.3324,  acc: 90.085 %,pearson: 0.728, spearman: 0.534,elapse: 0.132 s\n",
      "update_rate: 0.000903\t0.024666\t\n",
      "[ Epoch 79 of 80 ]\n"
     ]
    },
    {
     "data": {
      "application/vnd.jupyter.widget-view+json": {
       "model_id": "3c307f0b30f54e2393c163063db6d1a3",
       "version_major": 2,
       "version_minor": 0
      },
      "text/plain": [
       " - (Training) :   0%|          | 0/1000 [00:00<?, ?it/s]"
      ]
     },
     "metadata": {},
     "output_type": "display_data"
    },
    {
     "name": "stdout",
     "output_type": "stream",
     "text": [
      "- (Train)   bce:  0.3278, mse:  1.0828,  acc: 90.272 %, pearson: 0.735, spearman: 0.540, elapse: 53.898 s\n"
     ]
    },
    {
     "data": {
      "application/vnd.jupyter.widget-view+json": {
       "model_id": "e0178207052748fc8dfe93834941cdd3",
       "version_major": 2,
       "version_minor": 0
      },
      "text/plain": [
       "  - (Validation)   :   0%|          | 0/10 [00:00<?, ?it/s]"
      ]
     },
     "metadata": {},
     "output_type": "display_data"
    },
    {
     "name": "stdout",
     "output_type": "stream",
     "text": [
      "- (Valid) bce:  0.3323,  acc: 90.185 %,pearson: 0.704, spearman: 0.534,elapse: 0.136 s\n",
      "update_rate: 0.000958\t0.023994\t\n"
     ]
    },
    {
     "data": {
      "application/vnd.jupyter.widget-view+json": {
       "model_id": "7cc2fa517df14a17bca12a488251119a",
       "version_major": 2,
       "version_minor": 0
      },
      "text/plain": [
       "  - (Validation)   :   0%|          | 0/10 [00:00<?, ?it/s]"
      ]
     },
     "metadata": {},
     "output_type": "display_data"
    },
    {
     "name": "stdout",
     "output_type": "stream",
     "text": [
      "  - (Validation-hyper) bce:  0.3982,  acc: 83.896 %, auc: 0.646, aupr: 0.443,elapse: 11.374 s\n"
     ]
    }
   ],
   "source": [
    "# Stage 1 training\n",
    "higashi_model.train_for_embeddings()"
   ]
  },
  {
   "cell_type": "markdown",
   "metadata": {},
   "source": [
    "### 4. Visualize embedding results"
   ]
  },
  {
   "cell_type": "code",
   "execution_count": 7,
   "metadata": {},
   "outputs": [
    {
     "name": "stdout",
     "output_type": "stream",
     "text": [
      "(16707, 128)\n"
     ]
    },
    {
     "data": {
      "image/png": "[encoded data removed]",
      "text/plain": [
       "<Figure size 1400x500 with 2 Axes>"
      ]
     },
     "metadata": {},
     "output_type": "display_data"
    }
   ],
   "source": [
    "# Visualize embedding results\n",
    "cell_embeddings = higashi_model.fetch_cell_embeddings()\n",
    "print (cell_embeddings.shape)\n",
    "\n",
    "from umap import UMAP\n",
    "import seaborn as sns\n",
    "import matplotlib.pyplot as plt\n",
    "\n",
    "vec = UMAP(n_components=2, n_neighbors=25, random_state=0).fit_transform(cell_embeddings)\n",
    "cell_type = higashi_model.label_info['cell type']\n",
    "batch = higashi_model.label_info['batch']\n",
    "fig = plt.figure(figsize=(14, 5))\n",
    "ax = plt.subplot(1, 2, 1)\n",
    "sns.scatterplot(x=vec[:, 0], y=vec[:, 1], hue=cell_type, ax=ax, s=5, alpha=0.8, linewidth=0, hue_order=['GM12878','IMR90','HFF', 'HAP1', 'H1Esc'])\n",
    "handles, labels = ax.get_legend_handles_labels()\n",
    "labels, handles = zip(*sorted(zip(labels, handles), key=lambda t: t[0]))\n",
    "ax.legend(handles=handles, labels=labels, bbox_to_anchor=(1.05, 1), loc=2, borderaxespad=0., ncol=1)\n",
    "ax = plt.subplot(1, 2, 2)\n",
    "sns.scatterplot(x=vec[:, 0], y=vec[:, 1], hue=batch, ax=ax, s=5, alpha=0.8, linewidth=0)\n",
    "handles, labels = ax.get_legend_handles_labels()\n",
    "labels, handles = zip(*sorted(zip(labels, handles), key=lambda t: t[0]))\n",
    "ax.legend(handles=handles, labels=labels, bbox_to_anchor=(1.05, 1), loc=2, borderaxespad=0., ncol=1)\n",
    "plt.tight_layout()\n",
    "plt.show()\n",
    "\n"
   ]
  },
  {
   "cell_type": "markdown",
   "metadata": {},
   "source": [
    "The tutorial of scHiCluster on this dataset can be found here: https://github.com/zhoujt1994/scHiCluster/tree/master/example/4DN"
   ]
  }
 ],
 "metadata": {
  "kernelspec": {
   "display_name": "Python 3 (ipykernel)",
   "language": "python",
   "name": "python3"
  },
  "language_info": {
   "codemirror_mode": {
    "name": "ipython",
    "version": 3
   },
   "file_extension": ".py",
   "mimetype": "text/x-python",
   "name": "python",
   "nbconvert_exporter": "python",
   "pygments_lexer": "ipython3",
   "version": "3.9.23"
  }
 },
 "nbformat": 4,
 "nbformat_minor": 4
}
