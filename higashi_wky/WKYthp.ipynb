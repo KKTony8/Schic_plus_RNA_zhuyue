{
 "cells": [
  {
   "cell_type": "markdown",
   "id": "b1822451",
   "metadata": {},
   "source": [
    "# THP scHi-C 数据处理和嵌入\n",
    "本 Notebook 使用 Higashi 处理和分析 THP/scHi-C 数据。\n",
    "配置文件：`config_thp.JSON`"
   ]
  },
  {
   "cell_type": "code",
   "execution_count": 5,
   "id": "9f380cb0",
   "metadata": {},
   "outputs": [],
   "source": [
    "import os\n",
    "import sys\n",
    "sys.path.append(\"/data5/GPT/Wuky/Higashi/Higashi\")\n",
    "from higashi.Higashi_wrapper import Higashi"
   ]
  },
  {
   "cell_type": "code",
   "execution_count": 6,
   "id": "bf3158c4",
   "metadata": {},
   "outputs": [],
   "source": [
    "# 配置文件路径\n",
    "config_path = \"/data5/GPT/Wuky/Higashi/Higashi/WKY_data/config_thp.JSON\"\n",
    "\n",
    "# 初始化模型\n",
    "higashi_model = Higashi(config_path)"
   ]
  },
  {
   "cell_type": "code",
   "execution_count": 7,
   "id": "3c0b09cc-7520-4d42-a144-e272ab2bf061",
   "metadata": {},
   "outputs": [
    {
     "name": "stdout",
     "output_type": "stream",
     "text": [
      "{'bottle_neck': 128,\n",
      " 'chrom_list': ['chr1',\n",
      "                'chr2',\n",
      "                'chr3',\n",
      "                'chr4',\n",
      "                'chr5',\n",
      "                'chr6',\n",
      "                'chr7',\n",
      "                'chr8',\n",
      "                'chr9',\n",
      "                'chr10',\n",
      "                'chr11',\n",
      "                'chr12',\n",
      "                'chr13',\n",
      "                'chr14',\n",
      "                'chr15',\n",
      "                'chr16',\n",
      "                'chr17',\n",
      "                'chr18',\n",
      "                'chr19',\n",
      "                'chr20',\n",
      "                'chr21',\n",
      "                'chr22'],\n",
      " 'config_name': 'THP_sthp_analysis_autosomes',\n",
      " 'cpu_num': -1,\n",
      " 'cytoband_path': '/data5/GPT/Wuky/Higashi/Higashi/cytoBand_hg19.txt',\n",
      " 'data_dir': '/data5/GPT/Wuky/Higashi/Higashi/WKY_data/',\n",
      " 'dimensions': 128,\n",
      " 'embedding_epoch': 80,\n",
      " 'embedding_name': 'thp_sthp_exp1',\n",
      " 'genome_reference_path': '/data5/GPT/Wuky/Higashi/Higashi/demo_data/hg19.chrom.sizes.txt',\n",
      " 'gpu_num': 1,\n",
      " 'impute_list': ['chr1'],\n",
      " 'keep_inter': True,\n",
      " 'local_transfer_range': 0,\n",
      " 'loss_mode': 'zinb',\n",
      " 'maximum_distance': -1,\n",
      " 'minimum_distance': 500000,\n",
      " 'neighbor_num': 5,\n",
      " 'no_nbr_epoch': 60,\n",
      " 'random_walk': False,\n",
      " 'resolution': 500000,\n",
      " 'resolution_cell': 500000,\n",
      " 'structured': True,\n",
      " 'temp_dir': '/data5/GPT/Wuky/Higashi/Higashi/Temp/THP_sthp/',\n",
      " 'with_nbr_epoch': 45}\n"
     ]
    }
   ],
   "source": [
    "from pprint import pprint\n",
    "pprint(higashi_model.config)"
   ]
  },
  {
   "cell_type": "code",
   "execution_count": 8,
   "id": "510b9237",
   "metadata": {},
   "outputs": [
    {
     "name": "stdout",
     "output_type": "stream",
     "text": [
      "generating start/end dict for chromosome\n",
      "extracting from data.txt\n",
      "First calculating how many lines are there\n",
      "There are 6409536 lines\n"
     ]
    },
    {
     "data": {
      "application/vnd.jupyter.widget-view+json": {
       "model_id": "bb0a758760904967baf050184fe96732",
       "version_major": 2,
       "version_minor": 0
      },
      "text/plain": [
       " - Processing :   0%|          | 0/6409536 [00:00<?, ?it/s]"
      ]
     },
     "metadata": {},
     "output_type": "display_data"
    },
    {
     "name": "stdout",
     "output_type": "stream",
     "text": [
      "generating contact maps for baseline\n",
      "data loaded\n",
      "generating interchromosomal contacts\n",
      "[[  78   78   78 ...   64   64   64]\n",
      " [   2    4    4 ... 5769 5773 5774]\n",
      " [ 565  860  891 ... 3360 3360 3251]] 5776 [0 0 0] [  78 5775 5775]\n",
      "(79, 5776, 5776)\n"
     ]
    },
    {
     "data": {
      "application/vnd.jupyter.widget-view+json": {
       "model_id": "994a0b654faa42dab8290245ff55a3db",
       "version_major": 2,
       "version_minor": 0
      },
      "text/plain": [
       "  0%|          | 0/79 [00:00<?, ?it/s]"
      ]
     },
     "metadata": {},
     "output_type": "display_data"
    },
    {
     "data": {
      "application/vnd.jupyter.widget-view+json": {
       "model_id": "2bbacf7eacb140a58cf3a3539ade5f5b",
       "version_major": 2,
       "version_minor": 0
      },
      "text/plain": [
       "  0%|          | 0/22 [00:00<?, ?it/s]"
      ]
     },
     "metadata": {},
     "output_type": "display_data"
    },
    {
     "name": "stdout",
     "output_type": "stream",
     "text": [
      "3750909 False\n"
     ]
    },
    {
     "data": {
      "application/vnd.jupyter.widget-view+json": {
       "model_id": "136f1326523e46929a9a8bc7caa8da72",
       "version_major": 2,
       "version_minor": 0
      },
      "text/plain": [
       "creating matrices tasks:   0%|          | 0/22 [00:00<?, ?it/s]"
      ]
     },
     "metadata": {},
     "output_type": "display_data"
    },
    {
     "name": "stdout",
     "output_type": "stream",
     "text": [
      "total_feats_size 51\n"
     ]
    },
    {
     "data": {
      "application/vnd.jupyter.widget-view+json": {
       "model_id": "145cf41215154501a0d33f1c132ec25d",
       "version_major": 2,
       "version_minor": 0
      },
      "text/plain": [
       "  0%|          | 0/22 [00:00<?, ?it/s]"
      ]
     },
     "metadata": {},
     "output_type": "display_data"
    }
   ],
   "source": [
    "# 第一步：数据预处理（只需运行一次）\n",
    "higashi_model.process_data()"
   ]
  },
  {
   "cell_type": "code",
   "execution_count": 9,
   "id": "8dd9388b",
   "metadata": {},
   "outputs": [
    {
     "name": "stdout",
     "output_type": "stream",
     "text": [
      "cpu_num 64\n",
      "setting to gpu:0\n",
      "training on data from: ['chr1', 'chr2', 'chr3', 'chr4', 'chr5', 'chr6', 'chr7', 'chr8', 'chr9', 'chr10', 'chr11', 'chr12', 'chr13', 'chr14', 'chr15', 'chr16', 'chr17', 'chr18', 'chr19', 'chr20', 'chr21', 'chr22']\n",
      "total_sparsity_cell 0.10757369694614692\n",
      "contractive loss\n",
      "batch_size 512\n",
      "Node type num [ 79 499 487 397 383 362 343 319 293 283 272 271 268 231 215 206 181 163\n",
      " 157 119 127  97 103] [  79  578 1065 1462 1845 2207 2550 2869 3162 3445 3717 3988 4256 4487\n",
      " 4702 4908 5089 5252 5409 5528 5655 5752 5855]\n",
      "start making attribute\n"
     ]
    },
    {
     "data": {
      "application/vnd.jupyter.widget-view+json": {
       "model_id": "ae183b418516436b9688b380e3c8477b",
       "version_major": 2,
       "version_minor": 0
      },
      "text/plain": [
       "  0%|          | 0/300 [00:00<?, ?it/s]"
      ]
     },
     "metadata": {},
     "output_type": "display_data"
    },
    {
     "name": "stdout",
     "output_type": "stream",
     "text": [
      "loss 0.03782971203327179 loss best 0.03771355375647545 epochs 299\n",
      "\n",
      "initializing data generator\n"
     ]
    },
    {
     "data": {
      "application/vnd.jupyter.widget-view+json": {
       "model_id": "5318a876f82c415ea2440512a45b7bdc",
       "version_major": 2,
       "version_minor": 0
      },
      "text/plain": [
       "  0%|          | 0/22 [00:00<?, ?it/s]"
      ]
     },
     "metadata": {},
     "output_type": "display_data"
    },
    {
     "name": "stdout",
     "output_type": "stream",
     "text": [
      "initializing data generator\n"
     ]
    },
    {
     "data": {
      "application/vnd.jupyter.widget-view+json": {
       "model_id": "7ddcc1dab0194a1a8f1c0524ad357f43",
       "version_major": 2,
       "version_minor": 0
      },
      "text/plain": [
       "  0%|          | 0/22 [00:00<?, ?it/s]"
      ]
     },
     "metadata": {},
     "output_type": "display_data"
    }
   ],
   "source": [
    "# 第二步：准备模型\n",
    "higashi_model.prep_model()"
   ]
  },
  {
   "cell_type": "code",
   "execution_count": 10,
   "id": "3c6e1dcf",
   "metadata": {},
   "outputs": [
    {
     "name": "stdout",
     "output_type": "stream",
     "text": [
      "First stage training\n",
      "[ Epoch 0 of 80 ]\n"
     ]
    },
    {
     "data": {
      "application/vnd.jupyter.widget-view+json": {
       "model_id": "26bd3d1f9e324d368892490d36397141",
       "version_major": 2,
       "version_minor": 0
      },
      "text/plain": [
       " - (Training) :   0%|          | 0/1000 [00:00<?, ?it/s]"
      ]
     },
     "metadata": {},
     "output_type": "display_data"
    },
    {
     "name": "stdout",
     "output_type": "stream",
     "text": [
      "- (Train)   bce:  0.5726, mse:  0.0243,  acc: 72.526 %, pearson: 0.454, spearman: 0.390, elapse: 26.960 s\n"
     ]
    },
    {
     "data": {
      "application/vnd.jupyter.widget-view+json": {
       "model_id": "86cdd8904dfe41eba510537c2a51568e",
       "version_major": 2,
       "version_minor": 0
      },
      "text/plain": [
       "  - (Validation)   :   0%|          | 0/10 [00:00<?, ?it/s]"
      ]
     },
     "metadata": {},
     "output_type": "display_data"
    },
    {
     "name": "stdout",
     "output_type": "stream",
     "text": [
      "- (Valid) bce:  0.4734,  acc: 88.454 %,pearson: 0.664, spearman: 0.534,elapse: 0.064 s\n",
      "update_rate: 0.000000\t0.000000\tpair_ratio: 0.1\t\n",
      "[ Epoch 1 of 80 ]\n"
     ]
    },
    {
     "data": {
      "application/vnd.jupyter.widget-view+json": {
       "model_id": "fab87ebe56874b28a4d86510d6756273",
       "version_major": 2,
       "version_minor": 0
      },
      "text/plain": [
       " - (Training) :   0%|          | 0/1000 [00:00<?, ?it/s]"
      ]
     },
     "metadata": {},
     "output_type": "display_data"
    },
    {
     "name": "stdout",
     "output_type": "stream",
     "text": [
      "- (Train)   bce:  0.4889, mse:  0.0164,  acc: 88.599 %, pearson: 0.664, spearman: 0.519, elapse: 18.750 s\n"
     ]
    },
    {
     "data": {
      "application/vnd.jupyter.widget-view+json": {
       "model_id": "e7ba85ebbff547f68d68eea71ef8d3de",
       "version_major": 2,
       "version_minor": 0
      },
      "text/plain": [
       "  - (Validation)   :   0%|          | 0/10 [00:00<?, ?it/s]"
      ]
     },
     "metadata": {},
     "output_type": "display_data"
    },
    {
     "name": "stdout",
     "output_type": "stream",
     "text": [
      "- (Valid) bce:  0.4636,  acc: 88.968 %,pearson: 0.714, spearman: 0.549,elapse: 0.057 s\n",
      "update_rate: 0.227299\t0.707862\tpair_ratio: 0.2\t\n",
      "[ Epoch 2 of 80 ]\n"
     ]
    },
    {
     "data": {
      "application/vnd.jupyter.widget-view+json": {
       "model_id": "701c9f3adbd744bdb5b55228c1035ff8",
       "version_major": 2,
       "version_minor": 0
      },
      "text/plain": [
       " - (Training) :   0%|          | 0/1000 [00:00<?, ?it/s]"
      ]
     },
     "metadata": {},
     "output_type": "display_data"
    },
    {
     "name": "stdout",
     "output_type": "stream",
     "text": [
      "- (Train)   bce:  0.4787, mse:  0.0152,  acc: 89.071 %, pearson: 0.683, spearman: 0.526, elapse: 18.872 s\n"
     ]
    },
    {
     "data": {
      "application/vnd.jupyter.widget-view+json": {
       "model_id": "674fb6b58c234474b76dce2d72220abd",
       "version_major": 2,
       "version_minor": 0
      },
      "text/plain": [
       "  - (Validation)   :   0%|          | 0/10 [00:00<?, ?it/s]"
      ]
     },
     "metadata": {},
     "output_type": "display_data"
    },
    {
     "name": "stdout",
     "output_type": "stream",
     "text": [
      "- (Valid) bce:  0.4729,  acc: 89.284 %,pearson: 0.703, spearman: 0.533,elapse: 0.062 s\n",
      "update_rate: 0.013739\t0.025112\tpair_ratio: 0.3\t\n",
      "[ Epoch 3 of 80 ]\n"
     ]
    },
    {
     "data": {
      "application/vnd.jupyter.widget-view+json": {
       "model_id": "08c336b328a44b87a6dd343b6f980265",
       "version_major": 2,
       "version_minor": 0
      },
      "text/plain": [
       " - (Training) :   0%|          | 0/1000 [00:00<?, ?it/s]"
      ]
     },
     "metadata": {},
     "output_type": "display_data"
    },
    {
     "name": "stdout",
     "output_type": "stream",
     "text": [
      "- (Train)   bce:  0.4727, mse:  0.0148,  acc: 89.193 %, pearson: 0.693, spearman: 0.528, elapse: 19.072 s\n"
     ]
    },
    {
     "data": {
      "application/vnd.jupyter.widget-view+json": {
       "model_id": "3fc1e403d289440d90fe018e5b3f77ee",
       "version_major": 2,
       "version_minor": 0
      },
      "text/plain": [
       "  - (Validation)   :   0%|          | 0/10 [00:00<?, ?it/s]"
      ]
     },
     "metadata": {},
     "output_type": "display_data"
    },
    {
     "name": "stdout",
     "output_type": "stream",
     "text": [
      "- (Valid) bce:  0.4724,  acc: 88.913 %,pearson: 0.708, spearman: 0.541,elapse: 0.057 s\n",
      "update_rate: 0.007772\t0.027403\tpair_ratio: 0.4\t\n",
      "[ Epoch 4 of 80 ]\n"
     ]
    },
    {
     "data": {
      "application/vnd.jupyter.widget-view+json": {
       "model_id": "b706755210c6493ea69ba6dbab157c21",
       "version_major": 2,
       "version_minor": 0
      },
      "text/plain": [
       " - (Training) :   0%|          | 0/1000 [00:00<?, ?it/s]"
      ]
     },
     "metadata": {},
     "output_type": "display_data"
    },
    {
     "name": "stdout",
     "output_type": "stream",
     "text": [
      "- (Train)   bce:  0.4692, mse:  0.0145,  acc: 89.280 %, pearson: 0.699, spearman: 0.530, elapse: 18.938 s\n"
     ]
    },
    {
     "data": {
      "application/vnd.jupyter.widget-view+json": {
       "model_id": "e579340b4fb24b2f9c52be0e7314692e",
       "version_major": 2,
       "version_minor": 0
      },
      "text/plain": [
       "  - (Validation)   :   0%|          | 0/10 [00:00<?, ?it/s]"
      ]
     },
     "metadata": {},
     "output_type": "display_data"
    },
    {
     "name": "stdout",
     "output_type": "stream",
     "text": [
      "- (Valid) bce:  0.4621,  acc: 89.701 %,pearson: 0.705, spearman: 0.542,elapse: 0.057 s\n",
      "update_rate: 0.007699\t0.029891\tpair_ratio: 0.5\t\n",
      "[ Epoch 5 of 80 ]\n"
     ]
    },
    {
     "data": {
      "application/vnd.jupyter.widget-view+json": {
       "model_id": "5202d1cdfc9d44d591740372a0943488",
       "version_major": 2,
       "version_minor": 0
      },
      "text/plain": [
       " - (Training) :   0%|          | 0/1000 [00:00<?, ?it/s]"
      ]
     },
     "metadata": {},
     "output_type": "display_data"
    },
    {
     "name": "stdout",
     "output_type": "stream",
     "text": [
      "- (Train)   bce:  0.4660, mse:  0.0142,  acc: 89.447 %, pearson: 0.704, spearman: 0.532, elapse: 18.527 s\n"
     ]
    },
    {
     "data": {
      "application/vnd.jupyter.widget-view+json": {
       "model_id": "308c4353afb140a4aa2aa529f3c002c5",
       "version_major": 2,
       "version_minor": 0
      },
      "text/plain": [
       "  - (Validation)   :   0%|          | 0/10 [00:00<?, ?it/s]"
      ]
     },
     "metadata": {},
     "output_type": "display_data"
    },
    {
     "name": "stdout",
     "output_type": "stream",
     "text": [
      "- (Valid) bce:  0.4703,  acc: 88.926 %,pearson: 0.710, spearman: 0.534,elapse: 0.055 s\n",
      "update_rate: 0.008542\t0.036736\t\n",
      "[ Epoch 6 of 80 ]\n"
     ]
    },
    {
     "data": {
      "application/vnd.jupyter.widget-view+json": {
       "model_id": "414661e6a6a3462b907e4c05dd8cac5c",
       "version_major": 2,
       "version_minor": 0
      },
      "text/plain": [
       " - (Training) :   0%|          | 0/1000 [00:00<?, ?it/s]"
      ]
     },
     "metadata": {},
     "output_type": "display_data"
    },
    {
     "name": "stdout",
     "output_type": "stream",
     "text": [
      "- (Train)   bce:  0.4625, mse:  0.0143,  acc: 89.545 %, pearson: 0.708, spearman: 0.534, elapse: 18.998 s\n"
     ]
    },
    {
     "data": {
      "application/vnd.jupyter.widget-view+json": {
       "model_id": "82e2dcb2c8ad4fef8c9c3f17ab1afeaf",
       "version_major": 2,
       "version_minor": 0
      },
      "text/plain": [
       "  - (Validation)   :   0%|          | 0/10 [00:00<?, ?it/s]"
      ]
     },
     "metadata": {},
     "output_type": "display_data"
    },
    {
     "name": "stdout",
     "output_type": "stream",
     "text": [
      "- (Valid) bce:  0.4614,  acc: 89.303 %,pearson: 0.710, spearman: 0.536,elapse: 0.055 s\n",
      "update_rate: 0.010004\t0.045114\t\n",
      "[ Epoch 7 of 80 ]\n"
     ]
    },
    {
     "data": {
      "application/vnd.jupyter.widget-view+json": {
       "model_id": "9b3ab413edb5496ca5b485e3139e2a1b",
       "version_major": 2,
       "version_minor": 0
      },
      "text/plain": [
       " - (Training) :   0%|          | 0/1000 [00:00<?, ?it/s]"
      ]
     },
     "metadata": {},
     "output_type": "display_data"
    },
    {
     "name": "stdout",
     "output_type": "stream",
     "text": [
      "- (Train)   bce:  0.4616, mse:  0.0142,  acc: 89.626 %, pearson: 0.713, spearman: 0.535, elapse: 18.729 s\n"
     ]
    },
    {
     "data": {
      "application/vnd.jupyter.widget-view+json": {
       "model_id": "785efc7774cd4df6a394fd4962fbfb61",
       "version_major": 2,
       "version_minor": 0
      },
      "text/plain": [
       "  - (Validation)   :   0%|          | 0/10 [00:00<?, ?it/s]"
      ]
     },
     "metadata": {},
     "output_type": "display_data"
    },
    {
     "name": "stdout",
     "output_type": "stream",
     "text": [
      "- (Valid) bce:  0.4510,  acc: 89.652 %,pearson: 0.718, spearman: 0.556,elapse: 0.054 s\n",
      "update_rate: 0.007391\t0.028928\t\n",
      "[ Epoch 8 of 80 ]\n"
     ]
    },
    {
     "data": {
      "application/vnd.jupyter.widget-view+json": {
       "model_id": "53187dbb74a84c79aab918d11852b227",
       "version_major": 2,
       "version_minor": 0
      },
      "text/plain": [
       " - (Training) :   0%|          | 0/1000 [00:00<?, ?it/s]"
      ]
     },
     "metadata": {},
     "output_type": "display_data"
    },
    {
     "name": "stdout",
     "output_type": "stream",
     "text": [
      "- (Train)   bce:  0.4593, mse:  0.0142,  acc: 89.702 %, pearson: 0.715, spearman: 0.537, elapse: 18.249 s\n"
     ]
    },
    {
     "data": {
      "application/vnd.jupyter.widget-view+json": {
       "model_id": "d040fff8c4dd42e7a3ad1b6aa1c1de40",
       "version_major": 2,
       "version_minor": 0
      },
      "text/plain": [
       "  - (Validation)   :   0%|          | 0/10 [00:00<?, ?it/s]"
      ]
     },
     "metadata": {},
     "output_type": "display_data"
    },
    {
     "name": "stdout",
     "output_type": "stream",
     "text": [
      "- (Valid) bce:  0.4724,  acc: 89.115 %,pearson: 0.715, spearman: 0.536,elapse: 0.054 s\n",
      "update_rate: 0.004155\t0.013853\t\n",
      "[ Epoch 9 of 80 ]\n"
     ]
    },
    {
     "data": {
      "application/vnd.jupyter.widget-view+json": {
       "model_id": "285f7f7e0a794ff8812d81fec66d21f8",
       "version_major": 2,
       "version_minor": 0
      },
      "text/plain": [
       " - (Training) :   0%|          | 0/1000 [00:00<?, ?it/s]"
      ]
     },
     "metadata": {},
     "output_type": "display_data"
    },
    {
     "name": "stdout",
     "output_type": "stream",
     "text": [
      "- (Train)   bce:  0.4580, mse:  0.0141,  acc: 89.714 %, pearson: 0.717, spearman: 0.537, elapse: 18.360 s\n"
     ]
    },
    {
     "data": {
      "application/vnd.jupyter.widget-view+json": {
       "model_id": "a7ba70c01f6540eaa267a2c9069a7e0a",
       "version_major": 2,
       "version_minor": 0
      },
      "text/plain": [
       "  - (Validation)   :   0%|          | 0/10 [00:00<?, ?it/s]"
      ]
     },
     "metadata": {},
     "output_type": "display_data"
    },
    {
     "name": "stdout",
     "output_type": "stream",
     "text": [
      "- (Valid) bce:  0.4565,  acc: 89.326 %,pearson: 0.718, spearman: 0.544,elapse: 0.054 s\n",
      "update_rate: 0.005580\t0.025490\t\n",
      "[ Epoch 10 of 80 ]\n"
     ]
    },
    {
     "data": {
      "application/vnd.jupyter.widget-view+json": {
       "model_id": "3d35d9ef6a224dfebc46000a577b2230",
       "version_major": 2,
       "version_minor": 0
      },
      "text/plain": [
       " - (Training) :   0%|          | 0/1000 [00:00<?, ?it/s]"
      ]
     },
     "metadata": {},
     "output_type": "display_data"
    },
    {
     "name": "stdout",
     "output_type": "stream",
     "text": [
      "- (Train)   bce:  0.4578, mse:  0.0141,  acc: 89.732 %, pearson: 0.720, spearman: 0.538, elapse: 18.386 s\n"
     ]
    },
    {
     "data": {
      "application/vnd.jupyter.widget-view+json": {
       "model_id": "8cb636d222d1497cb660b28d64542ba1",
       "version_major": 2,
       "version_minor": 0
      },
      "text/plain": [
       "  - (Validation)   :   0%|          | 0/10 [00:00<?, ?it/s]"
      ]
     },
     "metadata": {},
     "output_type": "display_data"
    },
    {
     "name": "stdout",
     "output_type": "stream",
     "text": [
      "- (Valid) bce:  0.4736,  acc: 88.870 %,pearson: 0.710, spearman: 0.534,elapse: 0.055 s\n",
      "update_rate: 0.005445\t0.024252\t\n",
      "[ Epoch 11 of 80 ]\n"
     ]
    },
    {
     "data": {
      "application/vnd.jupyter.widget-view+json": {
       "model_id": "ec5f57dcdbf44e42b125652fed36988a",
       "version_major": 2,
       "version_minor": 0
      },
      "text/plain": [
       " - (Training) :   0%|          | 0/1000 [00:00<?, ?it/s]"
      ]
     },
     "metadata": {},
     "output_type": "display_data"
    },
    {
     "name": "stdout",
     "output_type": "stream",
     "text": [
      "- (Train)   bce:  0.4552, mse:  0.0141,  acc: 89.826 %, pearson: 0.721, spearman: 0.539, elapse: 18.521 s\n"
     ]
    },
    {
     "data": {
      "application/vnd.jupyter.widget-view+json": {
       "model_id": "45b052628e544e17989783e7871ed0dd",
       "version_major": 2,
       "version_minor": 0
      },
      "text/plain": [
       "  - (Validation)   :   0%|          | 0/10 [00:00<?, ?it/s]"
      ]
     },
     "metadata": {},
     "output_type": "display_data"
    },
    {
     "name": "stdout",
     "output_type": "stream",
     "text": [
      "- (Valid) bce:  0.4536,  acc: 90.299 %,pearson: 0.728, spearman: 0.545,elapse: 0.054 s\n",
      "update_rate: 0.005321\t0.023374\t\n",
      "[ Epoch 12 of 80 ]\n"
     ]
    },
    {
     "data": {
      "application/vnd.jupyter.widget-view+json": {
       "model_id": "56eec8dec4f146508e81bded93ce13cc",
       "version_major": 2,
       "version_minor": 0
      },
      "text/plain": [
       " - (Training) :   0%|          | 0/1000 [00:00<?, ?it/s]"
      ]
     },
     "metadata": {},
     "output_type": "display_data"
    },
    {
     "name": "stdout",
     "output_type": "stream",
     "text": [
      "- (Train)   bce:  0.4544, mse:  0.0140,  acc: 89.873 %, pearson: 0.724, spearman: 0.539, elapse: 19.464 s\n"
     ]
    },
    {
     "data": {
      "application/vnd.jupyter.widget-view+json": {
       "model_id": "f7a91ba8da4c40d4b810991f3e9e825e",
       "version_major": 2,
       "version_minor": 0
      },
      "text/plain": [
       "  - (Validation)   :   0%|          | 0/10 [00:00<?, ?it/s]"
      ]
     },
     "metadata": {},
     "output_type": "display_data"
    },
    {
     "name": "stdout",
     "output_type": "stream",
     "text": [
      "- (Valid) bce:  0.4535,  acc: 89.505 %,pearson: 0.729, spearman: 0.546,elapse: 0.082 s\n",
      "update_rate: 0.005062\t0.022003\t\n",
      "[ Epoch 13 of 80 ]\n"
     ]
    },
    {
     "data": {
      "application/vnd.jupyter.widget-view+json": {
       "model_id": "d1987e57e5b544cdbb7621e64dd110ca",
       "version_major": 2,
       "version_minor": 0
      },
      "text/plain": [
       " - (Training) :   0%|          | 0/1000 [00:00<?, ?it/s]"
      ]
     },
     "metadata": {},
     "output_type": "display_data"
    },
    {
     "name": "stdout",
     "output_type": "stream",
     "text": [
      "- (Train)   bce:  0.4540, mse:  0.0141,  acc: 89.893 %, pearson: 0.726, spearman: 0.541, elapse: 17.989 s\n"
     ]
    },
    {
     "data": {
      "application/vnd.jupyter.widget-view+json": {
       "model_id": "2b12a86cc32d4a758f5d9d57102968a3",
       "version_major": 2,
       "version_minor": 0
      },
      "text/plain": [
       "  - (Validation)   :   0%|          | 0/10 [00:00<?, ?it/s]"
      ]
     },
     "metadata": {},
     "output_type": "display_data"
    },
    {
     "name": "stdout",
     "output_type": "stream",
     "text": [
      "- (Valid) bce:  0.4672,  acc: 89.261 %,pearson: 0.722, spearman: 0.535,elapse: 0.069 s\n",
      "update_rate: 0.007905\t0.035611\t\n",
      "[ Epoch 14 of 80 ]\n"
     ]
    },
    {
     "data": {
      "application/vnd.jupyter.widget-view+json": {
       "model_id": "b3afef94108a44b0a2ad20bc92bd8a89",
       "version_major": 2,
       "version_minor": 0
      },
      "text/plain": [
       " - (Training) :   0%|          | 0/1000 [00:00<?, ?it/s]"
      ]
     },
     "metadata": {},
     "output_type": "display_data"
    },
    {
     "name": "stdout",
     "output_type": "stream",
     "text": [
      "- (Train)   bce:  0.4536, mse:  0.0140,  acc: 89.879 %, pearson: 0.724, spearman: 0.539, elapse: 18.173 s\n"
     ]
    },
    {
     "data": {
      "application/vnd.jupyter.widget-view+json": {
       "model_id": "e5ea3d0ae97943408f1987331da3cadb",
       "version_major": 2,
       "version_minor": 0
      },
      "text/plain": [
       "  - (Validation)   :   0%|          | 0/10 [00:00<?, ?it/s]"
      ]
     },
     "metadata": {},
     "output_type": "display_data"
    },
    {
     "name": "stdout",
     "output_type": "stream",
     "text": [
      "- (Valid) bce:  0.4711,  acc: 88.584 %,pearson: 0.718, spearman: 0.534,elapse: 0.054 s\n",
      "update_rate: 0.008014\t0.033618\t\n",
      "[ Epoch 15 of 80 ]\n"
     ]
    },
    {
     "data": {
      "application/vnd.jupyter.widget-view+json": {
       "model_id": "750d6d8a760d4b24aaad291c28538991",
       "version_major": 2,
       "version_minor": 0
      },
      "text/plain": [
       " - (Training) :   0%|          | 0/1000 [00:00<?, ?it/s]"
      ]
     },
     "metadata": {},
     "output_type": "display_data"
    },
    {
     "name": "stdout",
     "output_type": "stream",
     "text": [
      "- (Train)   bce:  0.4529, mse:  0.0140,  acc: 89.920 %, pearson: 0.728, spearman: 0.542, elapse: 18.157 s\n"
     ]
    },
    {
     "data": {
      "application/vnd.jupyter.widget-view+json": {
       "model_id": "a58e267ee1854a1b818ee2494d2605d3",
       "version_major": 2,
       "version_minor": 0
      },
      "text/plain": [
       "  - (Validation)   :   0%|          | 0/10 [00:00<?, ?it/s]"
      ]
     },
     "metadata": {},
     "output_type": "display_data"
    },
    {
     "name": "stdout",
     "output_type": "stream",
     "text": [
      "- (Valid) bce:  0.4463,  acc: 89.831 %,pearson: 0.723, spearman: 0.545,elapse: 0.060 s\n",
      "update_rate: 0.009814\t0.041059\t\n",
      "[ Epoch 16 of 80 ]\n"
     ]
    },
    {
     "data": {
      "application/vnd.jupyter.widget-view+json": {
       "model_id": "3986a8ebb03b47889b4632254fff5327",
       "version_major": 2,
       "version_minor": 0
      },
      "text/plain": [
       " - (Training) :   0%|          | 0/1000 [00:00<?, ?it/s]"
      ]
     },
     "metadata": {},
     "output_type": "display_data"
    },
    {
     "name": "stdout",
     "output_type": "stream",
     "text": [
      "- (Train)   bce:  0.4530, mse:  0.0140,  acc: 89.918 %, pearson: 0.728, spearman: 0.541, elapse: 18.562 s\n"
     ]
    },
    {
     "data": {
      "application/vnd.jupyter.widget-view+json": {
       "model_id": "82e1c9a4dfd84733b4a2897561dc0049",
       "version_major": 2,
       "version_minor": 0
      },
      "text/plain": [
       "  - (Validation)   :   0%|          | 0/10 [00:00<?, ?it/s]"
      ]
     },
     "metadata": {},
     "output_type": "display_data"
    },
    {
     "name": "stdout",
     "output_type": "stream",
     "text": [
      "- (Valid) bce:  0.4623,  acc: 88.939 %,pearson: 0.721, spearman: 0.539,elapse: 0.053 s\n",
      "update_rate: 0.010085\t0.047160\t\n",
      "[ Epoch 17 of 80 ]\n"
     ]
    },
    {
     "data": {
      "application/vnd.jupyter.widget-view+json": {
       "model_id": "97c22986f76e4106be57e40e6a87d53d",
       "version_major": 2,
       "version_minor": 0
      },
      "text/plain": [
       " - (Training) :   0%|          | 0/1000 [00:00<?, ?it/s]"
      ]
     },
     "metadata": {},
     "output_type": "display_data"
    },
    {
     "name": "stdout",
     "output_type": "stream",
     "text": [
      "- (Train)   bce:  0.4506, mse:  0.0139,  acc: 89.965 %, pearson: 0.732, spearman: 0.544, elapse: 18.371 s\n"
     ]
    },
    {
     "data": {
      "application/vnd.jupyter.widget-view+json": {
       "model_id": "1dcca974db6a4649a6e5da5e73d17194",
       "version_major": 2,
       "version_minor": 0
      },
      "text/plain": [
       "  - (Validation)   :   0%|          | 0/10 [00:00<?, ?it/s]"
      ]
     },
     "metadata": {},
     "output_type": "display_data"
    },
    {
     "name": "stdout",
     "output_type": "stream",
     "text": [
      "- (Valid) bce:  0.4615,  acc: 89.619 %,pearson: 0.724, spearman: 0.536,elapse: 0.070 s\n",
      "update_rate: 0.006148\t0.030470\t\n",
      "[ Epoch 18 of 80 ]\n"
     ]
    },
    {
     "data": {
      "application/vnd.jupyter.widget-view+json": {
       "model_id": "d4f71a5cfc2b432ba5b5acb7b4d13cbe",
       "version_major": 2,
       "version_minor": 0
      },
      "text/plain": [
       " - (Training) :   0%|          | 0/1000 [00:00<?, ?it/s]"
      ]
     },
     "metadata": {},
     "output_type": "display_data"
    },
    {
     "name": "stdout",
     "output_type": "stream",
     "text": [
      "- (Train)   bce:  0.4495, mse:  0.0140,  acc: 89.997 %, pearson: 0.732, spearman: 0.544, elapse: 19.217 s\n"
     ]
    },
    {
     "data": {
      "application/vnd.jupyter.widget-view+json": {
       "model_id": "b7cb0292b68d458197840edaaa875c14",
       "version_major": 2,
       "version_minor": 0
      },
      "text/plain": [
       "  - (Validation)   :   0%|          | 0/10 [00:00<?, ?it/s]"
      ]
     },
     "metadata": {},
     "output_type": "display_data"
    },
    {
     "name": "stdout",
     "output_type": "stream",
     "text": [
      "- (Valid) bce:  0.4695,  acc: 89.447 %,pearson: 0.729, spearman: 0.529,elapse: 0.097 s\n",
      "update_rate: 0.008683\t0.037232\t\n",
      "[ Epoch 19 of 80 ]\n"
     ]
    },
    {
     "data": {
      "application/vnd.jupyter.widget-view+json": {
       "model_id": "29f45cba09844add89560314aa0de618",
       "version_major": 2,
       "version_minor": 0
      },
      "text/plain": [
       " - (Training) :   0%|          | 0/1000 [00:00<?, ?it/s]"
      ]
     },
     "metadata": {},
     "output_type": "display_data"
    },
    {
     "name": "stdout",
     "output_type": "stream",
     "text": [
      "- (Train)   bce:  0.4507, mse:  0.0139,  acc: 89.983 %, pearson: 0.734, spearman: 0.544, elapse: 19.281 s\n"
     ]
    },
    {
     "data": {
      "application/vnd.jupyter.widget-view+json": {
       "model_id": "3b7d67b248384237acc7f069bd9ec9c4",
       "version_major": 2,
       "version_minor": 0
      },
      "text/plain": [
       "  - (Validation)   :   0%|          | 0/10 [00:00<?, ?it/s]"
      ]
     },
     "metadata": {},
     "output_type": "display_data"
    },
    {
     "name": "stdout",
     "output_type": "stream",
     "text": [
      "- (Valid) bce:  0.4628,  acc: 89.212 %,pearson: 0.732, spearman: 0.535,elapse: 0.055 s\n",
      "update_rate: 0.008468\t0.037425\t\n",
      "[ Epoch 20 of 80 ]\n"
     ]
    },
    {
     "data": {
      "application/vnd.jupyter.widget-view+json": {
       "model_id": "7b3cb41e2679407683642a2dca99a661",
       "version_major": 2,
       "version_minor": 0
      },
      "text/plain": [
       " - (Training) :   0%|          | 0/1000 [00:00<?, ?it/s]"
      ]
     },
     "metadata": {},
     "output_type": "display_data"
    },
    {
     "name": "stdout",
     "output_type": "stream",
     "text": [
      "- (Train)   bce:  0.4492, mse:  0.0139,  acc: 90.029 %, pearson: 0.734, spearman: 0.544, elapse: 18.338 s\n"
     ]
    },
    {
     "data": {
      "application/vnd.jupyter.widget-view+json": {
       "model_id": "49f0cd5f3f8a4f05a83023967f480b7c",
       "version_major": 2,
       "version_minor": 0
      },
      "text/plain": [
       "  - (Validation)   :   0%|          | 0/10 [00:00<?, ?it/s]"
      ]
     },
     "metadata": {},
     "output_type": "display_data"
    },
    {
     "name": "stdout",
     "output_type": "stream",
     "text": [
      "- (Valid) bce:  0.4599,  acc: 89.811 %,pearson: 0.728, spearman: 0.539,elapse: 0.056 s\n",
      "update_rate: 0.011060\t0.052256\t\n",
      "[ Epoch 21 of 80 ]\n"
     ]
    },
    {
     "data": {
      "application/vnd.jupyter.widget-view+json": {
       "model_id": "b3a657fdcc36472bb9e100756a42669e",
       "version_major": 2,
       "version_minor": 0
      },
      "text/plain": [
       " - (Training) :   0%|          | 0/1000 [00:00<?, ?it/s]"
      ]
     },
     "metadata": {},
     "output_type": "display_data"
    },
    {
     "name": "stdout",
     "output_type": "stream",
     "text": [
      "- (Train)   bce:  0.4499, mse:  0.0139,  acc: 89.966 %, pearson: 0.732, spearman: 0.543, elapse: 18.925 s\n"
     ]
    },
    {
     "data": {
      "application/vnd.jupyter.widget-view+json": {
       "model_id": "9903dd0014874f768940f324eb4d85fe",
       "version_major": 2,
       "version_minor": 0
      },
      "text/plain": [
       "  - (Validation)   :   0%|          | 0/10 [00:00<?, ?it/s]"
      ]
     },
     "metadata": {},
     "output_type": "display_data"
    },
    {
     "name": "stdout",
     "output_type": "stream",
     "text": [
      "- (Valid) bce:  0.4550,  acc: 88.779 %,pearson: 0.727, spearman: 0.548,elapse: 0.056 s\n",
      "update_rate: 0.008710\t0.040859\t\n",
      "[ Epoch 22 of 80 ]\n"
     ]
    },
    {
     "data": {
      "application/vnd.jupyter.widget-view+json": {
       "model_id": "5a32d68b00654634967719dd064305c0",
       "version_major": 2,
       "version_minor": 0
      },
      "text/plain": [
       " - (Training) :   0%|          | 0/1000 [00:00<?, ?it/s]"
      ]
     },
     "metadata": {},
     "output_type": "display_data"
    },
    {
     "name": "stdout",
     "output_type": "stream",
     "text": [
      "- (Train)   bce:  0.4490, mse:  0.0139,  acc: 89.997 %, pearson: 0.737, spearman: 0.544, elapse: 18.643 s\n"
     ]
    },
    {
     "data": {
      "application/vnd.jupyter.widget-view+json": {
       "model_id": "61ba3560e63a402e8534e57cc0e0aca9",
       "version_major": 2,
       "version_minor": 0
      },
      "text/plain": [
       "  - (Validation)   :   0%|          | 0/10 [00:00<?, ?it/s]"
      ]
     },
     "metadata": {},
     "output_type": "display_data"
    },
    {
     "name": "stdout",
     "output_type": "stream",
     "text": [
      "- (Valid) bce:  0.4570,  acc: 89.189 %,pearson: 0.713, spearman: 0.536,elapse: 0.055 s\n",
      "update_rate: 0.007018\t0.036598\t\n",
      "[ Epoch 23 of 80 ]\n"
     ]
    },
    {
     "data": {
      "application/vnd.jupyter.widget-view+json": {
       "model_id": "bb9db237b51f4446906df31f7e8585a6",
       "version_major": 2,
       "version_minor": 0
      },
      "text/plain": [
       " - (Training) :   0%|          | 0/1000 [00:00<?, ?it/s]"
      ]
     },
     "metadata": {},
     "output_type": "display_data"
    },
    {
     "name": "stdout",
     "output_type": "stream",
     "text": [
      "- (Train)   bce:  0.4471, mse:  0.0139,  acc: 90.037 %, pearson: 0.735, spearman: 0.546, elapse: 18.966 s\n"
     ]
    },
    {
     "data": {
      "application/vnd.jupyter.widget-view+json": {
       "model_id": "947a558a7e444a7e8d1b2eedc621e0c6",
       "version_major": 2,
       "version_minor": 0
      },
      "text/plain": [
       "  - (Validation)   :   0%|          | 0/10 [00:00<?, ?it/s]"
      ]
     },
     "metadata": {},
     "output_type": "display_data"
    },
    {
     "name": "stdout",
     "output_type": "stream",
     "text": [
      "- (Valid) bce:  0.4567,  acc: 88.294 %,pearson: 0.725, spearman: 0.544,elapse: 0.055 s\n",
      "update_rate: 0.006828\t0.036571\t\n",
      "[ Epoch 24 of 80 ]\n"
     ]
    },
    {
     "data": {
      "application/vnd.jupyter.widget-view+json": {
       "model_id": "8f9a619b59594743b50f1d37cecf6703",
       "version_major": 2,
       "version_minor": 0
      },
      "text/plain": [
       " - (Training) :   0%|          | 0/1000 [00:00<?, ?it/s]"
      ]
     },
     "metadata": {},
     "output_type": "display_data"
    },
    {
     "name": "stdout",
     "output_type": "stream",
     "text": [
      "- (Train)   bce:  0.4481, mse:  0.0139,  acc: 90.045 %, pearson: 0.736, spearman: 0.545, elapse: 18.496 s\n"
     ]
    },
    {
     "data": {
      "application/vnd.jupyter.widget-view+json": {
       "model_id": "2907dad80ca04142996c14691fcefc0c",
       "version_major": 2,
       "version_minor": 0
      },
      "text/plain": [
       "  - (Validation)   :   0%|          | 0/10 [00:00<?, ?it/s]"
      ]
     },
     "metadata": {},
     "output_type": "display_data"
    },
    {
     "name": "stdout",
     "output_type": "stream",
     "text": [
      "- (Valid) bce:  0.4656,  acc: 89.652 %,pearson: 0.724, spearman: 0.534,elapse: 0.058 s\n",
      "update_rate: 0.010130\t0.055410\t\n",
      "[ Epoch 25 of 80 ]\n"
     ]
    },
    {
     "data": {
      "application/vnd.jupyter.widget-view+json": {
       "model_id": "0caadddd50534f00916c8f7c62b52871",
       "version_major": 2,
       "version_minor": 0
      },
      "text/plain": [
       " - (Training) :   0%|          | 0/1000 [00:00<?, ?it/s]"
      ]
     },
     "metadata": {},
     "output_type": "display_data"
    },
    {
     "name": "stdout",
     "output_type": "stream",
     "text": [
      "- (Train)   bce:  0.4489, mse:  0.0139,  acc: 89.968 %, pearson: 0.736, spearman: 0.545, elapse: 18.523 s\n"
     ]
    },
    {
     "data": {
      "application/vnd.jupyter.widget-view+json": {
       "model_id": "671f27774cef45348e3ebc880b966bf4",
       "version_major": 2,
       "version_minor": 0
      },
      "text/plain": [
       "  - (Validation)   :   0%|          | 0/10 [00:00<?, ?it/s]"
      ]
     },
     "metadata": {},
     "output_type": "display_data"
    },
    {
     "name": "stdout",
     "output_type": "stream",
     "text": [
      "- (Valid) bce:  0.4657,  acc: 88.643 %,pearson: 0.733, spearman: 0.536,elapse: 0.056 s\n",
      "update_rate: 0.006930\t0.035917\t\n",
      "[ Epoch 26 of 80 ]\n"
     ]
    },
    {
     "data": {
      "application/vnd.jupyter.widget-view+json": {
       "model_id": "1b943575713c4e1794b62c8db275a90f",
       "version_major": 2,
       "version_minor": 0
      },
      "text/plain": [
       " - (Training) :   0%|          | 0/1000 [00:00<?, ?it/s]"
      ]
     },
     "metadata": {},
     "output_type": "display_data"
    },
    {
     "name": "stdout",
     "output_type": "stream",
     "text": [
      "- (Train)   bce:  0.4478, mse:  0.0138,  acc: 90.028 %, pearson: 0.736, spearman: 0.545, elapse: 18.812 s\n"
     ]
    },
    {
     "data": {
      "application/vnd.jupyter.widget-view+json": {
       "model_id": "a82e16a551054145b8a067b0dd51c891",
       "version_major": 2,
       "version_minor": 0
      },
      "text/plain": [
       "  - (Validation)   :   0%|          | 0/10 [00:00<?, ?it/s]"
      ]
     },
     "metadata": {},
     "output_type": "display_data"
    },
    {
     "name": "stdout",
     "output_type": "stream",
     "text": [
      "- (Valid) bce:  0.4569,  acc: 89.352 %,pearson: 0.741, spearman: 0.542,elapse: 0.071 s\n",
      "update_rate: 0.006988\t0.036442\t\n",
      "[ Epoch 27 of 80 ]\n"
     ]
    },
    {
     "data": {
      "application/vnd.jupyter.widget-view+json": {
       "model_id": "3245547c4acc4614b27142d30f789ded",
       "version_major": 2,
       "version_minor": 0
      },
      "text/plain": [
       " - (Training) :   0%|          | 0/1000 [00:00<?, ?it/s]"
      ]
     },
     "metadata": {},
     "output_type": "display_data"
    },
    {
     "name": "stdout",
     "output_type": "stream",
     "text": [
      "- (Train)   bce:  0.4458, mse:  0.0138,  acc: 90.068 %, pearson: 0.735, spearman: 0.547, elapse: 18.070 s\n"
     ]
    },
    {
     "data": {
      "application/vnd.jupyter.widget-view+json": {
       "model_id": "adb2927b82c547d1811af857c92a1a81",
       "version_major": 2,
       "version_minor": 0
      },
      "text/plain": [
       "  - (Validation)   :   0%|          | 0/10 [00:00<?, ?it/s]"
      ]
     },
     "metadata": {},
     "output_type": "display_data"
    },
    {
     "name": "stdout",
     "output_type": "stream",
     "text": [
      "- (Valid) bce:  0.4625,  acc: 89.834 %,pearson: 0.738, spearman: 0.543,elapse: 0.055 s\n",
      "update_rate: 0.007647\t0.037108\t\n",
      "[ Epoch 28 of 80 ]\n"
     ]
    },
    {
     "data": {
      "application/vnd.jupyter.widget-view+json": {
       "model_id": "12a7a31469204cff8bdb77a88fcfb6b8",
       "version_major": 2,
       "version_minor": 0
      },
      "text/plain": [
       " - (Training) :   0%|          | 0/1000 [00:00<?, ?it/s]"
      ]
     },
     "metadata": {},
     "output_type": "display_data"
    },
    {
     "name": "stdout",
     "output_type": "stream",
     "text": [
      "- (Train)   bce:  0.4466, mse:  0.0138,  acc: 90.082 %, pearson: 0.738, spearman: 0.546, elapse: 18.024 s\n"
     ]
    },
    {
     "data": {
      "application/vnd.jupyter.widget-view+json": {
       "model_id": "03d11740b1084427987f1f577d82ba63",
       "version_major": 2,
       "version_minor": 0
      },
      "text/plain": [
       "  - (Validation)   :   0%|          | 0/10 [00:00<?, ?it/s]"
      ]
     },
     "metadata": {},
     "output_type": "display_data"
    },
    {
     "name": "stdout",
     "output_type": "stream",
     "text": [
      "- (Valid) bce:  0.4659,  acc: 89.404 %,pearson: 0.727, spearman: 0.534,elapse: 0.060 s\n",
      "update_rate: 0.004786\t0.025203\t\n",
      "[ Epoch 29 of 80 ]\n"
     ]
    },
    {
     "data": {
      "application/vnd.jupyter.widget-view+json": {
       "model_id": "03c85ae0c7994263a39b4ac1bbb755ad",
       "version_major": 2,
       "version_minor": 0
      },
      "text/plain": [
       " - (Training) :   0%|          | 0/1000 [00:00<?, ?it/s]"
      ]
     },
     "metadata": {},
     "output_type": "display_data"
    },
    {
     "name": "stdout",
     "output_type": "stream",
     "text": [
      "- (Train)   bce:  0.4466, mse:  0.0138,  acc: 90.024 %, pearson: 0.737, spearman: 0.545, elapse: 18.436 s\n"
     ]
    },
    {
     "data": {
      "application/vnd.jupyter.widget-view+json": {
       "model_id": "e2d0bd4fa2c8497999a4694be3943127",
       "version_major": 2,
       "version_minor": 0
      },
      "text/plain": [
       "  - (Validation)   :   0%|          | 0/10 [00:00<?, ?it/s]"
      ]
     },
     "metadata": {},
     "output_type": "display_data"
    },
    {
     "name": "stdout",
     "output_type": "stream",
     "text": [
      "- (Valid) bce:  0.4671,  acc: 89.818 %,pearson: 0.713, spearman: 0.528,elapse: 0.063 s\n",
      "update_rate: 0.006360\t0.029489\t\n",
      "[ Epoch 30 of 80 ]\n"
     ]
    },
    {
     "data": {
      "application/vnd.jupyter.widget-view+json": {
       "model_id": "656cd05e803745a8ba3c916600b7d203",
       "version_major": 2,
       "version_minor": 0
      },
      "text/plain": [
       " - (Training) :   0%|          | 0/1000 [00:00<?, ?it/s]"
      ]
     },
     "metadata": {},
     "output_type": "display_data"
    },
    {
     "name": "stdout",
     "output_type": "stream",
     "text": [
      "- (Train)   bce:  0.4453, mse:  0.0138,  acc: 90.063 %, pearson: 0.739, spearman: 0.546, elapse: 19.107 s\n"
     ]
    },
    {
     "data": {
      "application/vnd.jupyter.widget-view+json": {
       "model_id": "1eb72e78cb8c4534ad560b2b31567f00",
       "version_major": 2,
       "version_minor": 0
      },
      "text/plain": [
       "  - (Validation)   :   0%|          | 0/10 [00:00<?, ?it/s]"
      ]
     },
     "metadata": {},
     "output_type": "display_data"
    },
    {
     "name": "stdout",
     "output_type": "stream",
     "text": [
      "- (Valid) bce:  0.4373,  acc: 90.068 %,pearson: 0.736, spearman: 0.552,elapse: 0.065 s\n",
      "update_rate: 0.004881\t0.020498\t\n",
      "[ Epoch 31 of 80 ]\n"
     ]
    },
    {
     "data": {
      "application/vnd.jupyter.widget-view+json": {
       "model_id": "a04235ab62024670b0b5dd5d5112c477",
       "version_major": 2,
       "version_minor": 0
      },
      "text/plain": [
       " - (Training) :   0%|          | 0/1000 [00:00<?, ?it/s]"
      ]
     },
     "metadata": {},
     "output_type": "display_data"
    },
    {
     "name": "stdout",
     "output_type": "stream",
     "text": [
      "- (Train)   bce:  0.4449, mse:  0.0138,  acc: 90.066 %, pearson: 0.739, spearman: 0.547, elapse: 18.700 s\n"
     ]
    },
    {
     "data": {
      "application/vnd.jupyter.widget-view+json": {
       "model_id": "91467127a2224c6ab7644ee0a5373f0f",
       "version_major": 2,
       "version_minor": 0
      },
      "text/plain": [
       "  - (Validation)   :   0%|          | 0/10 [00:00<?, ?it/s]"
      ]
     },
     "metadata": {},
     "output_type": "display_data"
    },
    {
     "name": "stdout",
     "output_type": "stream",
     "text": [
      "- (Valid) bce:  0.4547,  acc: 89.626 %,pearson: 0.731, spearman: 0.546,elapse: 0.067 s\n",
      "update_rate: 0.004947\t0.021461\t\n",
      "[ Epoch 32 of 80 ]\n"
     ]
    },
    {
     "data": {
      "application/vnd.jupyter.widget-view+json": {
       "model_id": "c6c5ea4d69f149de8411604e562aaee2",
       "version_major": 2,
       "version_minor": 0
      },
      "text/plain": [
       " - (Training) :   0%|          | 0/1000 [00:00<?, ?it/s]"
      ]
     },
     "metadata": {},
     "output_type": "display_data"
    },
    {
     "name": "stdout",
     "output_type": "stream",
     "text": [
      "- (Train)   bce:  0.4434, mse:  0.0138,  acc: 90.141 %, pearson: 0.743, spearman: 0.548, elapse: 18.908 s\n"
     ]
    },
    {
     "data": {
      "application/vnd.jupyter.widget-view+json": {
       "model_id": "906bb1a48f9d454a836791c21108a4df",
       "version_major": 2,
       "version_minor": 0
      },
      "text/plain": [
       "  - (Validation)   :   0%|          | 0/10 [00:00<?, ?it/s]"
      ]
     },
     "metadata": {},
     "output_type": "display_data"
    },
    {
     "name": "stdout",
     "output_type": "stream",
     "text": [
      "- (Valid) bce:  0.4691,  acc: 88.252 %,pearson: 0.723, spearman: 0.529,elapse: 0.056 s\n",
      "update_rate: 0.004526\t0.020926\t\n",
      "[ Epoch 33 of 80 ]\n"
     ]
    },
    {
     "data": {
      "application/vnd.jupyter.widget-view+json": {
       "model_id": "654e5a47f5ce415881566dd6cce3978f",
       "version_major": 2,
       "version_minor": 0
      },
      "text/plain": [
       " - (Training) :   0%|          | 0/1000 [00:00<?, ?it/s]"
      ]
     },
     "metadata": {},
     "output_type": "display_data"
    },
    {
     "name": "stdout",
     "output_type": "stream",
     "text": [
      "- (Train)   bce:  0.4455, mse:  0.0138,  acc: 90.057 %, pearson: 0.741, spearman: 0.546, elapse: 18.844 s\n"
     ]
    },
    {
     "data": {
      "application/vnd.jupyter.widget-view+json": {
       "model_id": "7381ab3796cc4688b9c9e06f5c3611f6",
       "version_major": 2,
       "version_minor": 0
      },
      "text/plain": [
       "  - (Validation)   :   0%|          | 0/10 [00:00<?, ?it/s]"
      ]
     },
     "metadata": {},
     "output_type": "display_data"
    },
    {
     "name": "stdout",
     "output_type": "stream",
     "text": [
      "- (Valid) bce:  0.4532,  acc: 89.095 %,pearson: 0.727, spearman: 0.549,elapse: 0.055 s\n",
      "update_rate: 0.005473\t0.028366\t\n",
      "[ Epoch 34 of 80 ]\n"
     ]
    },
    {
     "data": {
      "application/vnd.jupyter.widget-view+json": {
       "model_id": "78509ba9da9441beba8c912043ba7dcc",
       "version_major": 2,
       "version_minor": 0
      },
      "text/plain": [
       " - (Training) :   0%|          | 0/1000 [00:00<?, ?it/s]"
      ]
     },
     "metadata": {},
     "output_type": "display_data"
    },
    {
     "name": "stdout",
     "output_type": "stream",
     "text": [
      "- (Train)   bce:  0.4441, mse:  0.0138,  acc: 90.100 %, pearson: 0.743, spearman: 0.547, elapse: 18.597 s\n"
     ]
    },
    {
     "data": {
      "application/vnd.jupyter.widget-view+json": {
       "model_id": "7739c191c742417d9fbfec8219e9d4cb",
       "version_major": 2,
       "version_minor": 0
      },
      "text/plain": [
       "  - (Validation)   :   0%|          | 0/10 [00:00<?, ?it/s]"
      ]
     },
     "metadata": {},
     "output_type": "display_data"
    },
    {
     "name": "stdout",
     "output_type": "stream",
     "text": [
      "- (Valid) bce:  0.4555,  acc: 88.665 %,pearson: 0.729, spearman: 0.551,elapse: 0.055 s\n",
      "update_rate: 0.004767\t0.021435\t\n",
      "[ Epoch 35 of 80 ]\n"
     ]
    },
    {
     "data": {
      "application/vnd.jupyter.widget-view+json": {
       "model_id": "b50f70b73c4e4e2eae8f7acaf9a1c232",
       "version_major": 2,
       "version_minor": 0
      },
      "text/plain": [
       " - (Training) :   0%|          | 0/1000 [00:00<?, ?it/s]"
      ]
     },
     "metadata": {},
     "output_type": "display_data"
    },
    {
     "name": "stdout",
     "output_type": "stream",
     "text": [
      "- (Train)   bce:  0.4437, mse:  0.0138,  acc: 90.118 %, pearson: 0.741, spearman: 0.548, elapse: 20.237 s\n"
     ]
    },
    {
     "data": {
      "application/vnd.jupyter.widget-view+json": {
       "model_id": "d77be6f4ee564b2db724dbbbfe45c46e",
       "version_major": 2,
       "version_minor": 0
      },
      "text/plain": [
       "  - (Validation)   :   0%|          | 0/10 [00:00<?, ?it/s]"
      ]
     },
     "metadata": {},
     "output_type": "display_data"
    },
    {
     "name": "stdout",
     "output_type": "stream",
     "text": [
      "- (Valid) bce:  0.4643,  acc: 89.365 %,pearson: 0.723, spearman: 0.535,elapse: 0.056 s\n",
      "update_rate: 0.005295\t0.025543\t\n",
      "[ Epoch 36 of 80 ]\n"
     ]
    },
    {
     "data": {
      "application/vnd.jupyter.widget-view+json": {
       "model_id": "fb65a14cf64b4186879d276426b96fd2",
       "version_major": 2,
       "version_minor": 0
      },
      "text/plain": [
       " - (Training) :   0%|          | 0/1000 [00:00<?, ?it/s]"
      ]
     },
     "metadata": {},
     "output_type": "display_data"
    },
    {
     "name": "stdout",
     "output_type": "stream",
     "text": [
      "- (Train)   bce:  0.4423, mse:  0.0138,  acc: 90.132 %, pearson: 0.745, spearman: 0.548, elapse: 19.171 s\n"
     ]
    },
    {
     "data": {
      "application/vnd.jupyter.widget-view+json": {
       "model_id": "fe28bf7a5a734341a5b37be7177e1850",
       "version_major": 2,
       "version_minor": 0
      },
      "text/plain": [
       "  - (Validation)   :   0%|          | 0/10 [00:00<?, ?it/s]"
      ]
     },
     "metadata": {},
     "output_type": "display_data"
    },
    {
     "name": "stdout",
     "output_type": "stream",
     "text": [
      "- (Valid) bce:  0.4452,  acc: 90.046 %,pearson: 0.734, spearman: 0.554,elapse: 0.055 s\n",
      "update_rate: 0.009392\t0.046949\t\n",
      "[ Epoch 37 of 80 ]\n"
     ]
    },
    {
     "data": {
      "application/vnd.jupyter.widget-view+json": {
       "model_id": "cd7ac53489fa4c3f9ed97110cc63656d",
       "version_major": 2,
       "version_minor": 0
      },
      "text/plain": [
       " - (Training) :   0%|          | 0/1000 [00:00<?, ?it/s]"
      ]
     },
     "metadata": {},
     "output_type": "display_data"
    },
    {
     "name": "stdout",
     "output_type": "stream",
     "text": [
      "- (Train)   bce:  0.4420, mse:  0.0137,  acc: 90.143 %, pearson: 0.742, spearman: 0.549, elapse: 17.826 s\n"
     ]
    },
    {
     "data": {
      "application/vnd.jupyter.widget-view+json": {
       "model_id": "6afc14ab43a94316a3e4ba589c4b7fda",
       "version_major": 2,
       "version_minor": 0
      },
      "text/plain": [
       "  - (Validation)   :   0%|          | 0/10 [00:00<?, ?it/s]"
      ]
     },
     "metadata": {},
     "output_type": "display_data"
    },
    {
     "name": "stdout",
     "output_type": "stream",
     "text": [
      "- (Valid) bce:  0.4613,  acc: 89.020 %,pearson: 0.739, spearman: 0.534,elapse: 0.079 s\n",
      "update_rate: 0.006945\t0.033275\t\n",
      "[ Epoch 38 of 80 ]\n"
     ]
    },
    {
     "data": {
      "application/vnd.jupyter.widget-view+json": {
       "model_id": "3df28e97906d413f99093961e98ba0b5",
       "version_major": 2,
       "version_minor": 0
      },
      "text/plain": [
       " - (Training) :   0%|          | 0/1000 [00:00<?, ?it/s]"
      ]
     },
     "metadata": {},
     "output_type": "display_data"
    },
    {
     "name": "stdout",
     "output_type": "stream",
     "text": [
      "- (Train)   bce:  0.4411, mse:  0.0137,  acc: 90.176 %, pearson: 0.746, spearman: 0.550, elapse: 18.010 s\n"
     ]
    },
    {
     "data": {
      "application/vnd.jupyter.widget-view+json": {
       "model_id": "214588f2482f4562af9667f0358b5ab1",
       "version_major": 2,
       "version_minor": 0
      },
      "text/plain": [
       "  - (Validation)   :   0%|          | 0/10 [00:00<?, ?it/s]"
      ]
     },
     "metadata": {},
     "output_type": "display_data"
    },
    {
     "name": "stdout",
     "output_type": "stream",
     "text": [
      "- (Valid) bce:  0.4498,  acc: 89.007 %,pearson: 0.723, spearman: 0.541,elapse: 0.053 s\n",
      "update_rate: 0.008696\t0.043852\t\n",
      "[ Epoch 39 of 80 ]\n"
     ]
    },
    {
     "data": {
      "application/vnd.jupyter.widget-view+json": {
       "model_id": "a063f45b6c854980b74176e70e76adf0",
       "version_major": 2,
       "version_minor": 0
      },
      "text/plain": [
       " - (Training) :   0%|          | 0/1000 [00:00<?, ?it/s]"
      ]
     },
     "metadata": {},
     "output_type": "display_data"
    },
    {
     "name": "stdout",
     "output_type": "stream",
     "text": [
      "- (Train)   bce:  0.4423, mse:  0.0137,  acc: 90.113 %, pearson: 0.744, spearman: 0.549, elapse: 18.393 s\n"
     ]
    },
    {
     "data": {
      "application/vnd.jupyter.widget-view+json": {
       "model_id": "c64ac60c81c84cd5b86ca6774a05ac0b",
       "version_major": 2,
       "version_minor": 0
      },
      "text/plain": [
       "  - (Validation)   :   0%|          | 0/10 [00:00<?, ?it/s]"
      ]
     },
     "metadata": {},
     "output_type": "display_data"
    },
    {
     "name": "stdout",
     "output_type": "stream",
     "text": [
      "- (Valid) bce:  0.4634,  acc: 89.697 %,pearson: 0.733, spearman: 0.535,elapse: 0.053 s\n",
      "update_rate: 0.009055\t0.046178\t\n",
      "[ Epoch 40 of 80 ]\n"
     ]
    },
    {
     "data": {
      "application/vnd.jupyter.widget-view+json": {
       "model_id": "8fdbc863867540b48701e735a9c7c78e",
       "version_major": 2,
       "version_minor": 0
      },
      "text/plain": [
       " - (Training) :   0%|          | 0/1000 [00:00<?, ?it/s]"
      ]
     },
     "metadata": {},
     "output_type": "display_data"
    },
    {
     "name": "stdout",
     "output_type": "stream",
     "text": [
      "- (Train)   bce:  0.4404, mse:  0.0137,  acc: 90.152 %, pearson: 0.745, spearman: 0.549, elapse: 18.523 s\n"
     ]
    },
    {
     "data": {
      "application/vnd.jupyter.widget-view+json": {
       "model_id": "c2b915253cf84533a2811ce413d94fc2",
       "version_major": 2,
       "version_minor": 0
      },
      "text/plain": [
       "  - (Validation)   :   0%|          | 0/10 [00:00<?, ?it/s]"
      ]
     },
     "metadata": {},
     "output_type": "display_data"
    },
    {
     "name": "stdout",
     "output_type": "stream",
     "text": [
      "- (Valid) bce:  0.4647,  acc: 89.154 %,pearson: 0.722, spearman: 0.536,elapse: 0.062 s\n",
      "update_rate: 0.003664\t0.020279\t\n",
      "[ Epoch 41 of 80 ]\n"
     ]
    },
    {
     "data": {
      "application/vnd.jupyter.widget-view+json": {
       "model_id": "2e5b799d81714604b679eb7c5843c3bc",
       "version_major": 2,
       "version_minor": 0
      },
      "text/plain": [
       " - (Training) :   0%|          | 0/1000 [00:00<?, ?it/s]"
      ]
     },
     "metadata": {},
     "output_type": "display_data"
    },
    {
     "name": "stdout",
     "output_type": "stream",
     "text": [
      "- (Train)   bce:  0.4406, mse:  0.0137,  acc: 90.167 %, pearson: 0.746, spearman: 0.549, elapse: 19.272 s\n"
     ]
    },
    {
     "data": {
      "application/vnd.jupyter.widget-view+json": {
       "model_id": "698647d1fdf64e2aa89cc2f689f6bb7a",
       "version_major": 2,
       "version_minor": 0
      },
      "text/plain": [
       "  - (Validation)   :   0%|          | 0/10 [00:00<?, ?it/s]"
      ]
     },
     "metadata": {},
     "output_type": "display_data"
    },
    {
     "name": "stdout",
     "output_type": "stream",
     "text": [
      "- (Valid) bce:  0.4597,  acc: 89.115 %,pearson: 0.728, spearman: 0.543,elapse: 0.057 s\n",
      "update_rate: 0.004526\t0.021865\t\n",
      "[ Epoch 42 of 80 ]\n"
     ]
    },
    {
     "data": {
      "application/vnd.jupyter.widget-view+json": {
       "model_id": "21115096a3204f4ea7216f23f9ef153e",
       "version_major": 2,
       "version_minor": 0
      },
      "text/plain": [
       " - (Training) :   0%|          | 0/1000 [00:00<?, ?it/s]"
      ]
     },
     "metadata": {},
     "output_type": "display_data"
    },
    {
     "name": "stdout",
     "output_type": "stream",
     "text": [
      "- (Train)   bce:  0.4404, mse:  0.0137,  acc: 90.143 %, pearson: 0.744, spearman: 0.549, elapse: 18.568 s\n"
     ]
    },
    {
     "data": {
      "application/vnd.jupyter.widget-view+json": {
       "model_id": "5e3f331e16b9418f96085db9609d3521",
       "version_major": 2,
       "version_minor": 0
      },
      "text/plain": [
       "  - (Validation)   :   0%|          | 0/10 [00:00<?, ?it/s]"
      ]
     },
     "metadata": {},
     "output_type": "display_data"
    },
    {
     "name": "stdout",
     "output_type": "stream",
     "text": [
      "- (Valid) bce:  0.4536,  acc: 89.466 %,pearson: 0.727, spearman: 0.543,elapse: 0.072 s\n",
      "update_rate: 0.007520\t0.038439\t\n",
      "[ Epoch 43 of 80 ]\n"
     ]
    },
    {
     "data": {
      "application/vnd.jupyter.widget-view+json": {
       "model_id": "3d705a794f684286ae906b8bb389884a",
       "version_major": 2,
       "version_minor": 0
      },
      "text/plain": [
       " - (Training) :   0%|          | 0/1000 [00:00<?, ?it/s]"
      ]
     },
     "metadata": {},
     "output_type": "display_data"
    },
    {
     "name": "stdout",
     "output_type": "stream",
     "text": [
      "- (Train)   bce:  0.4423, mse:  0.0137,  acc: 90.089 %, pearson: 0.747, spearman: 0.548, elapse: 18.365 s\n"
     ]
    },
    {
     "data": {
      "application/vnd.jupyter.widget-view+json": {
       "model_id": "ff8f814e7219452bae9a7879588ab6cd",
       "version_major": 2,
       "version_minor": 0
      },
      "text/plain": [
       "  - (Validation)   :   0%|          | 0/10 [00:00<?, ?it/s]"
      ]
     },
     "metadata": {},
     "output_type": "display_data"
    },
    {
     "name": "stdout",
     "output_type": "stream",
     "text": [
      "- (Valid) bce:  0.4503,  acc: 88.949 %,pearson: 0.768, spearman: 0.541,elapse: 0.055 s\n",
      "update_rate: 0.008639\t0.041764\t\n",
      "[ Epoch 44 of 80 ]\n"
     ]
    },
    {
     "data": {
      "application/vnd.jupyter.widget-view+json": {
       "model_id": "1da40ab7deed43adaf346529f5c0b495",
       "version_major": 2,
       "version_minor": 0
      },
      "text/plain": [
       " - (Training) :   0%|          | 0/1000 [00:00<?, ?it/s]"
      ]
     },
     "metadata": {},
     "output_type": "display_data"
    },
    {
     "name": "stdout",
     "output_type": "stream",
     "text": [
      "- (Train)   bce:  0.4406, mse:  0.0137,  acc: 90.145 %, pearson: 0.746, spearman: 0.549, elapse: 18.447 s\n"
     ]
    },
    {
     "data": {
      "application/vnd.jupyter.widget-view+json": {
       "model_id": "de7a4c897e10424db4327b2ae11c3e9c",
       "version_major": 2,
       "version_minor": 0
      },
      "text/plain": [
       "  - (Validation)   :   0%|          | 0/10 [00:00<?, ?it/s]"
      ]
     },
     "metadata": {},
     "output_type": "display_data"
    },
    {
     "name": "stdout",
     "output_type": "stream",
     "text": [
      "- (Valid) bce:  0.4652,  acc: 89.053 %,pearson: 0.728, spearman: 0.539,elapse: 0.054 s\n",
      "update_rate: 0.005561\t0.030428\t\n",
      "[ Epoch 45 of 80 ]\n"
     ]
    },
    {
     "data": {
      "application/vnd.jupyter.widget-view+json": {
       "model_id": "09d3ab965c0e4e43823ec19007893d8d",
       "version_major": 2,
       "version_minor": 0
      },
      "text/plain": [
       " - (Training) :   0%|          | 0/1000 [00:00<?, ?it/s]"
      ]
     },
     "metadata": {},
     "output_type": "display_data"
    },
    {
     "name": "stdout",
     "output_type": "stream",
     "text": [
      "- (Train)   bce:  0.4405, mse:  0.0137,  acc: 90.137 %, pearson: 0.745, spearman: 0.548, elapse: 18.483 s\n"
     ]
    },
    {
     "data": {
      "application/vnd.jupyter.widget-view+json": {
       "model_id": "de2128c61c7d4c90a688fcb0eb21ff91",
       "version_major": 2,
       "version_minor": 0
      },
      "text/plain": [
       "  - (Validation)   :   0%|          | 0/10 [00:00<?, ?it/s]"
      ]
     },
     "metadata": {},
     "output_type": "display_data"
    },
    {
     "name": "stdout",
     "output_type": "stream",
     "text": [
      "- (Valid) bce:  0.4527,  acc: 89.870 %,pearson: 0.756, spearman: 0.543,elapse: 0.064 s\n",
      "update_rate: 0.004968\t0.025927\t\n",
      "[ Epoch 46 of 80 ]\n"
     ]
    },
    {
     "data": {
      "application/vnd.jupyter.widget-view+json": {
       "model_id": "0b8c44d2437f4711b70ec85f457a4121",
       "version_major": 2,
       "version_minor": 0
      },
      "text/plain": [
       " - (Training) :   0%|          | 0/1000 [00:00<?, ?it/s]"
      ]
     },
     "metadata": {},
     "output_type": "display_data"
    },
    {
     "name": "stdout",
     "output_type": "stream",
     "text": [
      "- (Train)   bce:  0.4399, mse:  0.0136,  acc: 90.129 %, pearson: 0.747, spearman: 0.549, elapse: 18.711 s\n"
     ]
    },
    {
     "data": {
      "application/vnd.jupyter.widget-view+json": {
       "model_id": "552a36b9568c420095b7a5c11ffb69cd",
       "version_major": 2,
       "version_minor": 0
      },
      "text/plain": [
       "  - (Validation)   :   0%|          | 0/10 [00:00<?, ?it/s]"
      ]
     },
     "metadata": {},
     "output_type": "display_data"
    },
    {
     "name": "stdout",
     "output_type": "stream",
     "text": [
      "- (Valid) bce:  0.4407,  acc: 90.114 %,pearson: 0.736, spearman: 0.550,elapse: 0.055 s\n",
      "update_rate: 0.008830\t0.042725\t\n",
      "[ Epoch 47 of 80 ]\n"
     ]
    },
    {
     "data": {
      "application/vnd.jupyter.widget-view+json": {
       "model_id": "07d1e2962a4e4f53a6801cc936022358",
       "version_major": 2,
       "version_minor": 0
      },
      "text/plain": [
       " - (Training) :   0%|          | 0/1000 [00:00<?, ?it/s]"
      ]
     },
     "metadata": {},
     "output_type": "display_data"
    },
    {
     "name": "stdout",
     "output_type": "stream",
     "text": [
      "- (Train)   bce:  0.4395, mse:  0.0136,  acc: 90.160 %, pearson: 0.746, spearman: 0.549, elapse: 18.508 s\n"
     ]
    },
    {
     "data": {
      "application/vnd.jupyter.widget-view+json": {
       "model_id": "cc50ceb3b70f43d1892a2bd0ea89db9d",
       "version_major": 2,
       "version_minor": 0
      },
      "text/plain": [
       "  - (Validation)   :   0%|          | 0/10 [00:00<?, ?it/s]"
      ]
     },
     "metadata": {},
     "output_type": "display_data"
    },
    {
     "name": "stdout",
     "output_type": "stream",
     "text": [
      "- (Valid) bce:  0.4666,  acc: 89.225 %,pearson: 0.718, spearman: 0.527,elapse: 0.054 s\n",
      "update_rate: 0.006622\t0.033723\t\n",
      "[ Epoch 48 of 80 ]\n"
     ]
    },
    {
     "data": {
      "application/vnd.jupyter.widget-view+json": {
       "model_id": "0a8d374e2ef8426f916d319253c083d4",
       "version_major": 2,
       "version_minor": 0
      },
      "text/plain": [
       " - (Training) :   0%|          | 0/1000 [00:00<?, ?it/s]"
      ]
     },
     "metadata": {},
     "output_type": "display_data"
    },
    {
     "name": "stdout",
     "output_type": "stream",
     "text": [
      "- (Train)   bce:  0.4379, mse:  0.0136,  acc: 90.177 %, pearson: 0.747, spearman: 0.551, elapse: 18.649 s\n"
     ]
    },
    {
     "data": {
      "application/vnd.jupyter.widget-view+json": {
       "model_id": "1e03dd820bf24a44a1ba53a6ee14fecf",
       "version_major": 2,
       "version_minor": 0
      },
      "text/plain": [
       "  - (Validation)   :   0%|          | 0/10 [00:00<?, ?it/s]"
      ]
     },
     "metadata": {},
     "output_type": "display_data"
    },
    {
     "name": "stdout",
     "output_type": "stream",
     "text": [
      "- (Valid) bce:  0.4682,  acc: 88.558 %,pearson: 0.739, spearman: 0.531,elapse: 0.062 s\n",
      "update_rate: 0.005291\t0.027264\t\n",
      "[ Epoch 49 of 80 ]\n"
     ]
    },
    {
     "data": {
      "application/vnd.jupyter.widget-view+json": {
       "model_id": "d2483bbc39784105a07dde15e6d2da63",
       "version_major": 2,
       "version_minor": 0
      },
      "text/plain": [
       " - (Training) :   0%|          | 0/1000 [00:00<?, ?it/s]"
      ]
     },
     "metadata": {},
     "output_type": "display_data"
    },
    {
     "name": "stdout",
     "output_type": "stream",
     "text": [
      "- (Train)   bce:  0.4397, mse:  0.0137,  acc: 90.115 %, pearson: 0.746, spearman: 0.549, elapse: 19.056 s\n"
     ]
    },
    {
     "data": {
      "application/vnd.jupyter.widget-view+json": {
       "model_id": "476d40ff9734448eb0b9e490d1bf88bc",
       "version_major": 2,
       "version_minor": 0
      },
      "text/plain": [
       "  - (Validation)   :   0%|          | 0/10 [00:00<?, ?it/s]"
      ]
     },
     "metadata": {},
     "output_type": "display_data"
    },
    {
     "name": "stdout",
     "output_type": "stream",
     "text": [
      "- (Valid) bce:  0.4565,  acc: 90.020 %,pearson: 0.736, spearman: 0.530,elapse: 0.072 s\n",
      "update_rate: 0.004828\t0.023401\t\n",
      "[ Epoch 50 of 80 ]\n"
     ]
    },
    {
     "data": {
      "application/vnd.jupyter.widget-view+json": {
       "model_id": "f072f4bdbf774f50bff674790ddb7131",
       "version_major": 2,
       "version_minor": 0
      },
      "text/plain": [
       " - (Training) :   0%|          | 0/1000 [00:00<?, ?it/s]"
      ]
     },
     "metadata": {},
     "output_type": "display_data"
    },
    {
     "name": "stdout",
     "output_type": "stream",
     "text": [
      "- (Train)   bce:  0.4376, mse:  0.0136,  acc: 90.204 %, pearson: 0.749, spearman: 0.551, elapse: 18.056 s\n"
     ]
    },
    {
     "data": {
      "application/vnd.jupyter.widget-view+json": {
       "model_id": "33f2367d42474479aa6dc0b79f402882",
       "version_major": 2,
       "version_minor": 0
      },
      "text/plain": [
       "  - (Validation)   :   0%|          | 0/10 [00:00<?, ?it/s]"
      ]
     },
     "metadata": {},
     "output_type": "display_data"
    },
    {
     "name": "stdout",
     "output_type": "stream",
     "text": [
      "- (Valid) bce:  0.4479,  acc: 89.421 %,pearson: 0.717, spearman: 0.546,elapse: 0.054 s\n",
      "update_rate: 0.005755\t0.027755\t\n",
      "[ Epoch 51 of 80 ]\n"
     ]
    },
    {
     "data": {
      "application/vnd.jupyter.widget-view+json": {
       "model_id": "775668168c2a48b5b742de485a952561",
       "version_major": 2,
       "version_minor": 0
      },
      "text/plain": [
       " - (Training) :   0%|          | 0/1000 [00:00<?, ?it/s]"
      ]
     },
     "metadata": {},
     "output_type": "display_data"
    },
    {
     "name": "stdout",
     "output_type": "stream",
     "text": [
      "- (Train)   bce:  0.4390, mse:  0.0136,  acc: 90.141 %, pearson: 0.748, spearman: 0.549, elapse: 18.175 s\n"
     ]
    },
    {
     "data": {
      "application/vnd.jupyter.widget-view+json": {
       "model_id": "1374f648aa1c4d8f8852ab68fa875ff1",
       "version_major": 2,
       "version_minor": 0
      },
      "text/plain": [
       "  - (Validation)   :   0%|          | 0/10 [00:00<?, ?it/s]"
      ]
     },
     "metadata": {},
     "output_type": "display_data"
    },
    {
     "name": "stdout",
     "output_type": "stream",
     "text": [
      "- (Valid) bce:  0.4567,  acc: 89.606 %,pearson: 0.726, spearman: 0.533,elapse: 0.056 s\n",
      "update_rate: 0.005367\t0.026845\t\n",
      "[ Epoch 52 of 80 ]\n"
     ]
    },
    {
     "data": {
      "application/vnd.jupyter.widget-view+json": {
       "model_id": "378dcacfed734670b10f49083fe48eec",
       "version_major": 2,
       "version_minor": 0
      },
      "text/plain": [
       " - (Training) :   0%|          | 0/1000 [00:00<?, ?it/s]"
      ]
     },
     "metadata": {},
     "output_type": "display_data"
    },
    {
     "name": "stdout",
     "output_type": "stream",
     "text": [
      "- (Train)   bce:  0.4382, mse:  0.0136,  acc: 90.148 %, pearson: 0.749, spearman: 0.550, elapse: 18.078 s\n"
     ]
    },
    {
     "data": {
      "application/vnd.jupyter.widget-view+json": {
       "model_id": "2fecc1778c444c2c861ddf04e773540a",
       "version_major": 2,
       "version_minor": 0
      },
      "text/plain": [
       "  - (Validation)   :   0%|          | 0/10 [00:00<?, ?it/s]"
      ]
     },
     "metadata": {},
     "output_type": "display_data"
    },
    {
     "name": "stdout",
     "output_type": "stream",
     "text": [
      "- (Valid) bce:  0.4478,  acc: 90.020 %,pearson: 0.732, spearman: 0.549,elapse: 0.053 s\n",
      "update_rate: 0.008280\t0.042634\t\n",
      "[ Epoch 53 of 80 ]\n"
     ]
    },
    {
     "data": {
      "application/vnd.jupyter.widget-view+json": {
       "model_id": "c56ecd0ec4b847bc9ebad9790ff1ceea",
       "version_major": 2,
       "version_minor": 0
      },
      "text/plain": [
       " - (Training) :   0%|          | 0/1000 [00:00<?, ?it/s]"
      ]
     },
     "metadata": {},
     "output_type": "display_data"
    },
    {
     "name": "stdout",
     "output_type": "stream",
     "text": [
      "- (Train)   bce:  0.4375, mse:  0.0136,  acc: 90.172 %, pearson: 0.749, spearman: 0.550, elapse: 17.778 s\n"
     ]
    },
    {
     "data": {
      "application/vnd.jupyter.widget-view+json": {
       "model_id": "05f2a7d56737456aac9893a8be927ebb",
       "version_major": 2,
       "version_minor": 0
      },
      "text/plain": [
       "  - (Validation)   :   0%|          | 0/10 [00:00<?, ?it/s]"
      ]
     },
     "metadata": {},
     "output_type": "display_data"
    },
    {
     "name": "stdout",
     "output_type": "stream",
     "text": [
      "- (Valid) bce:  0.4482,  acc: 89.704 %,pearson: 0.729, spearman: 0.546,elapse: 0.053 s\n",
      "update_rate: 0.008315\t0.040600\t\n",
      "[ Epoch 54 of 80 ]\n"
     ]
    },
    {
     "data": {
      "application/vnd.jupyter.widget-view+json": {
       "model_id": "6e4317365aa049fdaaf4498bfd33a254",
       "version_major": 2,
       "version_minor": 0
      },
      "text/plain": [
       " - (Training) :   0%|          | 0/1000 [00:00<?, ?it/s]"
      ]
     },
     "metadata": {},
     "output_type": "display_data"
    },
    {
     "name": "stdout",
     "output_type": "stream",
     "text": [
      "- (Train)   bce:  0.4377, mse:  0.0136,  acc: 90.181 %, pearson: 0.750, spearman: 0.550, elapse: 18.296 s\n"
     ]
    },
    {
     "data": {
      "application/vnd.jupyter.widget-view+json": {
       "model_id": "edbf20e6a46045228ac4bd8d5750c529",
       "version_major": 2,
       "version_minor": 0
      },
      "text/plain": [
       "  - (Validation)   :   0%|          | 0/10 [00:00<?, ?it/s]"
      ]
     },
     "metadata": {},
     "output_type": "display_data"
    },
    {
     "name": "stdout",
     "output_type": "stream",
     "text": [
      "- (Valid) bce:  0.4643,  acc: 89.124 %,pearson: 0.717, spearman: 0.530,elapse: 0.054 s\n",
      "update_rate: 0.005743\t0.027325\t\n",
      "[ Epoch 55 of 80 ]\n"
     ]
    },
    {
     "data": {
      "application/vnd.jupyter.widget-view+json": {
       "model_id": "0efef26d301f4b3b82a36dfbf6bf7ad5",
       "version_major": 2,
       "version_minor": 0
      },
      "text/plain": [
       " - (Training) :   0%|          | 0/1000 [00:00<?, ?it/s]"
      ]
     },
     "metadata": {},
     "output_type": "display_data"
    },
    {
     "name": "stdout",
     "output_type": "stream",
     "text": [
      "- (Train)   bce:  0.4360, mse:  0.0136,  acc: 90.227 %, pearson: 0.749, spearman: 0.551, elapse: 18.218 s\n"
     ]
    },
    {
     "data": {
      "application/vnd.jupyter.widget-view+json": {
       "model_id": "63a6d36bccd246129abee0eb6c4eb796",
       "version_major": 2,
       "version_minor": 0
      },
      "text/plain": [
       "  - (Validation)   :   0%|          | 0/10 [00:00<?, ?it/s]"
      ]
     },
     "metadata": {},
     "output_type": "display_data"
    },
    {
     "name": "stdout",
     "output_type": "stream",
     "text": [
      "- (Valid) bce:  0.4540,  acc: 88.949 %,pearson: 0.719, spearman: 0.536,elapse: 0.053 s\n",
      "update_rate: 0.004376\t0.018327\t\n",
      "[ Epoch 56 of 80 ]\n"
     ]
    },
    {
     "data": {
      "application/vnd.jupyter.widget-view+json": {
       "model_id": "4b6458797c8c4c12b4d52a58c7110b55",
       "version_major": 2,
       "version_minor": 0
      },
      "text/plain": [
       " - (Training) :   0%|          | 0/1000 [00:00<?, ?it/s]"
      ]
     },
     "metadata": {},
     "output_type": "display_data"
    },
    {
     "name": "stdout",
     "output_type": "stream",
     "text": [
      "- (Train)   bce:  0.4375, mse:  0.0136,  acc: 90.176 %, pearson: 0.751, spearman: 0.550, elapse: 18.318 s\n"
     ]
    },
    {
     "data": {
      "application/vnd.jupyter.widget-view+json": {
       "model_id": "103ed094362a4a8b8135853fbabf308f",
       "version_major": 2,
       "version_minor": 0
      },
      "text/plain": [
       "  - (Validation)   :   0%|          | 0/10 [00:00<?, ?it/s]"
      ]
     },
     "metadata": {},
     "output_type": "display_data"
    },
    {
     "name": "stdout",
     "output_type": "stream",
     "text": [
      "- (Valid) bce:  0.4542,  acc: 90.322 %,pearson: 0.733, spearman: 0.551,elapse: 0.054 s\n",
      "update_rate: 0.006145\t0.028018\t\n",
      "[ Epoch 57 of 80 ]\n"
     ]
    },
    {
     "data": {
      "application/vnd.jupyter.widget-view+json": {
       "model_id": "e0675b5fd897402d93a1677ca6471a12",
       "version_major": 2,
       "version_minor": 0
      },
      "text/plain": [
       " - (Training) :   0%|          | 0/1000 [00:00<?, ?it/s]"
      ]
     },
     "metadata": {},
     "output_type": "display_data"
    },
    {
     "name": "stdout",
     "output_type": "stream",
     "text": [
      "- (Train)   bce:  0.4352, mse:  0.0136,  acc: 90.235 %, pearson: 0.749, spearman: 0.552, elapse: 20.021 s\n"
     ]
    },
    {
     "data": {
      "application/vnd.jupyter.widget-view+json": {
       "model_id": "9aa6b91d77b54e0f8665884f41866d34",
       "version_major": 2,
       "version_minor": 0
      },
      "text/plain": [
       "  - (Validation)   :   0%|          | 0/10 [00:00<?, ?it/s]"
      ]
     },
     "metadata": {},
     "output_type": "display_data"
    },
    {
     "name": "stdout",
     "output_type": "stream",
     "text": [
      "- (Valid) bce:  0.4736,  acc: 89.473 %,pearson: 0.728, spearman: 0.532,elapse: 0.059 s\n",
      "update_rate: 0.004781\t0.024820\t\n",
      "[ Epoch 58 of 80 ]\n"
     ]
    },
    {
     "data": {
      "application/vnd.jupyter.widget-view+json": {
       "model_id": "38c7fc5e91c1443593536f6a0fce07a7",
       "version_major": 2,
       "version_minor": 0
      },
      "text/plain": [
       " - (Training) :   0%|          | 0/1000 [00:00<?, ?it/s]"
      ]
     },
     "metadata": {},
     "output_type": "display_data"
    },
    {
     "name": "stdout",
     "output_type": "stream",
     "text": [
      "- (Train)   bce:  0.4371, mse:  0.0136,  acc: 90.191 %, pearson: 0.751, spearman: 0.551, elapse: 18.829 s\n"
     ]
    },
    {
     "data": {
      "application/vnd.jupyter.widget-view+json": {
       "model_id": "c058aafb56fe422b9fa756105eb02bc1",
       "version_major": 2,
       "version_minor": 0
      },
      "text/plain": [
       "  - (Validation)   :   0%|          | 0/10 [00:00<?, ?it/s]"
      ]
     },
     "metadata": {},
     "output_type": "display_data"
    },
    {
     "name": "stdout",
     "output_type": "stream",
     "text": [
      "- (Valid) bce:  0.4588,  acc: 89.053 %,pearson: 0.742, spearman: 0.536,elapse: 0.072 s\n",
      "update_rate: 0.006318\t0.033899\t\n",
      "[ Epoch 59 of 80 ]\n"
     ]
    },
    {
     "data": {
      "application/vnd.jupyter.widget-view+json": {
       "model_id": "8a781de9b04e475589ac80c4c1f31cbb",
       "version_major": 2,
       "version_minor": 0
      },
      "text/plain": [
       " - (Training) :   0%|          | 0/1000 [00:00<?, ?it/s]"
      ]
     },
     "metadata": {},
     "output_type": "display_data"
    },
    {
     "name": "stdout",
     "output_type": "stream",
     "text": [
      "- (Train)   bce:  0.4353, mse:  0.0136,  acc: 90.231 %, pearson: 0.753, spearman: 0.552, elapse: 18.881 s\n"
     ]
    },
    {
     "data": {
      "application/vnd.jupyter.widget-view+json": {
       "model_id": "417384964d6d4699b1ad7f34b410e73c",
       "version_major": 2,
       "version_minor": 0
      },
      "text/plain": [
       "  - (Validation)   :   0%|          | 0/10 [00:00<?, ?it/s]"
      ]
     },
     "metadata": {},
     "output_type": "display_data"
    },
    {
     "name": "stdout",
     "output_type": "stream",
     "text": [
      "- (Valid) bce:  0.4457,  acc: 89.518 %,pearson: 0.723, spearman: 0.541,elapse: 0.060 s\n",
      "update_rate: 0.008693\t0.044532\t\n",
      "[ Epoch 60 of 80 ]\n"
     ]
    },
    {
     "data": {
      "application/vnd.jupyter.widget-view+json": {
       "model_id": "e83222094698423fa7cd1dc7aaf8fffa",
       "version_major": 2,
       "version_minor": 0
      },
      "text/plain": [
       " - (Training) :   0%|          | 0/1000 [00:00<?, ?it/s]"
      ]
     },
     "metadata": {},
     "output_type": "display_data"
    },
    {
     "name": "stdout",
     "output_type": "stream",
     "text": [
      "- (Train)   bce:  0.4345, mse:  0.0135,  acc: 90.216 %, pearson: 0.751, spearman: 0.552, elapse: 18.809 s\n"
     ]
    },
    {
     "data": {
      "application/vnd.jupyter.widget-view+json": {
       "model_id": "50d443006d9a4d2a95cc3a9e1d4e7be5",
       "version_major": 2,
       "version_minor": 0
      },
      "text/plain": [
       "  - (Validation)   :   0%|          | 0/10 [00:00<?, ?it/s]"
      ]
     },
     "metadata": {},
     "output_type": "display_data"
    },
    {
     "name": "stdout",
     "output_type": "stream",
     "text": [
      "- (Valid) bce:  0.4580,  acc: 88.555 %,pearson: 0.726, spearman: 0.542,elapse: 0.056 s\n",
      "update_rate: 0.009875\t0.050966\t\n",
      "[ Epoch 61 of 80 ]\n"
     ]
    },
    {
     "data": {
      "application/vnd.jupyter.widget-view+json": {
       "model_id": "2dc593ed717340d094fadb1e622f9c82",
       "version_major": 2,
       "version_minor": 0
      },
      "text/plain": [
       " - (Training) :   0%|          | 0/1000 [00:00<?, ?it/s]"
      ]
     },
     "metadata": {},
     "output_type": "display_data"
    },
    {
     "name": "stdout",
     "output_type": "stream",
     "text": [
      "- (Train)   bce:  0.4358, mse:  0.0136,  acc: 90.201 %, pearson: 0.752, spearman: 0.552, elapse: 18.723 s\n"
     ]
    },
    {
     "data": {
      "application/vnd.jupyter.widget-view+json": {
       "model_id": "6591d7c8feb740cebe0d710dc2b756d1",
       "version_major": 2,
       "version_minor": 0
      },
      "text/plain": [
       "  - (Validation)   :   0%|          | 0/10 [00:00<?, ?it/s]"
      ]
     },
     "metadata": {},
     "output_type": "display_data"
    },
    {
     "name": "stdout",
     "output_type": "stream",
     "text": [
      "- (Valid) bce:  0.4610,  acc: 88.896 %,pearson: 0.711, spearman: 0.529,elapse: 0.059 s\n",
      "update_rate: 0.006839\t0.034950\t\n",
      "[ Epoch 62 of 80 ]\n"
     ]
    },
    {
     "data": {
      "application/vnd.jupyter.widget-view+json": {
       "model_id": "4601f6229b244168ace04f03be6c32cb",
       "version_major": 2,
       "version_minor": 0
      },
      "text/plain": [
       " - (Training) :   0%|          | 0/1000 [00:00<?, ?it/s]"
      ]
     },
     "metadata": {},
     "output_type": "display_data"
    },
    {
     "name": "stdout",
     "output_type": "stream",
     "text": [
      "- (Train)   bce:  0.4361, mse:  0.0135,  acc: 90.132 %, pearson: 0.750, spearman: 0.551, elapse: 18.431 s\n"
     ]
    },
    {
     "data": {
      "application/vnd.jupyter.widget-view+json": {
       "model_id": "6760c3a8fe3848d386d5e038ae7ddc15",
       "version_major": 2,
       "version_minor": 0
      },
      "text/plain": [
       "  - (Validation)   :   0%|          | 0/10 [00:00<?, ?it/s]"
      ]
     },
     "metadata": {},
     "output_type": "display_data"
    },
    {
     "name": "stdout",
     "output_type": "stream",
     "text": [
      "- (Valid) bce:  0.4533,  acc: 89.196 %,pearson: 0.723, spearman: 0.544,elapse: 0.054 s\n",
      "update_rate: 0.007725\t0.038323\t\n",
      "[ Epoch 63 of 80 ]\n"
     ]
    },
    {
     "data": {
      "application/vnd.jupyter.widget-view+json": {
       "model_id": "5e02ee2fc0ee45b1ae016344b4275931",
       "version_major": 2,
       "version_minor": 0
      },
      "text/plain": [
       " - (Training) :   0%|          | 0/1000 [00:00<?, ?it/s]"
      ]
     },
     "metadata": {},
     "output_type": "display_data"
    },
    {
     "name": "stdout",
     "output_type": "stream",
     "text": [
      "- (Train)   bce:  0.4353, mse:  0.0136,  acc: 90.153 %, pearson: 0.749, spearman: 0.550, elapse: 19.291 s\n"
     ]
    },
    {
     "data": {
      "application/vnd.jupyter.widget-view+json": {
       "model_id": "e05c9b05d5414749958627f11269fdd7",
       "version_major": 2,
       "version_minor": 0
      },
      "text/plain": [
       "  - (Validation)   :   0%|          | 0/10 [00:00<?, ?it/s]"
      ]
     },
     "metadata": {},
     "output_type": "display_data"
    },
    {
     "name": "stdout",
     "output_type": "stream",
     "text": [
      "- (Valid) bce:  0.4693,  acc: 88.825 %,pearson: 0.719, spearman: 0.526,elapse: 0.125 s\n",
      "update_rate: 0.005417\t0.025363\t\n",
      "[ Epoch 64 of 80 ]\n"
     ]
    },
    {
     "data": {
      "application/vnd.jupyter.widget-view+json": {
       "model_id": "9dcfe52efc1f40d2b94588de1b02855c",
       "version_major": 2,
       "version_minor": 0
      },
      "text/plain": [
       " - (Training) :   0%|          | 0/1000 [00:00<?, ?it/s]"
      ]
     },
     "metadata": {},
     "output_type": "display_data"
    },
    {
     "name": "stdout",
     "output_type": "stream",
     "text": [
      "- (Train)   bce:  0.4347, mse:  0.0135,  acc: 90.207 %, pearson: 0.750, spearman: 0.552, elapse: 20.651 s\n"
     ]
    },
    {
     "data": {
      "application/vnd.jupyter.widget-view+json": {
       "model_id": "90b7737f9ba24dbe8de5e471d391b56b",
       "version_major": 2,
       "version_minor": 0
      },
      "text/plain": [
       "  - (Validation)   :   0%|          | 0/10 [00:00<?, ?it/s]"
      ]
     },
     "metadata": {},
     "output_type": "display_data"
    },
    {
     "name": "stdout",
     "output_type": "stream",
     "text": [
      "- (Valid) bce:  0.4658,  acc: 88.991 %,pearson: 0.724, spearman: 0.529,elapse: 0.071 s\n",
      "update_rate: 0.005578\t0.029538\t\n",
      "[ Epoch 65 of 80 ]\n"
     ]
    },
    {
     "data": {
      "application/vnd.jupyter.widget-view+json": {
       "model_id": "a2b254327f5f4c9d839007f8089ad1a4",
       "version_major": 2,
       "version_minor": 0
      },
      "text/plain": [
       " - (Training) :   0%|          | 0/1000 [00:00<?, ?it/s]"
      ]
     },
     "metadata": {},
     "output_type": "display_data"
    },
    {
     "name": "stdout",
     "output_type": "stream",
     "text": [
      "- (Train)   bce:  0.4369, mse:  0.0135,  acc: 90.100 %, pearson: 0.751, spearman: 0.549, elapse: 17.877 s\n"
     ]
    },
    {
     "data": {
      "application/vnd.jupyter.widget-view+json": {
       "model_id": "ad4575ce4b8e4aa3b65ce37197366946",
       "version_major": 2,
       "version_minor": 0
      },
      "text/plain": [
       "  - (Validation)   :   0%|          | 0/10 [00:00<?, ?it/s]"
      ]
     },
     "metadata": {},
     "output_type": "display_data"
    },
    {
     "name": "stdout",
     "output_type": "stream",
     "text": [
      "- (Valid) bce:  0.4435,  acc: 89.417 %,pearson: 0.709, spearman: 0.545,elapse: 0.056 s\n",
      "update_rate: 0.006169\t0.033991\t\n",
      "[ Epoch 66 of 80 ]\n"
     ]
    },
    {
     "data": {
      "application/vnd.jupyter.widget-view+json": {
       "model_id": "728125f5c4b54263a9a422b48f411b78",
       "version_major": 2,
       "version_minor": 0
      },
      "text/plain": [
       " - (Training) :   0%|          | 0/1000 [00:00<?, ?it/s]"
      ]
     },
     "metadata": {},
     "output_type": "display_data"
    },
    {
     "name": "stdout",
     "output_type": "stream",
     "text": [
      "- (Train)   bce:  0.4343, mse:  0.0135,  acc: 90.191 %, pearson: 0.751, spearman: 0.552, elapse: 18.496 s\n"
     ]
    },
    {
     "data": {
      "application/vnd.jupyter.widget-view+json": {
       "model_id": "3ae1db56f61a4effb04d713e47b525a0",
       "version_major": 2,
       "version_minor": 0
      },
      "text/plain": [
       "  - (Validation)   :   0%|          | 0/10 [00:00<?, ?it/s]"
      ]
     },
     "metadata": {},
     "output_type": "display_data"
    },
    {
     "name": "stdout",
     "output_type": "stream",
     "text": [
      "- (Valid) bce:  0.4568,  acc: 89.655 %,pearson: 0.728, spearman: 0.540,elapse: 0.054 s\n",
      "update_rate: 0.005242\t0.025060\t\n",
      "[ Epoch 67 of 80 ]\n"
     ]
    },
    {
     "data": {
      "application/vnd.jupyter.widget-view+json": {
       "model_id": "f421d6bfc6dc49119c87162ea649eda9",
       "version_major": 2,
       "version_minor": 0
      },
      "text/plain": [
       " - (Training) :   0%|          | 0/1000 [00:00<?, ?it/s]"
      ]
     },
     "metadata": {},
     "output_type": "display_data"
    },
    {
     "name": "stdout",
     "output_type": "stream",
     "text": [
      "- (Train)   bce:  0.4335, mse:  0.0135,  acc: 90.229 %, pearson: 0.753, spearman: 0.552, elapse: 18.281 s\n"
     ]
    },
    {
     "data": {
      "application/vnd.jupyter.widget-view+json": {
       "model_id": "41f234d800a044d8b1e8906b8af35510",
       "version_major": 2,
       "version_minor": 0
      },
      "text/plain": [
       "  - (Validation)   :   0%|          | 0/10 [00:00<?, ?it/s]"
      ]
     },
     "metadata": {},
     "output_type": "display_data"
    },
    {
     "name": "stdout",
     "output_type": "stream",
     "text": [
      "- (Valid) bce:  0.4457,  acc: 90.029 %,pearson: 0.756, spearman: 0.542,elapse: 0.053 s\n",
      "update_rate: 0.006072\t0.031988\t\n",
      "[ Epoch 68 of 80 ]\n"
     ]
    },
    {
     "data": {
      "application/vnd.jupyter.widget-view+json": {
       "model_id": "cc48c8485e164f9a91be8debfc5d6d5c",
       "version_major": 2,
       "version_minor": 0
      },
      "text/plain": [
       " - (Training) :   0%|          | 0/1000 [00:00<?, ?it/s]"
      ]
     },
     "metadata": {},
     "output_type": "display_data"
    },
    {
     "name": "stdout",
     "output_type": "stream",
     "text": [
      "- (Train)   bce:  0.4338, mse:  0.0135,  acc: 90.187 %, pearson: 0.752, spearman: 0.552, elapse: 18.113 s\n"
     ]
    },
    {
     "data": {
      "application/vnd.jupyter.widget-view+json": {
       "model_id": "d7ab1cb3e14f4c05bb7e40d2bb9fa123",
       "version_major": 2,
       "version_minor": 0
      },
      "text/plain": [
       "  - (Validation)   :   0%|          | 0/10 [00:00<?, ?it/s]"
      ]
     },
     "metadata": {},
     "output_type": "display_data"
    },
    {
     "name": "stdout",
     "output_type": "stream",
     "text": [
      "- (Valid) bce:  0.4571,  acc: 89.443 %,pearson: 0.715, spearman: 0.534,elapse: 0.058 s\n",
      "update_rate: 0.007529\t0.034983\t\n",
      "[ Epoch 69 of 80 ]\n"
     ]
    },
    {
     "data": {
      "application/vnd.jupyter.widget-view+json": {
       "model_id": "95ce5cd9864e4a5ea803faef47ec98f2",
       "version_major": 2,
       "version_minor": 0
      },
      "text/plain": [
       " - (Training) :   0%|          | 0/1000 [00:00<?, ?it/s]"
      ]
     },
     "metadata": {},
     "output_type": "display_data"
    },
    {
     "name": "stdout",
     "output_type": "stream",
     "text": [
      "- (Train)   bce:  0.4327, mse:  0.0135,  acc: 90.223 %, pearson: 0.753, spearman: 0.552, elapse: 18.154 s\n"
     ]
    },
    {
     "data": {
      "application/vnd.jupyter.widget-view+json": {
       "model_id": "b8885675e32e4e319640a09cf562dd27",
       "version_major": 2,
       "version_minor": 0
      },
      "text/plain": [
       "  - (Validation)   :   0%|          | 0/10 [00:00<?, ?it/s]"
      ]
     },
     "metadata": {},
     "output_type": "display_data"
    },
    {
     "name": "stdout",
     "output_type": "stream",
     "text": [
      "- (Valid) bce:  0.4616,  acc: 88.988 %,pearson: 0.727, spearman: 0.533,elapse: 0.054 s\n",
      "update_rate: 0.008098\t0.040368\t\n",
      "[ Epoch 70 of 80 ]\n"
     ]
    },
    {
     "data": {
      "application/vnd.jupyter.widget-view+json": {
       "model_id": "3caa40a694184bc8a01fadde8e878483",
       "version_major": 2,
       "version_minor": 0
      },
      "text/plain": [
       " - (Training) :   0%|          | 0/1000 [00:00<?, ?it/s]"
      ]
     },
     "metadata": {},
     "output_type": "display_data"
    },
    {
     "name": "stdout",
     "output_type": "stream",
     "text": [
      "- (Train)   bce:  0.4333, mse:  0.0135,  acc: 90.165 %, pearson: 0.756, spearman: 0.552, elapse: 19.796 s\n"
     ]
    },
    {
     "data": {
      "application/vnd.jupyter.widget-view+json": {
       "model_id": "e49bd86a16bc4c0695328179166a1b68",
       "version_major": 2,
       "version_minor": 0
      },
      "text/plain": [
       "  - (Validation)   :   0%|          | 0/10 [00:00<?, ?it/s]"
      ]
     },
     "metadata": {},
     "output_type": "display_data"
    },
    {
     "name": "stdout",
     "output_type": "stream",
     "text": [
      "- (Valid) bce:  0.4663,  acc: 88.978 %,pearson: 0.714, spearman: 0.530,elapse: 0.059 s\n",
      "update_rate: 0.007142\t0.032606\t\n",
      "[ Epoch 71 of 80 ]\n"
     ]
    },
    {
     "data": {
      "application/vnd.jupyter.widget-view+json": {
       "model_id": "56b4f413e96e485d8c6d93010b288728",
       "version_major": 2,
       "version_minor": 0
      },
      "text/plain": [
       " - (Training) :   0%|          | 0/1000 [00:00<?, ?it/s]"
      ]
     },
     "metadata": {},
     "output_type": "display_data"
    },
    {
     "name": "stdout",
     "output_type": "stream",
     "text": [
      "- (Train)   bce:  0.4315, mse:  0.0136,  acc: 90.230 %, pearson: 0.754, spearman: 0.553, elapse: 18.670 s\n"
     ]
    },
    {
     "data": {
      "application/vnd.jupyter.widget-view+json": {
       "model_id": "4ad6b92fda34478093711c12d7613505",
       "version_major": 2,
       "version_minor": 0
      },
      "text/plain": [
       "  - (Validation)   :   0%|          | 0/10 [00:00<?, ?it/s]"
      ]
     },
     "metadata": {},
     "output_type": "display_data"
    },
    {
     "name": "stdout",
     "output_type": "stream",
     "text": [
      "- (Valid) bce:  0.4704,  acc: 88.242 %,pearson: 0.713, spearman: 0.524,elapse: 0.084 s\n",
      "update_rate: 0.007372\t0.035055\t\n",
      "[ Epoch 72 of 80 ]\n"
     ]
    },
    {
     "data": {
      "application/vnd.jupyter.widget-view+json": {
       "model_id": "58e8c985e35940edaa854780ab28ba0a",
       "version_major": 2,
       "version_minor": 0
      },
      "text/plain": [
       " - (Training) :   0%|          | 0/1000 [00:00<?, ?it/s]"
      ]
     },
     "metadata": {},
     "output_type": "display_data"
    },
    {
     "name": "stdout",
     "output_type": "stream",
     "text": [
      "- (Train)   bce:  0.4329, mse:  0.0135,  acc: 90.209 %, pearson: 0.755, spearman: 0.552, elapse: 18.688 s\n"
     ]
    },
    {
     "data": {
      "application/vnd.jupyter.widget-view+json": {
       "model_id": "3aa661bd43634ccfb9b5134a9159e3d4",
       "version_major": 2,
       "version_minor": 0
      },
      "text/plain": [
       "  - (Validation)   :   0%|          | 0/10 [00:00<?, ?it/s]"
      ]
     },
     "metadata": {},
     "output_type": "display_data"
    },
    {
     "name": "stdout",
     "output_type": "stream",
     "text": [
      "- (Valid) bce:  0.4616,  acc: 88.809 %,pearson: 0.743, spearman: 0.527,elapse: 0.055 s\n",
      "update_rate: 0.009779\t0.041724\t\n",
      "[ Epoch 73 of 80 ]\n"
     ]
    },
    {
     "data": {
      "application/vnd.jupyter.widget-view+json": {
       "model_id": "db270399f40846a284945fe6539800be",
       "version_major": 2,
       "version_minor": 0
      },
      "text/plain": [
       " - (Training) :   0%|          | 0/1000 [00:00<?, ?it/s]"
      ]
     },
     "metadata": {},
     "output_type": "display_data"
    },
    {
     "name": "stdout",
     "output_type": "stream",
     "text": [
      "- (Train)   bce:  0.4322, mse:  0.0135,  acc: 90.202 %, pearson: 0.754, spearman: 0.552, elapse: 18.272 s\n"
     ]
    },
    {
     "data": {
      "application/vnd.jupyter.widget-view+json": {
       "model_id": "7341e3f2bfc54f079b2a9041745e44f1",
       "version_major": 2,
       "version_minor": 0
      },
      "text/plain": [
       "  - (Validation)   :   0%|          | 0/10 [00:00<?, ?it/s]"
      ]
     },
     "metadata": {},
     "output_type": "display_data"
    },
    {
     "name": "stdout",
     "output_type": "stream",
     "text": [
      "- (Valid) bce:  0.4481,  acc: 89.658 %,pearson: 0.728, spearman: 0.533,elapse: 0.054 s\n",
      "update_rate: 0.012866\t0.066345\t\n",
      "[ Epoch 74 of 80 ]\n"
     ]
    },
    {
     "data": {
      "application/vnd.jupyter.widget-view+json": {
       "model_id": "88d4bb8dd131467fab87f8d33eec3217",
       "version_major": 2,
       "version_minor": 0
      },
      "text/plain": [
       " - (Training) :   0%|          | 0/1000 [00:00<?, ?it/s]"
      ]
     },
     "metadata": {},
     "output_type": "display_data"
    },
    {
     "name": "stdout",
     "output_type": "stream",
     "text": [
      "- (Train)   bce:  0.4317, mse:  0.0135,  acc: 90.247 %, pearson: 0.755, spearman: 0.553, elapse: 18.620 s\n"
     ]
    },
    {
     "data": {
      "application/vnd.jupyter.widget-view+json": {
       "model_id": "877e4d2c5e184a819f64d260f860455c",
       "version_major": 2,
       "version_minor": 0
      },
      "text/plain": [
       "  - (Validation)   :   0%|          | 0/10 [00:00<?, ?it/s]"
      ]
     },
     "metadata": {},
     "output_type": "display_data"
    },
    {
     "name": "stdout",
     "output_type": "stream",
     "text": [
      "- (Valid) bce:  0.4673,  acc: 89.079 %,pearson: 0.719, spearman: 0.524,elapse: 0.057 s\n",
      "update_rate: 0.007205\t0.029900\t\n",
      "[ Epoch 75 of 80 ]\n"
     ]
    },
    {
     "data": {
      "application/vnd.jupyter.widget-view+json": {
       "model_id": "7747b535144b409da3ff1a26ab70c220",
       "version_major": 2,
       "version_minor": 0
      },
      "text/plain": [
       " - (Training) :   0%|          | 0/1000 [00:00<?, ?it/s]"
      ]
     },
     "metadata": {},
     "output_type": "display_data"
    },
    {
     "name": "stdout",
     "output_type": "stream",
     "text": [
      "- (Train)   bce:  0.4326, mse:  0.0135,  acc: 90.214 %, pearson: 0.752, spearman: 0.552, elapse: 21.760 s\n"
     ]
    },
    {
     "data": {
      "application/vnd.jupyter.widget-view+json": {
       "model_id": "b3a897578da9483ebbfb8ac2aa1ef8e8",
       "version_major": 2,
       "version_minor": 0
      },
      "text/plain": [
       "  - (Validation)   :   0%|          | 0/10 [00:00<?, ?it/s]"
      ]
     },
     "metadata": {},
     "output_type": "display_data"
    },
    {
     "name": "stdout",
     "output_type": "stream",
     "text": [
      "- (Valid) bce:  0.4544,  acc: 89.268 %,pearson: 0.739, spearman: 0.537,elapse: 0.061 s\n",
      "update_rate: 0.007087\t0.031340\t\n",
      "[ Epoch 76 of 80 ]\n"
     ]
    },
    {
     "data": {
      "application/vnd.jupyter.widget-view+json": {
       "model_id": "9dc68af4eec5470e947f3c70e17bb289",
       "version_major": 2,
       "version_minor": 0
      },
      "text/plain": [
       " - (Training) :   0%|          | 0/1000 [00:00<?, ?it/s]"
      ]
     },
     "metadata": {},
     "output_type": "display_data"
    },
    {
     "name": "stdout",
     "output_type": "stream",
     "text": [
      "- (Train)   bce:  0.4328, mse:  0.0135,  acc: 90.232 %, pearson: 0.756, spearman: 0.552, elapse: 18.983 s\n"
     ]
    },
    {
     "data": {
      "application/vnd.jupyter.widget-view+json": {
       "model_id": "502debccbf234ceda665ec762f38a857",
       "version_major": 2,
       "version_minor": 0
      },
      "text/plain": [
       "  - (Validation)   :   0%|          | 0/10 [00:00<?, ?it/s]"
      ]
     },
     "metadata": {},
     "output_type": "display_data"
    },
    {
     "name": "stdout",
     "output_type": "stream",
     "text": [
      "- (Valid) bce:  0.4432,  acc: 89.622 %,pearson: 0.728, spearman: 0.540,elapse: 0.072 s\n",
      "update_rate: 0.008303\t0.040887\t\n",
      "[ Epoch 77 of 80 ]\n"
     ]
    },
    {
     "data": {
      "application/vnd.jupyter.widget-view+json": {
       "model_id": "6aac3cc3a00b40fa803058731bdac9c1",
       "version_major": 2,
       "version_minor": 0
      },
      "text/plain": [
       " - (Training) :   0%|          | 0/1000 [00:00<?, ?it/s]"
      ]
     },
     "metadata": {},
     "output_type": "display_data"
    },
    {
     "name": "stdout",
     "output_type": "stream",
     "text": [
      "- (Train)   bce:  0.4319, mse:  0.0135,  acc: 90.218 %, pearson: 0.753, spearman: 0.552, elapse: 18.089 s\n"
     ]
    },
    {
     "data": {
      "application/vnd.jupyter.widget-view+json": {
       "model_id": "84ec7fb81632453f9320a7e4efbb49f7",
       "version_major": 2,
       "version_minor": 0
      },
      "text/plain": [
       "  - (Validation)   :   0%|          | 0/10 [00:00<?, ?it/s]"
      ]
     },
     "metadata": {},
     "output_type": "display_data"
    },
    {
     "name": "stdout",
     "output_type": "stream",
     "text": [
      "- (Valid) bce:  0.4621,  acc: 89.912 %,pearson: 0.719, spearman: 0.532,elapse: 0.062 s\n",
      "update_rate: 0.011069\t0.052932\t\n",
      "[ Epoch 78 of 80 ]\n"
     ]
    },
    {
     "data": {
      "application/vnd.jupyter.widget-view+json": {
       "model_id": "af873e24ad1348ddb56ed701f61bcf3e",
       "version_major": 2,
       "version_minor": 0
      },
      "text/plain": [
       " - (Training) :   0%|          | 0/1000 [00:00<?, ?it/s]"
      ]
     },
     "metadata": {},
     "output_type": "display_data"
    },
    {
     "name": "stdout",
     "output_type": "stream",
     "text": [
      "- (Train)   bce:  0.4316, mse:  0.0135,  acc: 90.212 %, pearson: 0.754, spearman: 0.553, elapse: 18.226 s\n"
     ]
    },
    {
     "data": {
      "application/vnd.jupyter.widget-view+json": {
       "model_id": "41c42abe1a3345bf87f5e8e6627be5ed",
       "version_major": 2,
       "version_minor": 0
      },
      "text/plain": [
       "  - (Validation)   :   0%|          | 0/10 [00:00<?, ?it/s]"
      ]
     },
     "metadata": {},
     "output_type": "display_data"
    },
    {
     "name": "stdout",
     "output_type": "stream",
     "text": [
      "- (Valid) bce:  0.4588,  acc: 89.551 %,pearson: 0.742, spearman: 0.536,elapse: 0.056 s\n",
      "update_rate: 0.008733\t0.042889\t\n",
      "[ Epoch 79 of 80 ]\n"
     ]
    },
    {
     "data": {
      "application/vnd.jupyter.widget-view+json": {
       "model_id": "09947c7a61ee46cca57a6cf43f9f9e83",
       "version_major": 2,
       "version_minor": 0
      },
      "text/plain": [
       " - (Training) :   0%|          | 0/1000 [00:00<?, ?it/s]"
      ]
     },
     "metadata": {},
     "output_type": "display_data"
    },
    {
     "name": "stdout",
     "output_type": "stream",
     "text": [
      "- (Train)   bce:  0.4313, mse:  0.0135,  acc: 90.233 %, pearson: 0.757, spearman: 0.553, elapse: 19.464 s\n"
     ]
    },
    {
     "data": {
      "application/vnd.jupyter.widget-view+json": {
       "model_id": "bb734dce3b5c457986d37baa5c45cff8",
       "version_major": 2,
       "version_minor": 0
      },
      "text/plain": [
       "  - (Validation)   :   0%|          | 0/10 [00:00<?, ?it/s]"
      ]
     },
     "metadata": {},
     "output_type": "display_data"
    },
    {
     "name": "stdout",
     "output_type": "stream",
     "text": [
      "- (Valid) bce:  0.4500,  acc: 89.421 %,pearson: 0.729, spearman: 0.538,elapse: 0.071 s\n",
      "update_rate: 0.008359\t0.041457\t\n"
     ]
    },
    {
     "data": {
      "application/vnd.jupyter.widget-view+json": {
       "model_id": "04c911bed9b74ca7a150c0e12b0abe22",
       "version_major": 2,
       "version_minor": 0
      },
      "text/plain": [
       "  - (Validation)   :   0%|          | 0/10 [00:00<?, ?it/s]"
      ]
     },
     "metadata": {},
     "output_type": "display_data"
    },
    {
     "name": "stdout",
     "output_type": "stream",
     "text": [
      "  - (Validation-hyper) bce:  0.5141,  acc: 84.264 %, auc: 0.705, aupr: 0.499,elapse: 4.798 s\n"
     ]
    }
   ],
   "source": [
    "# 第三步：训练模型\n",
    "higashi_model.train_for_embeddings()"
   ]
  },
  {
   "cell_type": "code",
   "execution_count": 11,
   "id": "a7d6b0a7",
   "metadata": {},
   "outputs": [
    {
     "name": "stdout",
     "output_type": "stream",
     "text": [
      "cell_embeddings shape: (79, 128)\n",
      "嵌入已保存至: /data5/GPT/Wuky/Higashi/Higashi/WKY_data/thp_cell_embeddings.npy\n"
     ]
    }
   ],
   "source": [
    "# 第四步: 获取嵌入\n",
    "cell_embeddings = higashi_model.fetch_cell_embeddings()\n",
    "print(\"cell_embeddings shape:\", cell_embeddings.shape)\n",
    "\n",
    "# 保存为 .npy 文件，自己用 numpy 保存\n",
    "import numpy as np\n",
    "embedding_file = \"/data5/GPT/Wuky/Higashi/Higashi/WKY_data/thp_cell_embeddings.npy\"\n",
    "np.save(embedding_file, cell_embeddings)\n",
    "print(f\"嵌入已保存至: {embedding_file}\")\n"
   ]
  },
  {
   "cell_type": "code",
   "execution_count": 14,
   "id": "bca893a2-827d-4925-85f5-2d14dfec8734",
   "metadata": {},
   "outputs": [
    {
     "data": {
      "image/png": "[encoded data removed]",
      "text/plain": [
       "<Figure size 700x600 with 1 Axes>"
      ]
     },
     "metadata": {},
     "output_type": "display_data"
    }
   ],
   "source": [
    "# 用 UMAP 绘制细胞类型降维图\n",
    "from umap import UMAP\n",
    "import seaborn as sns\n",
    "import matplotlib.pyplot as plt\n",
    "\n",
    "vec = UMAP(n_components=2, n_neighbors=25, random_state=0).fit_transform(cell_embeddings)\n",
    "cell_type = higashi_model.label_info['cell type']\n",
    "\n",
    "plt.figure(figsize=(7,6))\n",
    "sns.scatterplot(x=vec[:,0], y=vec[:,1], hue=cell_type,\n",
    "                palette={'sthp':'#1f77b4','thp':'#ff7f0e'}, s=20, alpha=0.8, linewidth=0)\n",
    "plt.title(\"UMAP of THP/STHP cells\")\n",
    "plt.xlabel(\"UMAP1\")\n",
    "plt.ylabel(\"UMAP2\")\n",
    "plt.legend(title=\"Cell type\", bbox_to_anchor=(1.05,1), loc=2)\n",
    "plt.tight_layout()\n",
    "plt.show()\n",
    "\n",
    "\n",
    "\n"
   ]
  },
  {
   "cell_type": "code",
   "execution_count": null,
   "id": "159f9813-f032-47e3-92b4-a06915830bdf",
   "metadata": {},
   "outputs": [],
   "source": []
  }
 ],
 "metadata": {
  "kernelspec": {
   "display_name": "Python 3 (ipykernel)",
   "language": "python",
   "name": "python3"
  },
  "language_info": {
   "codemirror_mode": {
    "name": "ipython",
    "version": 3
   },
   "file_extension": ".py",
   "mimetype": "text/x-python",
   "name": "python",
   "nbconvert_exporter": "python",
   "pygments_lexer": "ipython3",
   "version": "3.9.23"
  }
 },
 "nbformat": 4,
 "nbformat_minor": 5
}
